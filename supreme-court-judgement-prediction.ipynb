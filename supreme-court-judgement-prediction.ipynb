{
 "cells": [
  {
   "cell_type": "markdown",
   "id": "8b03f930",
   "metadata": {
    "papermill": {
     "duration": 0.101068,
     "end_time": "2022-02-09T05:21:46.220403",
     "exception": false,
     "start_time": "2022-02-09T05:21:46.119335",
     "status": "completed"
    },
    "tags": []
   },
   "source": [
    "# 1. **Importing libraries that are planned to be used in our process**"
   ]
  },
  {
   "cell_type": "code",
   "execution_count": 1,
   "id": "6fdef940",
   "metadata": {
    "_cell_guid": "b1076dfc-b9ad-4769-8c92-a6c4dae69d19",
    "_kg_hide-input": false,
    "_uuid": "8f2839f25d086af736a60e9eeb907d3b93b6e0e5",
    "execution": {
     "iopub.execute_input": "2022-02-09T05:21:46.354555Z",
     "iopub.status.busy": "2022-02-09T05:21:46.353754Z",
     "iopub.status.idle": "2022-02-09T05:21:48.011095Z",
     "shell.execute_reply": "2022-02-09T05:21:48.011899Z",
     "shell.execute_reply.started": "2022-02-02T09:52:21.479061Z"
    },
    "papermill": {
     "duration": 1.731685,
     "end_time": "2022-02-09T05:21:48.012168",
     "exception": false,
     "start_time": "2022-02-09T05:21:46.280483",
     "status": "completed"
    },
    "tags": []
   },
   "outputs": [
    {
     "name": "stdout",
     "output_type": "stream",
     "text": [
      "/kaggle/input/supreme-court-judgment-prediction/justice.csv\n"
     ]
    }
   ],
   "source": [
    "# This Python 3 environment comes with many helpful analytics libraries installed\n",
    "# It is defined by the kaggle/python Docker image: https://github.com/kaggle/docker-python\n",
    "# For example, here's several helpful packages to load\n",
    "\n",
    "import numpy as np # linear algebra\n",
    "import pandas as pd # data processing, CSV file I/O (e.g. pd.read_csv)\n",
    "\n",
    "from sklearn.model_selection import train_test_split\n",
    "from sklearn.metrics import classification_report\n",
    "\n",
    "from xgboost import XGBClassifier\n",
    "from sklearn.linear_model import LogisticRegression\n",
    "from sklearn.neighbors import KNeighborsClassifier\n",
    "\n",
    "from sklearn.metrics import accuracy_score\n",
    "## for data\n",
    "import pandas as pd\n",
    "\n",
    "import re\n",
    "import nltk## for language detection\n",
    "\n",
    "\n",
    "\n",
    "import os\n",
    "for dirname, _, filenames in os.walk('/kaggle/input'):\n",
    "    for filename in filenames:\n",
    "        print(os.path.join(dirname, filename))"
   ]
  },
  {
   "cell_type": "markdown",
   "id": "e8075d04",
   "metadata": {
    "papermill": {
     "duration": 0.057922,
     "end_time": "2022-02-09T05:21:48.131353",
     "exception": false,
     "start_time": "2022-02-09T05:21:48.073431",
     "status": "completed"
    },
    "tags": []
   },
   "source": [
    "# 2. Reading the dataset with pandas, dropping null values (calculated earlier at less than 5%) and creating a copy of the dataframe for the modelling process"
   ]
  },
  {
   "cell_type": "code",
   "execution_count": 2,
   "id": "8ebee50f",
   "metadata": {
    "execution": {
     "iopub.execute_input": "2022-02-09T05:21:48.254991Z",
     "iopub.status.busy": "2022-02-09T05:21:48.254395Z",
     "iopub.status.idle": "2022-02-09T05:21:48.423539Z",
     "shell.execute_reply": "2022-02-09T05:21:48.424021Z",
     "shell.execute_reply.started": "2022-02-02T09:52:23.340715Z"
    },
    "papermill": {
     "duration": 0.234452,
     "end_time": "2022-02-09T05:21:48.424176",
     "exception": false,
     "start_time": "2022-02-09T05:21:48.189724",
     "status": "completed"
    },
    "tags": []
   },
   "outputs": [
    {
     "data": {
      "text/html": [
       "<div>\n",
       "<style scoped>\n",
       "    .dataframe tbody tr th:only-of-type {\n",
       "        vertical-align: middle;\n",
       "    }\n",
       "\n",
       "    .dataframe tbody tr th {\n",
       "        vertical-align: top;\n",
       "    }\n",
       "\n",
       "    .dataframe thead th {\n",
       "        text-align: right;\n",
       "    }\n",
       "</style>\n",
       "<table border=\"1\" class=\"dataframe\">\n",
       "  <thead>\n",
       "    <tr style=\"text-align: right;\">\n",
       "      <th></th>\n",
       "      <th>Unnamed: 0</th>\n",
       "      <th>ID</th>\n",
       "      <th>name</th>\n",
       "      <th>href</th>\n",
       "      <th>docket</th>\n",
       "      <th>term</th>\n",
       "      <th>first_party</th>\n",
       "      <th>second_party</th>\n",
       "      <th>facts</th>\n",
       "      <th>facts_len</th>\n",
       "      <th>majority_vote</th>\n",
       "      <th>minority_vote</th>\n",
       "      <th>first_party_winner</th>\n",
       "      <th>decision_type</th>\n",
       "      <th>disposition</th>\n",
       "      <th>issue_area</th>\n",
       "    </tr>\n",
       "  </thead>\n",
       "  <tbody>\n",
       "    <tr>\n",
       "      <th>1</th>\n",
       "      <td>1</td>\n",
       "      <td>50613</td>\n",
       "      <td>Stanley v. Illinois</td>\n",
       "      <td>https://api.oyez.org/cases/1971/70-5014</td>\n",
       "      <td>70-5014</td>\n",
       "      <td>1971</td>\n",
       "      <td>Peter Stanley, Sr.</td>\n",
       "      <td>Illinois</td>\n",
       "      <td>&lt;p&gt;Joan Stanley had three children with Peter ...</td>\n",
       "      <td>757</td>\n",
       "      <td>5</td>\n",
       "      <td>2</td>\n",
       "      <td>True</td>\n",
       "      <td>majority opinion</td>\n",
       "      <td>reversed/remanded</td>\n",
       "      <td>Civil Rights</td>\n",
       "    </tr>\n",
       "    <tr>\n",
       "      <th>2</th>\n",
       "      <td>2</td>\n",
       "      <td>50623</td>\n",
       "      <td>Giglio v. United States</td>\n",
       "      <td>https://api.oyez.org/cases/1971/70-29</td>\n",
       "      <td>70-29</td>\n",
       "      <td>1971</td>\n",
       "      <td>John Giglio</td>\n",
       "      <td>United States</td>\n",
       "      <td>&lt;p&gt;John Giglio was convicted of passing forged...</td>\n",
       "      <td>495</td>\n",
       "      <td>7</td>\n",
       "      <td>0</td>\n",
       "      <td>True</td>\n",
       "      <td>majority opinion</td>\n",
       "      <td>reversed/remanded</td>\n",
       "      <td>Due Process</td>\n",
       "    </tr>\n",
       "    <tr>\n",
       "      <th>3</th>\n",
       "      <td>3</td>\n",
       "      <td>50632</td>\n",
       "      <td>Reed v. Reed</td>\n",
       "      <td>https://api.oyez.org/cases/1971/70-4</td>\n",
       "      <td>70-4</td>\n",
       "      <td>1971</td>\n",
       "      <td>Sally Reed</td>\n",
       "      <td>Cecil Reed</td>\n",
       "      <td>&lt;p&gt;The Idaho Probate Code specified that \"male...</td>\n",
       "      <td>378</td>\n",
       "      <td>7</td>\n",
       "      <td>0</td>\n",
       "      <td>True</td>\n",
       "      <td>majority opinion</td>\n",
       "      <td>reversed/remanded</td>\n",
       "      <td>Civil Rights</td>\n",
       "    </tr>\n",
       "    <tr>\n",
       "      <th>4</th>\n",
       "      <td>4</td>\n",
       "      <td>50643</td>\n",
       "      <td>Miller v. California</td>\n",
       "      <td>https://api.oyez.org/cases/1971/70-73</td>\n",
       "      <td>70-73</td>\n",
       "      <td>1971</td>\n",
       "      <td>Marvin Miller</td>\n",
       "      <td>California</td>\n",
       "      <td>&lt;p&gt;Miller, after conducting a mass mailing cam...</td>\n",
       "      <td>305</td>\n",
       "      <td>5</td>\n",
       "      <td>4</td>\n",
       "      <td>True</td>\n",
       "      <td>majority opinion</td>\n",
       "      <td>vacated/remanded</td>\n",
       "      <td>First Amendment</td>\n",
       "    </tr>\n",
       "    <tr>\n",
       "      <th>5</th>\n",
       "      <td>5</td>\n",
       "      <td>50644</td>\n",
       "      <td>Kleindienst v. Mandel</td>\n",
       "      <td>https://api.oyez.org/cases/1971/71-16</td>\n",
       "      <td>71-16</td>\n",
       "      <td>1971</td>\n",
       "      <td>Richard G. Kleindienst, Attorney General of th...</td>\n",
       "      <td>Ernest E. Mandel, et al.</td>\n",
       "      <td>&lt;p&gt;Ernest E. Mandel was a Belgian professional...</td>\n",
       "      <td>2282</td>\n",
       "      <td>6</td>\n",
       "      <td>3</td>\n",
       "      <td>True</td>\n",
       "      <td>majority opinion</td>\n",
       "      <td>reversed</td>\n",
       "      <td>First Amendment</td>\n",
       "    </tr>\n",
       "  </tbody>\n",
       "</table>\n",
       "</div>"
      ],
      "text/plain": [
       "   Unnamed: 0     ID                     name  \\\n",
       "1           1  50613      Stanley v. Illinois   \n",
       "2           2  50623  Giglio v. United States   \n",
       "3           3  50632             Reed v. Reed   \n",
       "4           4  50643     Miller v. California   \n",
       "5           5  50644    Kleindienst v. Mandel   \n",
       "\n",
       "                                      href   docket  term  \\\n",
       "1  https://api.oyez.org/cases/1971/70-5014  70-5014  1971   \n",
       "2    https://api.oyez.org/cases/1971/70-29    70-29  1971   \n",
       "3     https://api.oyez.org/cases/1971/70-4     70-4  1971   \n",
       "4    https://api.oyez.org/cases/1971/70-73    70-73  1971   \n",
       "5    https://api.oyez.org/cases/1971/71-16    71-16  1971   \n",
       "\n",
       "                                         first_party  \\\n",
       "1                                Peter Stanley, Sr.    \n",
       "2                                       John Giglio    \n",
       "3                                         Sally Reed   \n",
       "4                                      Marvin Miller   \n",
       "5  Richard G. Kleindienst, Attorney General of th...   \n",
       "\n",
       "               second_party  \\\n",
       "1                  Illinois   \n",
       "2             United States   \n",
       "3                Cecil Reed   \n",
       "4                California   \n",
       "5  Ernest E. Mandel, et al.   \n",
       "\n",
       "                                               facts  facts_len  \\\n",
       "1  <p>Joan Stanley had three children with Peter ...        757   \n",
       "2  <p>John Giglio was convicted of passing forged...        495   \n",
       "3  <p>The Idaho Probate Code specified that \"male...        378   \n",
       "4  <p>Miller, after conducting a mass mailing cam...        305   \n",
       "5  <p>Ernest E. Mandel was a Belgian professional...       2282   \n",
       "\n",
       "   majority_vote  minority_vote first_party_winner     decision_type  \\\n",
       "1              5              2               True  majority opinion   \n",
       "2              7              0               True  majority opinion   \n",
       "3              7              0               True  majority opinion   \n",
       "4              5              4               True  majority opinion   \n",
       "5              6              3               True  majority opinion   \n",
       "\n",
       "         disposition       issue_area  \n",
       "1  reversed/remanded     Civil Rights  \n",
       "2  reversed/remanded      Due Process  \n",
       "3  reversed/remanded     Civil Rights  \n",
       "4   vacated/remanded  First Amendment  \n",
       "5           reversed  First Amendment  "
      ]
     },
     "execution_count": 2,
     "metadata": {},
     "output_type": "execute_result"
    }
   ],
   "source": [
    "df = pd.read_csv('../input/supreme-court-judgment-prediction/justice.csv', delimiter=',', encoding = \"utf8\")\n",
    "df.dropna(inplace=True)\n",
    "df.head()"
   ]
  },
  {
   "cell_type": "code",
   "execution_count": 3,
   "id": "2f37b5a7",
   "metadata": {
    "execution": {
     "iopub.execute_input": "2022-02-09T05:21:48.547648Z",
     "iopub.status.busy": "2022-02-09T05:21:48.547053Z",
     "iopub.status.idle": "2022-02-09T05:21:48.550649Z",
     "shell.execute_reply": "2022-02-09T05:21:48.550130Z",
     "shell.execute_reply.started": "2022-02-02T09:52:23.543792Z"
    },
    "papermill": {
     "duration": 0.066771,
     "end_time": "2022-02-09T05:21:48.550756",
     "exception": false,
     "start_time": "2022-02-09T05:21:48.483985",
     "status": "completed"
    },
    "tags": []
   },
   "outputs": [],
   "source": [
    "df1 = df.copy()"
   ]
  },
  {
   "cell_type": "code",
   "execution_count": 4,
   "id": "e9074ce6",
   "metadata": {
    "execution": {
     "iopub.execute_input": "2022-02-09T05:21:48.678626Z",
     "iopub.status.busy": "2022-02-09T05:21:48.677966Z",
     "iopub.status.idle": "2022-02-09T05:21:48.681045Z",
     "shell.execute_reply": "2022-02-09T05:21:48.680609Z",
     "shell.execute_reply.started": "2022-02-02T09:52:23.552598Z"
    },
    "papermill": {
     "duration": 0.070303,
     "end_time": "2022-02-09T05:21:48.681148",
     "exception": false,
     "start_time": "2022-02-09T05:21:48.610845",
     "status": "completed"
    },
    "tags": []
   },
   "outputs": [],
   "source": [
    "df1.drop(columns=['Unnamed: 0', 'docket','name','first_party','second_party', 'issue_area', \n",
    "                 'facts_len', 'majority_vote', 'minority_vote', 'href', 'ID','term'], inplace=True)"
   ]
  },
  {
   "cell_type": "markdown",
   "id": "d58ed131",
   "metadata": {
    "papermill": {
     "duration": 0.062016,
     "end_time": "2022-02-09T05:21:48.802691",
     "exception": false,
     "start_time": "2022-02-09T05:21:48.740675",
     "status": "completed"
    },
    "tags": []
   },
   "source": [
    "# 3. Seperating the dataset into target variables and two groups of independent variables, one (df_cat) which requires one-hot encoding to be machine readable and the other (df_nlp) which is text data which needs to be cleaned for features to be engineered from it."
   ]
  },
  {
   "cell_type": "code",
   "execution_count": 5,
   "id": "f9c5cda1",
   "metadata": {
    "execution": {
     "iopub.execute_input": "2022-02-09T05:21:48.930722Z",
     "iopub.status.busy": "2022-02-09T05:21:48.930113Z",
     "iopub.status.idle": "2022-02-09T05:21:48.933211Z",
     "shell.execute_reply": "2022-02-09T05:21:48.932806Z",
     "shell.execute_reply.started": "2022-02-02T09:52:23.571522Z"
    },
    "papermill": {
     "duration": 0.068107,
     "end_time": "2022-02-09T05:21:48.933328",
     "exception": false,
     "start_time": "2022-02-09T05:21:48.865221",
     "status": "completed"
    },
    "tags": []
   },
   "outputs": [],
   "source": [
    "df_cat = df1[['decision_type', 'disposition']]"
   ]
  },
  {
   "cell_type": "code",
   "execution_count": 6,
   "id": "5bcc59d0",
   "metadata": {
    "execution": {
     "iopub.execute_input": "2022-02-09T05:21:49.058782Z",
     "iopub.status.busy": "2022-02-09T05:21:49.058155Z",
     "iopub.status.idle": "2022-02-09T05:21:49.060883Z",
     "shell.execute_reply": "2022-02-09T05:21:49.060424Z",
     "shell.execute_reply.started": "2022-02-02T09:52:23.583346Z"
    },
    "papermill": {
     "duration": 0.06839,
     "end_time": "2022-02-09T05:21:49.060991",
     "exception": false,
     "start_time": "2022-02-09T05:21:48.992601",
     "status": "completed"
    },
    "tags": []
   },
   "outputs": [],
   "source": [
    "df_target = df1['first_party_winner']"
   ]
  },
  {
   "cell_type": "code",
   "execution_count": 7,
   "id": "34ffe9f8",
   "metadata": {
    "execution": {
     "iopub.execute_input": "2022-02-09T05:21:49.184379Z",
     "iopub.status.busy": "2022-02-09T05:21:49.183733Z",
     "iopub.status.idle": "2022-02-09T05:21:49.185938Z",
     "shell.execute_reply": "2022-02-09T05:21:49.186450Z",
     "shell.execute_reply.started": "2022-02-02T09:52:23.595085Z"
    },
    "papermill": {
     "duration": 0.06596,
     "end_time": "2022-02-09T05:21:49.186635",
     "exception": false,
     "start_time": "2022-02-09T05:21:49.120675",
     "status": "completed"
    },
    "tags": []
   },
   "outputs": [],
   "source": [
    "df_nlp = df1['facts']"
   ]
  },
  {
   "cell_type": "markdown",
   "id": "80b30a76",
   "metadata": {
    "papermill": {
     "duration": 0.058658,
     "end_time": "2022-02-09T05:21:49.304665",
     "exception": false,
     "start_time": "2022-02-09T05:21:49.246007",
     "status": "completed"
    },
    "tags": []
   },
   "source": [
    "# 4. Resetting indices to avoid NaNs during concatenation and performing one-hot encoding"
   ]
  },
  {
   "cell_type": "code",
   "execution_count": 8,
   "id": "1ff2f026",
   "metadata": {
    "execution": {
     "iopub.execute_input": "2022-02-09T05:21:49.430540Z",
     "iopub.status.busy": "2022-02-09T05:21:49.429788Z",
     "iopub.status.idle": "2022-02-09T05:21:49.431877Z",
     "shell.execute_reply": "2022-02-09T05:21:49.432353Z",
     "shell.execute_reply.started": "2022-02-02T09:52:23.607732Z"
    },
    "papermill": {
     "duration": 0.066151,
     "end_time": "2022-02-09T05:21:49.432503",
     "exception": false,
     "start_time": "2022-02-09T05:21:49.366352",
     "status": "completed"
    },
    "tags": []
   },
   "outputs": [],
   "source": [
    "df_cat.reset_index(drop=True, inplace=True)\n",
    "df_target.reset_index(drop=True, inplace=True)\n",
    "df_nlp.reset_index(drop=True, inplace=True)"
   ]
  },
  {
   "cell_type": "code",
   "execution_count": 9,
   "id": "93486a3b",
   "metadata": {
    "execution": {
     "iopub.execute_input": "2022-02-09T05:21:49.556354Z",
     "iopub.status.busy": "2022-02-09T05:21:49.555424Z",
     "iopub.status.idle": "2022-02-09T05:21:49.558000Z",
     "shell.execute_reply": "2022-02-09T05:21:49.557603Z",
     "shell.execute_reply.started": "2022-02-02T09:52:23.618615Z"
    },
    "papermill": {
     "duration": 0.066918,
     "end_time": "2022-02-09T05:21:49.558105",
     "exception": false,
     "start_time": "2022-02-09T05:21:49.491187",
     "status": "completed"
    },
    "tags": []
   },
   "outputs": [],
   "source": [
    "from sklearn import preprocessing\n",
    "label_encoder = preprocessing.LabelEncoder()\n",
    "df_target= label_encoder.fit_transform(df_target)"
   ]
  },
  {
   "cell_type": "code",
   "execution_count": 10,
   "id": "5824fab5",
   "metadata": {
    "execution": {
     "iopub.execute_input": "2022-02-09T05:21:49.685719Z",
     "iopub.status.busy": "2022-02-09T05:21:49.684968Z",
     "iopub.status.idle": "2022-02-09T05:21:49.687881Z",
     "shell.execute_reply": "2022-02-09T05:21:49.688277Z",
     "shell.execute_reply.started": "2022-02-02T09:52:23.630343Z"
    },
    "papermill": {
     "duration": 0.071363,
     "end_time": "2022-02-09T05:21:49.688396",
     "exception": false,
     "start_time": "2022-02-09T05:21:49.617033",
     "status": "completed"
    },
    "tags": []
   },
   "outputs": [
    {
     "data": {
      "text/html": [
       "<div>\n",
       "<style scoped>\n",
       "    .dataframe tbody tr th:only-of-type {\n",
       "        vertical-align: middle;\n",
       "    }\n",
       "\n",
       "    .dataframe tbody tr th {\n",
       "        vertical-align: top;\n",
       "    }\n",
       "\n",
       "    .dataframe thead th {\n",
       "        text-align: right;\n",
       "    }\n",
       "</style>\n",
       "<table border=\"1\" class=\"dataframe\">\n",
       "  <thead>\n",
       "    <tr style=\"text-align: right;\">\n",
       "      <th></th>\n",
       "      <th>first_party_winner</th>\n",
       "    </tr>\n",
       "  </thead>\n",
       "  <tbody>\n",
       "    <tr>\n",
       "      <th>0</th>\n",
       "      <td>1</td>\n",
       "    </tr>\n",
       "    <tr>\n",
       "      <th>1</th>\n",
       "      <td>1</td>\n",
       "    </tr>\n",
       "    <tr>\n",
       "      <th>2</th>\n",
       "      <td>1</td>\n",
       "    </tr>\n",
       "    <tr>\n",
       "      <th>3</th>\n",
       "      <td>1</td>\n",
       "    </tr>\n",
       "    <tr>\n",
       "      <th>4</th>\n",
       "      <td>1</td>\n",
       "    </tr>\n",
       "    <tr>\n",
       "      <th>...</th>\n",
       "      <td>...</td>\n",
       "    </tr>\n",
       "    <tr>\n",
       "      <th>3093</th>\n",
       "      <td>1</td>\n",
       "    </tr>\n",
       "    <tr>\n",
       "      <th>3094</th>\n",
       "      <td>1</td>\n",
       "    </tr>\n",
       "    <tr>\n",
       "      <th>3095</th>\n",
       "      <td>0</td>\n",
       "    </tr>\n",
       "    <tr>\n",
       "      <th>3096</th>\n",
       "      <td>1</td>\n",
       "    </tr>\n",
       "    <tr>\n",
       "      <th>3097</th>\n",
       "      <td>1</td>\n",
       "    </tr>\n",
       "  </tbody>\n",
       "</table>\n",
       "<p>3098 rows × 1 columns</p>\n",
       "</div>"
      ],
      "text/plain": [
       "      first_party_winner\n",
       "0                      1\n",
       "1                      1\n",
       "2                      1\n",
       "3                      1\n",
       "4                      1\n",
       "...                  ...\n",
       "3093                   1\n",
       "3094                   1\n",
       "3095                   0\n",
       "3096                   1\n",
       "3097                   1\n",
       "\n",
       "[3098 rows x 1 columns]"
      ]
     },
     "execution_count": 10,
     "metadata": {},
     "output_type": "execute_result"
    }
   ],
   "source": [
    "df_target1 = pd.DataFrame(df_target, columns=['first_party_winner'])\n",
    "df_target1"
   ]
  },
  {
   "cell_type": "code",
   "execution_count": 11,
   "id": "3ad11b17",
   "metadata": {
    "execution": {
     "iopub.execute_input": "2022-02-09T05:21:49.814387Z",
     "iopub.status.busy": "2022-02-09T05:21:49.813614Z",
     "iopub.status.idle": "2022-02-09T05:21:49.822039Z",
     "shell.execute_reply": "2022-02-09T05:21:49.821599Z",
     "shell.execute_reply.started": "2022-02-02T09:52:23.648079Z"
    },
    "papermill": {
     "duration": 0.074363,
     "end_time": "2022-02-09T05:21:49.822141",
     "exception": false,
     "start_time": "2022-02-09T05:21:49.747778",
     "status": "completed"
    },
    "tags": []
   },
   "outputs": [
    {
     "data": {
      "text/html": [
       "<div>\n",
       "<style scoped>\n",
       "    .dataframe tbody tr th:only-of-type {\n",
       "        vertical-align: middle;\n",
       "    }\n",
       "\n",
       "    .dataframe tbody tr th {\n",
       "        vertical-align: top;\n",
       "    }\n",
       "\n",
       "    .dataframe thead th {\n",
       "        text-align: right;\n",
       "    }\n",
       "</style>\n",
       "<table border=\"1\" class=\"dataframe\">\n",
       "  <thead>\n",
       "    <tr style=\"text-align: right;\">\n",
       "      <th></th>\n",
       "      <th>decision_type</th>\n",
       "      <th>disposition</th>\n",
       "      <th>first_party_winner</th>\n",
       "    </tr>\n",
       "  </thead>\n",
       "  <tbody>\n",
       "    <tr>\n",
       "      <th>0</th>\n",
       "      <td>majority opinion</td>\n",
       "      <td>reversed/remanded</td>\n",
       "      <td>1</td>\n",
       "    </tr>\n",
       "    <tr>\n",
       "      <th>1</th>\n",
       "      <td>majority opinion</td>\n",
       "      <td>reversed/remanded</td>\n",
       "      <td>1</td>\n",
       "    </tr>\n",
       "    <tr>\n",
       "      <th>2</th>\n",
       "      <td>majority opinion</td>\n",
       "      <td>reversed/remanded</td>\n",
       "      <td>1</td>\n",
       "    </tr>\n",
       "    <tr>\n",
       "      <th>3</th>\n",
       "      <td>majority opinion</td>\n",
       "      <td>vacated/remanded</td>\n",
       "      <td>1</td>\n",
       "    </tr>\n",
       "    <tr>\n",
       "      <th>4</th>\n",
       "      <td>majority opinion</td>\n",
       "      <td>reversed</td>\n",
       "      <td>1</td>\n",
       "    </tr>\n",
       "    <tr>\n",
       "      <th>...</th>\n",
       "      <td>...</td>\n",
       "      <td>...</td>\n",
       "      <td>...</td>\n",
       "    </tr>\n",
       "    <tr>\n",
       "      <th>3093</th>\n",
       "      <td>majority opinion</td>\n",
       "      <td>reversed/remanded</td>\n",
       "      <td>1</td>\n",
       "    </tr>\n",
       "    <tr>\n",
       "      <th>3094</th>\n",
       "      <td>majority opinion</td>\n",
       "      <td>reversed/remanded</td>\n",
       "      <td>1</td>\n",
       "    </tr>\n",
       "    <tr>\n",
       "      <th>3095</th>\n",
       "      <td>majority opinion</td>\n",
       "      <td>affirmed</td>\n",
       "      <td>0</td>\n",
       "    </tr>\n",
       "    <tr>\n",
       "      <th>3096</th>\n",
       "      <td>majority opinion</td>\n",
       "      <td>vacated/remanded</td>\n",
       "      <td>1</td>\n",
       "    </tr>\n",
       "    <tr>\n",
       "      <th>3097</th>\n",
       "      <td>majority opinion</td>\n",
       "      <td>reversed/remanded</td>\n",
       "      <td>1</td>\n",
       "    </tr>\n",
       "  </tbody>\n",
       "</table>\n",
       "<p>3098 rows × 3 columns</p>\n",
       "</div>"
      ],
      "text/plain": [
       "         decision_type        disposition  first_party_winner\n",
       "0     majority opinion  reversed/remanded                   1\n",
       "1     majority opinion  reversed/remanded                   1\n",
       "2     majority opinion  reversed/remanded                   1\n",
       "3     majority opinion   vacated/remanded                   1\n",
       "4     majority opinion           reversed                   1\n",
       "...                ...                ...                 ...\n",
       "3093  majority opinion  reversed/remanded                   1\n",
       "3094  majority opinion  reversed/remanded                   1\n",
       "3095  majority opinion           affirmed                   0\n",
       "3096  majority opinion   vacated/remanded                   1\n",
       "3097  majority opinion  reversed/remanded                   1\n",
       "\n",
       "[3098 rows x 3 columns]"
      ]
     },
     "execution_count": 11,
     "metadata": {},
     "output_type": "execute_result"
    }
   ],
   "source": [
    "frames = [df_cat, df_target1]\n",
    "df_concat = pd.concat(frames, axis=1, join='inner')\n",
    "df_concat"
   ]
  },
  {
   "cell_type": "code",
   "execution_count": 12,
   "id": "9aeba290",
   "metadata": {
    "execution": {
     "iopub.execute_input": "2022-02-09T05:21:49.947752Z",
     "iopub.status.busy": "2022-02-09T05:21:49.946966Z",
     "iopub.status.idle": "2022-02-09T05:21:49.948797Z",
     "shell.execute_reply": "2022-02-09T05:21:49.949204Z",
     "shell.execute_reply.started": "2022-02-02T09:52:23.669559Z"
    },
    "papermill": {
     "duration": 0.067059,
     "end_time": "2022-02-09T05:21:49.949321",
     "exception": false,
     "start_time": "2022-02-09T05:21:49.882262",
     "status": "completed"
    },
    "tags": []
   },
   "outputs": [],
   "source": [
    "df_nlp1 = pd.DataFrame(df_nlp, columns=['facts'])"
   ]
  },
  {
   "cell_type": "code",
   "execution_count": 13,
   "id": "83cabbf5",
   "metadata": {
    "execution": {
     "iopub.execute_input": "2022-02-09T05:21:50.072878Z",
     "iopub.status.busy": "2022-02-09T05:21:50.071951Z",
     "iopub.status.idle": "2022-02-09T05:21:50.095012Z",
     "shell.execute_reply": "2022-02-09T05:21:50.095404Z",
     "shell.execute_reply.started": "2022-02-02T09:52:23.6802Z"
    },
    "papermill": {
     "duration": 0.086593,
     "end_time": "2022-02-09T05:21:50.095565",
     "exception": false,
     "start_time": "2022-02-09T05:21:50.008972",
     "status": "completed"
    },
    "tags": []
   },
   "outputs": [
    {
     "data": {
      "text/html": [
       "<div>\n",
       "<style scoped>\n",
       "    .dataframe tbody tr th:only-of-type {\n",
       "        vertical-align: middle;\n",
       "    }\n",
       "\n",
       "    .dataframe tbody tr th {\n",
       "        vertical-align: top;\n",
       "    }\n",
       "\n",
       "    .dataframe thead th {\n",
       "        text-align: right;\n",
       "    }\n",
       "</style>\n",
       "<table border=\"1\" class=\"dataframe\">\n",
       "  <thead>\n",
       "    <tr style=\"text-align: right;\">\n",
       "      <th></th>\n",
       "      <th>facts</th>\n",
       "    </tr>\n",
       "  </thead>\n",
       "  <tbody>\n",
       "    <tr>\n",
       "      <th>0</th>\n",
       "      <td>Joan Stanley had three children with Peter Sta...</td>\n",
       "    </tr>\n",
       "    <tr>\n",
       "      <th>1</th>\n",
       "      <td>John Giglio was convicted of passing forged mo...</td>\n",
       "    </tr>\n",
       "    <tr>\n",
       "      <th>2</th>\n",
       "      <td>The Idaho Probate Code specified that \"males m...</td>\n",
       "    </tr>\n",
       "    <tr>\n",
       "      <th>3</th>\n",
       "      <td>Miller, after conducting a mass mailing campai...</td>\n",
       "    </tr>\n",
       "    <tr>\n",
       "      <th>4</th>\n",
       "      <td>Ernest E. Mandel was a Belgian professional jo...</td>\n",
       "    </tr>\n",
       "    <tr>\n",
       "      <th>...</th>\n",
       "      <td>...</td>\n",
       "    </tr>\n",
       "    <tr>\n",
       "      <th>3093</th>\n",
       "      <td>For over a century after the Alaska Purchase i...</td>\n",
       "    </tr>\n",
       "    <tr>\n",
       "      <th>3094</th>\n",
       "      <td>Refugio Palomar-Santiago, a Mexican national, ...</td>\n",
       "    </tr>\n",
       "    <tr>\n",
       "      <th>3095</th>\n",
       "      <td>Tarahrick Terry pleaded guilty to one count of...</td>\n",
       "    </tr>\n",
       "    <tr>\n",
       "      <th>3096</th>\n",
       "      <td>Joshua James Cooley was parked in his pickup t...</td>\n",
       "    </tr>\n",
       "    <tr>\n",
       "      <th>3097</th>\n",
       "      <td>The Natural Gas Act (NGA), 15 U.S.C. §§ 717–71...</td>\n",
       "    </tr>\n",
       "  </tbody>\n",
       "</table>\n",
       "<p>3098 rows × 1 columns</p>\n",
       "</div>"
      ],
      "text/plain": [
       "                                                  facts\n",
       "0     Joan Stanley had three children with Peter Sta...\n",
       "1     John Giglio was convicted of passing forged mo...\n",
       "2     The Idaho Probate Code specified that \"males m...\n",
       "3     Miller, after conducting a mass mailing campai...\n",
       "4     Ernest E. Mandel was a Belgian professional jo...\n",
       "...                                                 ...\n",
       "3093  For over a century after the Alaska Purchase i...\n",
       "3094  Refugio Palomar-Santiago, a Mexican national, ...\n",
       "3095  Tarahrick Terry pleaded guilty to one count of...\n",
       "3096  Joshua James Cooley was parked in his pickup t...\n",
       "3097  The Natural Gas Act (NGA), 15 U.S.C. §§ 717–71...\n",
       "\n",
       "[3098 rows x 1 columns]"
      ]
     },
     "execution_count": 13,
     "metadata": {},
     "output_type": "execute_result"
    }
   ],
   "source": [
    "df_nlp1['facts'] = df_nlp1['facts'].str.replace(r'<[^<>]*>', '', regex=True)\n",
    "df_nlp1"
   ]
  },
  {
   "cell_type": "markdown",
   "id": "7f1e47b9",
   "metadata": {
    "papermill": {
     "duration": 0.061354,
     "end_time": "2022-02-09T05:21:50.216922",
     "exception": false,
     "start_time": "2022-02-09T05:21:50.155568",
     "status": "completed"
    },
    "tags": []
   },
   "source": [
    "# 5. Performing initial cleaning and tokenizing the corpus, introducing a function to perform further cleaning and Lemmatization upon the data."
   ]
  },
  {
   "cell_type": "code",
   "execution_count": 14,
   "id": "0987e674",
   "metadata": {
    "execution": {
     "iopub.execute_input": "2022-02-09T05:21:50.349391Z",
     "iopub.status.busy": "2022-02-09T05:21:50.348791Z",
     "iopub.status.idle": "2022-02-09T05:21:57.197403Z",
     "shell.execute_reply": "2022-02-09T05:21:57.198364Z",
     "shell.execute_reply.started": "2022-02-02T09:52:23.720099Z"
    },
    "papermill": {
     "duration": 6.921292,
     "end_time": "2022-02-09T05:21:57.198556",
     "exception": false,
     "start_time": "2022-02-09T05:21:50.277264",
     "status": "completed"
    },
    "tags": []
   },
   "outputs": [],
   "source": [
    "corpus = df_nlp1[\"facts\"]\n",
    "lst_tokens = nltk.tokenize.word_tokenize(corpus.str.cat(sep=\" \"))"
   ]
  },
  {
   "cell_type": "code",
   "execution_count": 15,
   "id": "40472f0d",
   "metadata": {
    "execution": {
     "iopub.execute_input": "2022-02-09T05:21:57.418756Z",
     "iopub.status.busy": "2022-02-09T05:21:57.417903Z",
     "iopub.status.idle": "2022-02-09T05:21:57.420044Z",
     "shell.execute_reply": "2022-02-09T05:21:57.420630Z",
     "shell.execute_reply.started": "2022-02-02T09:52:31.101639Z"
    },
    "papermill": {
     "duration": 0.117814,
     "end_time": "2022-02-09T05:21:57.420772",
     "exception": false,
     "start_time": "2022-02-09T05:21:57.302958",
     "status": "completed"
    },
    "tags": []
   },
   "outputs": [],
   "source": [
    "ps = nltk.stem.porter.PorterStemmer()\n",
    "lem = nltk.stem.wordnet.WordNetLemmatizer()"
   ]
  },
  {
   "cell_type": "code",
   "execution_count": 16,
   "id": "88c5779e",
   "metadata": {
    "execution": {
     "iopub.execute_input": "2022-02-09T05:21:57.557225Z",
     "iopub.status.busy": "2022-02-09T05:21:57.556323Z",
     "iopub.status.idle": "2022-02-09T05:21:57.563987Z",
     "shell.execute_reply": "2022-02-09T05:21:57.563478Z",
     "shell.execute_reply.started": "2022-02-02T09:52:31.110516Z"
    },
    "papermill": {
     "duration": 0.077107,
     "end_time": "2022-02-09T05:21:57.564110",
     "exception": false,
     "start_time": "2022-02-09T05:21:57.487003",
     "status": "completed"
    },
    "tags": []
   },
   "outputs": [],
   "source": [
    "lst_stopwords = nltk.corpus.stopwords.words(\"english\")"
   ]
  },
  {
   "cell_type": "code",
   "execution_count": 17,
   "id": "79b9fb24",
   "metadata": {
    "execution": {
     "iopub.execute_input": "2022-02-09T05:21:57.704095Z",
     "iopub.status.busy": "2022-02-09T05:21:57.699491Z",
     "iopub.status.idle": "2022-02-09T05:21:57.706310Z",
     "shell.execute_reply": "2022-02-09T05:21:57.706884Z",
     "shell.execute_reply.started": "2022-02-02T09:52:31.1301Z"
    },
    "papermill": {
     "duration": 0.076685,
     "end_time": "2022-02-09T05:21:57.707063",
     "exception": false,
     "start_time": "2022-02-09T05:21:57.630378",
     "status": "completed"
    },
    "tags": []
   },
   "outputs": [],
   "source": [
    "\n",
    "def utils_preprocess_text(text, flg_stemm=False, flg_lemm=True, lst_stopwords=None):\n",
    "    ## clean (convert to lowercase and remove punctuations and characters and then strip)\n",
    "    text = re.sub(r'[^\\w\\s]', '', str(text).lower().strip())\n",
    "            \n",
    "    ## Tokenize (convert from string to list)\n",
    "    lst_text = text.split()    ## remove Stopwords\n",
    "    if lst_stopwords is not None:\n",
    "        lst_text = [word for word in lst_text if word not in \n",
    "                    lst_stopwords]\n",
    "                \n",
    "    ## Stemming (remove -ing, -ly, ...)\n",
    "    if flg_stemm == True:\n",
    "        ps = nltk.stem.porter.PorterStemmer()\n",
    "        lst_text = [ps.stem(word) for word in lst_text]\n",
    "                \n",
    "    ## Lemmatisation (convert the word into root word)\n",
    "    if flg_lemm == True:\n",
    "        lem = nltk.stem.wordnet.WordNetLemmatizer()\n",
    "        lst_text = [lem.lemmatize(word) for word in lst_text]\n",
    "            \n",
    "    ## back to string from list\n",
    "    text = \" \".join(lst_text)\n",
    "    return text"
   ]
  },
  {
   "cell_type": "code",
   "execution_count": 18,
   "id": "eca29724",
   "metadata": {
    "execution": {
     "iopub.execute_input": "2022-02-09T05:21:57.847084Z",
     "iopub.status.busy": "2022-02-09T05:21:57.846233Z",
     "iopub.status.idle": "2022-02-09T05:22:02.524106Z",
     "shell.execute_reply": "2022-02-09T05:22:02.524555Z",
     "shell.execute_reply.started": "2022-02-02T09:52:31.142228Z"
    },
    "papermill": {
     "duration": 4.750506,
     "end_time": "2022-02-09T05:22:02.524722",
     "exception": false,
     "start_time": "2022-02-09T05:21:57.774216",
     "status": "completed"
    },
    "tags": []
   },
   "outputs": [],
   "source": [
    "df_nlp1[\"facts_clean\"] = df_nlp1[\"facts\"].apply(lambda x: utils_preprocess_text(x, flg_stemm=False, flg_lemm=True, lst_stopwords=lst_stopwords))"
   ]
  },
  {
   "cell_type": "code",
   "execution_count": 19,
   "id": "01619083",
   "metadata": {
    "execution": {
     "iopub.execute_input": "2022-02-09T05:22:02.659266Z",
     "iopub.status.busy": "2022-02-09T05:22:02.658614Z",
     "iopub.status.idle": "2022-02-09T05:22:02.661429Z",
     "shell.execute_reply": "2022-02-09T05:22:02.661843Z",
     "shell.execute_reply.started": "2022-02-02T09:52:36.810352Z"
    },
    "papermill": {
     "duration": 0.075272,
     "end_time": "2022-02-09T05:22:02.661976",
     "exception": false,
     "start_time": "2022-02-09T05:22:02.586704",
     "status": "completed"
    },
    "tags": []
   },
   "outputs": [
    {
     "data": {
      "text/html": [
       "<div>\n",
       "<style scoped>\n",
       "    .dataframe tbody tr th:only-of-type {\n",
       "        vertical-align: middle;\n",
       "    }\n",
       "\n",
       "    .dataframe tbody tr th {\n",
       "        vertical-align: top;\n",
       "    }\n",
       "\n",
       "    .dataframe thead th {\n",
       "        text-align: right;\n",
       "    }\n",
       "</style>\n",
       "<table border=\"1\" class=\"dataframe\">\n",
       "  <thead>\n",
       "    <tr style=\"text-align: right;\">\n",
       "      <th></th>\n",
       "      <th>facts</th>\n",
       "      <th>facts_clean</th>\n",
       "    </tr>\n",
       "  </thead>\n",
       "  <tbody>\n",
       "    <tr>\n",
       "      <th>0</th>\n",
       "      <td>Joan Stanley had three children with Peter Sta...</td>\n",
       "      <td>joan stanley three child peter stanley stanley...</td>\n",
       "    </tr>\n",
       "    <tr>\n",
       "      <th>1</th>\n",
       "      <td>John Giglio was convicted of passing forged mo...</td>\n",
       "      <td>john giglio convicted passing forged money ord...</td>\n",
       "    </tr>\n",
       "    <tr>\n",
       "      <th>2</th>\n",
       "      <td>The Idaho Probate Code specified that \"males m...</td>\n",
       "      <td>idaho probate code specified male must preferr...</td>\n",
       "    </tr>\n",
       "    <tr>\n",
       "      <th>3</th>\n",
       "      <td>Miller, after conducting a mass mailing campai...</td>\n",
       "      <td>miller conducting mass mailing campaign advert...</td>\n",
       "    </tr>\n",
       "    <tr>\n",
       "      <th>4</th>\n",
       "      <td>Ernest E. Mandel was a Belgian professional jo...</td>\n",
       "      <td>ernest e mandel belgian professional journalis...</td>\n",
       "    </tr>\n",
       "    <tr>\n",
       "      <th>...</th>\n",
       "      <td>...</td>\n",
       "      <td>...</td>\n",
       "    </tr>\n",
       "    <tr>\n",
       "      <th>3093</th>\n",
       "      <td>For over a century after the Alaska Purchase i...</td>\n",
       "      <td>century alaska purchase 1867 federal governmen...</td>\n",
       "    </tr>\n",
       "    <tr>\n",
       "      <th>3094</th>\n",
       "      <td>Refugio Palomar-Santiago, a Mexican national, ...</td>\n",
       "      <td>refugio palomarsantiago mexican national grant...</td>\n",
       "    </tr>\n",
       "    <tr>\n",
       "      <th>3095</th>\n",
       "      <td>Tarahrick Terry pleaded guilty to one count of...</td>\n",
       "      <td>tarahrick terry pleaded guilty one count posse...</td>\n",
       "    </tr>\n",
       "    <tr>\n",
       "      <th>3096</th>\n",
       "      <td>Joshua James Cooley was parked in his pickup t...</td>\n",
       "      <td>joshua james cooley parked pickup truck side r...</td>\n",
       "    </tr>\n",
       "    <tr>\n",
       "      <th>3097</th>\n",
       "      <td>The Natural Gas Act (NGA), 15 U.S.C. §§ 717–71...</td>\n",
       "      <td>natural gas act nga 15 usc 717717z permit priv...</td>\n",
       "    </tr>\n",
       "  </tbody>\n",
       "</table>\n",
       "<p>3098 rows × 2 columns</p>\n",
       "</div>"
      ],
      "text/plain": [
       "                                                  facts  \\\n",
       "0     Joan Stanley had three children with Peter Sta...   \n",
       "1     John Giglio was convicted of passing forged mo...   \n",
       "2     The Idaho Probate Code specified that \"males m...   \n",
       "3     Miller, after conducting a mass mailing campai...   \n",
       "4     Ernest E. Mandel was a Belgian professional jo...   \n",
       "...                                                 ...   \n",
       "3093  For over a century after the Alaska Purchase i...   \n",
       "3094  Refugio Palomar-Santiago, a Mexican national, ...   \n",
       "3095  Tarahrick Terry pleaded guilty to one count of...   \n",
       "3096  Joshua James Cooley was parked in his pickup t...   \n",
       "3097  The Natural Gas Act (NGA), 15 U.S.C. §§ 717–71...   \n",
       "\n",
       "                                            facts_clean  \n",
       "0     joan stanley three child peter stanley stanley...  \n",
       "1     john giglio convicted passing forged money ord...  \n",
       "2     idaho probate code specified male must preferr...  \n",
       "3     miller conducting mass mailing campaign advert...  \n",
       "4     ernest e mandel belgian professional journalis...  \n",
       "...                                                 ...  \n",
       "3093  century alaska purchase 1867 federal governmen...  \n",
       "3094  refugio palomarsantiago mexican national grant...  \n",
       "3095  tarahrick terry pleaded guilty one count posse...  \n",
       "3096  joshua james cooley parked pickup truck side r...  \n",
       "3097  natural gas act nga 15 usc 717717z permit priv...  \n",
       "\n",
       "[3098 rows x 2 columns]"
      ]
     },
     "execution_count": 19,
     "metadata": {},
     "output_type": "execute_result"
    }
   ],
   "source": [
    "df_nlp1"
   ]
  },
  {
   "cell_type": "markdown",
   "id": "9d72bff4",
   "metadata": {
    "papermill": {
     "duration": 0.060876,
     "end_time": "2022-02-09T05:22:02.784174",
     "exception": false,
     "start_time": "2022-02-09T05:22:02.723298",
     "status": "completed"
    },
    "tags": []
   },
   "source": [
    "# 6. Exploratory Data Analysis"
   ]
  },
  {
   "cell_type": "code",
   "execution_count": 20,
   "id": "9f5b25d3",
   "metadata": {
    "execution": {
     "iopub.execute_input": "2022-02-09T05:22:02.914248Z",
     "iopub.status.busy": "2022-02-09T05:22:02.913429Z",
     "iopub.status.idle": "2022-02-09T05:22:02.915481Z",
     "shell.execute_reply": "2022-02-09T05:22:02.915899Z",
     "shell.execute_reply.started": "2022-02-02T09:52:36.83235Z"
    },
    "papermill": {
     "duration": 0.068082,
     "end_time": "2022-02-09T05:22:02.916031",
     "exception": false,
     "start_time": "2022-02-09T05:22:02.847949",
     "status": "completed"
    },
    "tags": []
   },
   "outputs": [],
   "source": [
    "df_nlp2 = pd.concat([df_nlp1,df_target1['first_party_winner']],axis=1, join='inner')"
   ]
  },
  {
   "cell_type": "code",
   "execution_count": 21,
   "id": "01fd33e3",
   "metadata": {
    "execution": {
     "iopub.execute_input": "2022-02-09T05:22:03.046850Z",
     "iopub.status.busy": "2022-02-09T05:22:03.046137Z",
     "iopub.status.idle": "2022-02-09T05:22:03.049013Z",
     "shell.execute_reply": "2022-02-09T05:22:03.049411Z"
    },
    "papermill": {
     "duration": 0.071553,
     "end_time": "2022-02-09T05:22:03.049550",
     "exception": false,
     "start_time": "2022-02-09T05:22:02.977997",
     "status": "completed"
    },
    "tags": []
   },
   "outputs": [
    {
     "data": {
      "text/plain": [
       "1    2067\n",
       "0    1031\n",
       "Name: first_party_winner, dtype: int64"
      ]
     },
     "execution_count": 21,
     "metadata": {},
     "output_type": "execute_result"
    }
   ],
   "source": [
    "df_nlp2[\"first_party_winner\"].value_counts()"
   ]
  },
  {
   "cell_type": "code",
   "execution_count": 22,
   "id": "1bc03c02",
   "metadata": {
    "execution": {
     "iopub.execute_input": "2022-02-09T05:22:03.175798Z",
     "iopub.status.busy": "2022-02-09T05:22:03.175076Z",
     "iopub.status.idle": "2022-02-09T05:22:03.177624Z",
     "shell.execute_reply": "2022-02-09T05:22:03.177099Z",
     "shell.execute_reply.started": "2022-02-02T09:52:36.843364Z"
    },
    "papermill": {
     "duration": 0.066197,
     "end_time": "2022-02-09T05:22:03.177745",
     "exception": false,
     "start_time": "2022-02-09T05:22:03.111548",
     "status": "completed"
    },
    "tags": []
   },
   "outputs": [],
   "source": [
    "import matplotlib.pyplot as plt\n",
    "from matplotlib.pyplot import figure"
   ]
  },
  {
   "cell_type": "code",
   "execution_count": 23,
   "id": "613077fb",
   "metadata": {
    "execution": {
     "iopub.execute_input": "2022-02-09T05:22:03.303109Z",
     "iopub.status.busy": "2022-02-09T05:22:03.302302Z",
     "iopub.status.idle": "2022-02-09T05:22:06.436809Z",
     "shell.execute_reply": "2022-02-09T05:22:06.436154Z",
     "shell.execute_reply.started": "2022-02-02T09:52:36.855056Z"
    },
    "papermill": {
     "duration": 3.197745,
     "end_time": "2022-02-09T05:22:06.436949",
     "exception": false,
     "start_time": "2022-02-09T05:22:03.239204",
     "status": "completed"
    },
    "tags": []
   },
   "outputs": [
    {
     "data": {
      "image/png": "[encoded data removed]",
      "text/plain": [
       "<Figure size 432x288 with 2 Axes>"
      ]
     },
     "metadata": {
      "needs_background": "light"
     },
     "output_type": "display_data"
    }
   ],
   "source": [
    "y = 1\n",
    "corpus = df_nlp2[df_nlp2[\"first_party_winner\"]== y][\"facts_clean\"]\n",
    "lst_tokens = nltk.tokenize.word_tokenize(corpus.str.cat(sep=\" \"))\n",
    "fig, ax = plt.subplots(nrows=2, ncols=1)\n",
    "fig.suptitle(\"Most frequent words\", fontsize=15)\n",
    "#figure(figsize=(30, 24))\n",
    "## unigrams\n",
    "dic_words_freq = nltk.FreqDist(lst_tokens)\n",
    "dtf_uni = pd.DataFrame(dic_words_freq.most_common(), \n",
    "                       columns=[\"Word\",\"Freq\"])\n",
    "dtf_uni.set_index(\"Word\").iloc[:10,:].sort_values(by=\"Freq\").plot(\n",
    "                  kind=\"barh\", title=\"Unigrams\", ax=ax[0], \n",
    "                  legend=False).grid(axis='x')\n",
    "ax[0].set(ylabel=None)\n",
    "    \n",
    "## bigrams\n",
    "dic_words_freq = nltk.FreqDist(nltk.ngrams(lst_tokens, 2))\n",
    "dtf_bi = pd.DataFrame(dic_words_freq.most_common(), \n",
    "                      columns=[\"Word\",\"Freq\"])\n",
    "dtf_bi[\"Word\"] = dtf_bi[\"Word\"].apply(lambda x: \" \".join(\n",
    "                   string for string in x) )\n",
    "dtf_bi.set_index(\"Word\").iloc[:10,:].sort_values(by=\"Freq\").plot(\n",
    "                  kind=\"barh\", title=\"Bigrams\", ax=ax[1],\n",
    "                  legend=False).grid(axis='x')\n",
    "ax[1].set(ylabel=None)\n",
    "plt.show()"
   ]
  },
  {
   "cell_type": "code",
   "execution_count": 24,
   "id": "8049136a",
   "metadata": {
    "execution": {
     "iopub.execute_input": "2022-02-09T05:22:06.572300Z",
     "iopub.status.busy": "2022-02-09T05:22:06.571497Z",
     "iopub.status.idle": "2022-02-09T05:22:08.531868Z",
     "shell.execute_reply": "2022-02-09T05:22:08.532261Z",
     "shell.execute_reply.started": "2022-02-02T09:52:40.27888Z"
    },
    "papermill": {
     "duration": 2.033074,
     "end_time": "2022-02-09T05:22:08.532432",
     "exception": false,
     "start_time": "2022-02-09T05:22:06.499358",
     "status": "completed"
    },
    "tags": []
   },
   "outputs": [
    {
     "data": {
      "image/png": "[encoded data removed]",
      "text/plain": [
       "<Figure size 432x288 with 2 Axes>"
      ]
     },
     "metadata": {
      "needs_background": "light"
     },
     "output_type": "display_data"
    }
   ],
   "source": [
    "y = 0\n",
    "corpus = df_nlp2[df_nlp2[\"first_party_winner\"]== y][\"facts_clean\"]\n",
    "lst_tokens = nltk.tokenize.word_tokenize(corpus.str.cat(sep=\" \"))\n",
    "fig, ax = plt.subplots(nrows=2, ncols=1)\n",
    "fig.suptitle(\"Most frequent words\", fontsize=15)\n",
    "#figure(figsize=(30, 24))\n",
    "## unigrams\n",
    "dic_words_freq = nltk.FreqDist(lst_tokens)\n",
    "dtf_uni = pd.DataFrame(dic_words_freq.most_common(), \n",
    "                       columns=[\"Word\",\"Freq\"])\n",
    "dtf_uni.set_index(\"Word\").iloc[:10,:].sort_values(by=\"Freq\").plot(\n",
    "                  kind=\"barh\", title=\"Unigrams\", ax=ax[0], \n",
    "                  legend=False).grid(axis='x')\n",
    "ax[0].set(ylabel=None)\n",
    "    \n",
    "## bigrams\n",
    "dic_words_freq = nltk.FreqDist(nltk.ngrams(lst_tokens, 2))\n",
    "dtf_bi = pd.DataFrame(dic_words_freq.most_common(), \n",
    "                      columns=[\"Word\",\"Freq\"])\n",
    "dtf_bi[\"Word\"] = dtf_bi[\"Word\"].apply(lambda x: \" \".join(\n",
    "                   string for string in x) )\n",
    "dtf_bi.set_index(\"Word\").iloc[:10,:].sort_values(by=\"Freq\").plot(\n",
    "                  kind=\"barh\", title=\"Bigrams\", ax=ax[1],\n",
    "                  legend=False).grid(axis='x')\n",
    "ax[1].set(ylabel=None)\n",
    "plt.show()"
   ]
  },
  {
   "cell_type": "code",
   "execution_count": 25,
   "id": "f43cd8ae",
   "metadata": {
    "execution": {
     "iopub.execute_input": "2022-02-09T05:22:08.663865Z",
     "iopub.status.busy": "2022-02-09T05:22:08.663249Z",
     "iopub.status.idle": "2022-02-09T05:22:08.710195Z",
     "shell.execute_reply": "2022-02-09T05:22:08.709747Z",
     "shell.execute_reply.started": "2022-02-02T09:52:42.163755Z"
    },
    "papermill": {
     "duration": 0.114715,
     "end_time": "2022-02-09T05:22:08.710304",
     "exception": false,
     "start_time": "2022-02-09T05:22:08.595589",
     "status": "completed"
    },
    "tags": []
   },
   "outputs": [],
   "source": [
    "import wordcloud"
   ]
  },
  {
   "cell_type": "code",
   "execution_count": 26,
   "id": "31ca2f55",
   "metadata": {
    "execution": {
     "iopub.execute_input": "2022-02-09T05:22:08.843687Z",
     "iopub.status.busy": "2022-02-09T05:22:08.843134Z",
     "iopub.status.idle": "2022-02-09T05:22:09.142767Z",
     "shell.execute_reply": "2022-02-09T05:22:09.143547Z",
     "shell.execute_reply.started": "2022-02-02T09:52:42.219643Z"
    },
    "papermill": {
     "duration": 0.370995,
     "end_time": "2022-02-09T05:22:09.143835",
     "exception": false,
     "start_time": "2022-02-09T05:22:08.772840",
     "status": "completed"
    },
    "tags": []
   },
   "outputs": [
    {
     "data": {
      "image/png": "[encoded data removed]",
      "text/plain": [
       "<Figure size 432x288 with 1 Axes>"
      ]
     },
     "metadata": {
      "needs_background": "light"
     },
     "output_type": "display_data"
    }
   ],
   "source": [
    "wc = wordcloud.WordCloud(background_color='black', max_words=100, \n",
    "                         max_font_size=35)\n",
    "wc = wc.generate(str(corpus))\n",
    "fig = plt.figure(num=1)\n",
    "plt.axis('off')\n",
    "plt.imshow(wc, cmap=None)\n",
    "plt.show()"
   ]
  },
  {
   "cell_type": "code",
   "execution_count": 27,
   "id": "9c863758",
   "metadata": {
    "execution": {
     "iopub.execute_input": "2022-02-09T05:22:09.300414Z",
     "iopub.status.busy": "2022-02-09T05:22:09.299767Z",
     "iopub.status.idle": "2022-02-09T05:22:09.744400Z",
     "shell.execute_reply": "2022-02-09T05:22:09.744908Z",
     "shell.execute_reply.started": "2022-02-02T09:52:42.576917Z"
    },
    "papermill": {
     "duration": 0.514229,
     "end_time": "2022-02-09T05:22:09.745070",
     "exception": false,
     "start_time": "2022-02-09T05:22:09.230841",
     "status": "completed"
    },
    "tags": []
   },
   "outputs": [],
   "source": [
    "import gensim.downloader as gensim_api\n",
    "import gensim\n",
    "import seaborn as sns"
   ]
  },
  {
   "cell_type": "code",
   "execution_count": 28,
   "id": "f9d2992e",
   "metadata": {
    "execution": {
     "iopub.execute_input": "2022-02-09T05:22:09.887686Z",
     "iopub.status.busy": "2022-02-09T05:22:09.886776Z",
     "iopub.status.idle": "2022-02-09T05:22:33.072510Z",
     "shell.execute_reply": "2022-02-09T05:22:33.072982Z",
     "shell.execute_reply.started": "2022-02-02T09:52:43.22441Z"
    },
    "papermill": {
     "duration": 23.2624,
     "end_time": "2022-02-09T05:22:33.073142",
     "exception": false,
     "start_time": "2022-02-09T05:22:09.810742",
     "status": "completed"
    },
    "tags": []
   },
   "outputs": [
    {
     "data": {
      "image/png": "[encoded data removed]",
      "text/plain": [
       "<Figure size 432x288 with 1 Axes>"
      ]
     },
     "metadata": {
      "needs_background": "light"
     },
     "output_type": "display_data"
    }
   ],
   "source": [
    "y = 1\n",
    "corpus = df_nlp2[df_nlp2[\"first_party_winner\"]==y][\"facts_clean\"]\n",
    "## pre-process corpus\n",
    "lst_corpus = []\n",
    "for string in corpus:\n",
    "    lst_words = string.split()\n",
    "    lst_grams = [\" \".join(lst_words[i:i + 2]) for i in range(0, \n",
    "                     len(lst_words), 2)]\n",
    "    lst_corpus.append(lst_grams)## map words to an id\n",
    "id2word = gensim.corpora.Dictionary(lst_corpus)## create dictionary word:freq\n",
    "dic_corpus = [id2word.doc2bow(word) for word in lst_corpus] ## train LDA\n",
    "lda_model = gensim.models.ldamodel.LdaModel(corpus=dic_corpus, id2word=id2word, num_topics=7, random_state=123, update_every=1, chunksize=100, passes=10, alpha='auto', per_word_topics=True)\n",
    "   \n",
    "## output\n",
    "lst_dics = []\n",
    "for i in range(0,3):\n",
    "    lst_tuples = lda_model.get_topic_terms(i)\n",
    "    for tupla in lst_tuples:\n",
    "        lst_dics.append({\"topic\":i, \"id\":tupla[0], \n",
    "                         \"word\":id2word[tupla[0]], \n",
    "                         \"weight\":tupla[1]})\n",
    "dtf_topics = pd.DataFrame(lst_dics, \n",
    "                         columns=['topic','id','word','weight'])\n",
    "\n",
    "## plot\n",
    "fig, ax = plt.subplots()\n",
    "sns.barplot(y=\"word\", x=\"weight\", hue=\"topic\", data=dtf_topics, dodge=False, ax=ax).set_title('Main Topics')\n",
    "ax.set(ylabel=\"\", xlabel=\"Word Importance\")\n",
    "plt.show()"
   ]
  },
  {
   "cell_type": "code",
   "execution_count": 29,
   "id": "21b8c84f",
   "metadata": {
    "execution": {
     "iopub.execute_input": "2022-02-09T05:22:33.245913Z",
     "iopub.status.busy": "2022-02-09T05:22:33.244909Z",
     "iopub.status.idle": "2022-02-09T05:22:42.144903Z",
     "shell.execute_reply": "2022-02-09T05:22:42.145421Z",
     "shell.execute_reply.started": "2022-02-02T09:53:07.03566Z"
    },
    "papermill": {
     "duration": 9.004534,
     "end_time": "2022-02-09T05:22:42.145619",
     "exception": false,
     "start_time": "2022-02-09T05:22:33.141085",
     "status": "completed"
    },
    "tags": []
   },
   "outputs": [
    {
     "data": {
      "image/png": "[encoded data removed]",
      "text/plain": [
       "<Figure size 432x288 with 1 Axes>"
      ]
     },
     "metadata": {
      "needs_background": "light"
     },
     "output_type": "display_data"
    }
   ],
   "source": [
    "y = 0\n",
    "corpus = df_nlp2[df_nlp2[\"first_party_winner\"]==y][\"facts_clean\"]\n",
    "## pre-process corpus\n",
    "lst_corpus = []\n",
    "for string in corpus:\n",
    "    lst_words = string.split()\n",
    "    lst_grams = [\" \".join(lst_words[i:i + 2]) for i in range(0, \n",
    "                     len(lst_words), 2)]\n",
    "    lst_corpus.append(lst_grams)## map words to an id\n",
    "id2word = gensim.corpora.Dictionary(lst_corpus)## create dictionary word:freq\n",
    "dic_corpus = [id2word.doc2bow(word) for word in lst_corpus] ## train LDA\n",
    "lda_model = gensim.models.ldamodel.LdaModel(corpus=dic_corpus, id2word=id2word, num_topics=7, random_state=123, update_every=1, chunksize=100, passes=10, alpha='auto', per_word_topics=True)\n",
    "   \n",
    "## output\n",
    "lst_dics = []\n",
    "for i in range(0,3):\n",
    "    lst_tuples = lda_model.get_topic_terms(i)\n",
    "    for tupla in lst_tuples:\n",
    "        lst_dics.append({\"topic\":i, \"id\":tupla[0], \n",
    "                         \"word\":id2word[tupla[0]], \n",
    "                         \"weight\":tupla[1]})\n",
    "dtf_topics = pd.DataFrame(lst_dics, \n",
    "                         columns=['topic','id','word','weight'])\n",
    "\n",
    "## plot\n",
    "fig, ax = plt.subplots()\n",
    "sns.barplot(y=\"word\", x=\"weight\", hue=\"topic\", data=dtf_topics, dodge=False, ax=ax).set_title('Main Topics')\n",
    "ax.set(ylabel=\"\", xlabel=\"Word Importance\")\n",
    "plt.show()"
   ]
  },
  {
   "cell_type": "markdown",
   "id": "fed19617",
   "metadata": {
    "papermill": {
     "duration": 0.066859,
     "end_time": "2022-02-09T05:22:42.280114",
     "exception": false,
     "start_time": "2022-02-09T05:22:42.213255",
     "status": "completed"
    },
    "tags": []
   },
   "source": [
    "# 7. Introducing Count Vectorizer to derive features from textual data."
   ]
  },
  {
   "cell_type": "code",
   "execution_count": 30,
   "id": "b265d1f1",
   "metadata": {
    "execution": {
     "iopub.execute_input": "2022-02-09T05:22:42.418447Z",
     "iopub.status.busy": "2022-02-09T05:22:42.417921Z",
     "iopub.status.idle": "2022-02-09T05:22:42.422654Z",
     "shell.execute_reply": "2022-02-09T05:22:42.423026Z",
     "shell.execute_reply.started": "2022-02-02T09:53:17.515596Z"
    },
    "papermill": {
     "duration": 0.075767,
     "end_time": "2022-02-09T05:22:42.423157",
     "exception": false,
     "start_time": "2022-02-09T05:22:42.347390",
     "status": "completed"
    },
    "tags": []
   },
   "outputs": [],
   "source": [
    "from sklearn.pipeline import Pipeline\n",
    "from sklearn.feature_extraction.text import CountVectorizer"
   ]
  },
  {
   "cell_type": "code",
   "execution_count": 31,
   "id": "254f6a86",
   "metadata": {
    "execution": {
     "iopub.execute_input": "2022-02-09T05:22:42.561415Z",
     "iopub.status.busy": "2022-02-09T05:22:42.560515Z",
     "iopub.status.idle": "2022-02-09T05:22:42.564655Z",
     "shell.execute_reply": "2022-02-09T05:22:42.564208Z",
     "shell.execute_reply.started": "2022-02-02T09:53:17.525957Z"
    },
    "papermill": {
     "duration": 0.07285,
     "end_time": "2022-02-09T05:22:42.564764",
     "exception": false,
     "start_time": "2022-02-09T05:22:42.491914",
     "status": "completed"
    },
    "tags": []
   },
   "outputs": [],
   "source": [
    "vectorizer = CountVectorizer()"
   ]
  },
  {
   "cell_type": "code",
   "execution_count": 32,
   "id": "31a82709",
   "metadata": {
    "execution": {
     "iopub.execute_input": "2022-02-09T05:22:42.704545Z",
     "iopub.status.busy": "2022-02-09T05:22:42.703725Z",
     "iopub.status.idle": "2022-02-09T05:22:42.705552Z",
     "shell.execute_reply": "2022-02-09T05:22:42.705963Z",
     "shell.execute_reply.started": "2022-02-02T09:53:17.535592Z"
    },
    "papermill": {
     "duration": 0.074851,
     "end_time": "2022-02-09T05:22:42.706087",
     "exception": false,
     "start_time": "2022-02-09T05:22:42.631236",
     "status": "completed"
    },
    "tags": []
   },
   "outputs": [],
   "source": [
    "df_nlp2 = pd.concat([df_nlp1,df_target1['first_party_winner']],axis=1, join='inner')"
   ]
  },
  {
   "cell_type": "code",
   "execution_count": 33,
   "id": "6956435f",
   "metadata": {
    "execution": {
     "iopub.execute_input": "2022-02-09T05:22:42.843434Z",
     "iopub.status.busy": "2022-02-09T05:22:42.842829Z",
     "iopub.status.idle": "2022-02-09T05:22:42.845037Z",
     "shell.execute_reply": "2022-02-09T05:22:42.845475Z",
     "shell.execute_reply.started": "2022-02-02T09:53:17.547862Z"
    },
    "papermill": {
     "duration": 0.073405,
     "end_time": "2022-02-09T05:22:42.845628",
     "exception": false,
     "start_time": "2022-02-09T05:22:42.772223",
     "status": "completed"
    },
    "tags": []
   },
   "outputs": [],
   "source": [
    "xfeatures = df_nlp2['facts_clean']\n",
    "ylabel = df_nlp2['first_party_winner']"
   ]
  },
  {
   "cell_type": "markdown",
   "id": "daa53c9e",
   "metadata": {
    "papermill": {
     "duration": 0.06699,
     "end_time": "2022-02-09T05:22:42.980054",
     "exception": false,
     "start_time": "2022-02-09T05:22:42.913064",
     "status": "completed"
    },
    "tags": []
   },
   "source": [
    "# 8. Using sklearn train_test_split and Pipeline to fit and score the model on Logistic Regression, RandomForest and K-NearestNeighbors on the newly engineered features"
   ]
  },
  {
   "cell_type": "code",
   "execution_count": 34,
   "id": "048954be",
   "metadata": {
    "execution": {
     "iopub.execute_input": "2022-02-09T05:22:43.121254Z",
     "iopub.status.busy": "2022-02-09T05:22:43.120373Z",
     "iopub.status.idle": "2022-02-09T05:22:43.123820Z",
     "shell.execute_reply": "2022-02-09T05:22:43.123365Z",
     "shell.execute_reply.started": "2022-02-02T09:53:17.55928Z"
    },
    "papermill": {
     "duration": 0.076105,
     "end_time": "2022-02-09T05:22:43.123928",
     "exception": false,
     "start_time": "2022-02-09T05:22:43.047823",
     "status": "completed"
    },
    "tags": []
   },
   "outputs": [],
   "source": [
    "X_train, X_test, y_train, y_test = train_test_split(xfeatures,ylabel, test_size=0.25)"
   ]
  },
  {
   "cell_type": "code",
   "execution_count": 35,
   "id": "a7d5035e",
   "metadata": {
    "execution": {
     "iopub.execute_input": "2022-02-09T05:22:43.264620Z",
     "iopub.status.busy": "2022-02-09T05:22:43.263902Z",
     "iopub.status.idle": "2022-02-09T05:22:43.265948Z",
     "shell.execute_reply": "2022-02-09T05:22:43.266313Z",
     "shell.execute_reply.started": "2022-02-02T09:53:17.572347Z"
    },
    "papermill": {
     "duration": 0.074606,
     "end_time": "2022-02-09T05:22:43.266437",
     "exception": false,
     "start_time": "2022-02-09T05:22:43.191831",
     "status": "completed"
    },
    "tags": []
   },
   "outputs": [],
   "source": [
    "pipe = Pipeline(steps=[('cv',CountVectorizer()),('lr',LogisticRegression(solver='liblinear'))])"
   ]
  },
  {
   "cell_type": "code",
   "execution_count": 36,
   "id": "86c746a3",
   "metadata": {
    "execution": {
     "iopub.execute_input": "2022-02-09T05:22:43.453240Z",
     "iopub.status.busy": "2022-02-09T05:22:43.448088Z",
     "iopub.status.idle": "2022-02-09T05:22:43.825458Z",
     "shell.execute_reply": "2022-02-09T05:22:43.824188Z",
     "shell.execute_reply.started": "2022-02-02T09:53:17.583932Z"
    },
    "papermill": {
     "duration": 0.492876,
     "end_time": "2022-02-09T05:22:43.825689",
     "exception": false,
     "start_time": "2022-02-09T05:22:43.332813",
     "status": "completed"
    },
    "tags": []
   },
   "outputs": [
    {
     "data": {
      "text/plain": [
       "Pipeline(steps=[('cv', CountVectorizer()),\n",
       "                ('lr', LogisticRegression(solver='liblinear'))])"
      ]
     },
     "execution_count": 36,
     "metadata": {},
     "output_type": "execute_result"
    }
   ],
   "source": [
    "pipe.fit(X_train,y_train)"
   ]
  },
  {
   "cell_type": "code",
   "execution_count": 37,
   "id": "459400a4",
   "metadata": {
    "execution": {
     "iopub.execute_input": "2022-02-09T05:22:44.044317Z",
     "iopub.status.busy": "2022-02-09T05:22:44.029339Z",
     "iopub.status.idle": "2022-02-09T05:22:44.107451Z",
     "shell.execute_reply": "2022-02-09T05:22:44.107891Z",
     "shell.execute_reply.started": "2022-02-02T09:53:18.063238Z"
    },
    "papermill": {
     "duration": 0.160071,
     "end_time": "2022-02-09T05:22:44.108032",
     "exception": false,
     "start_time": "2022-02-09T05:22:43.947961",
     "status": "completed"
    },
    "tags": []
   },
   "outputs": [
    {
     "data": {
      "text/plain": [
       "0.5832258064516129"
      ]
     },
     "execution_count": 37,
     "metadata": {},
     "output_type": "execute_result"
    }
   ],
   "source": [
    "pipe.score(X_test,y_test)"
   ]
  },
  {
   "cell_type": "code",
   "execution_count": 38,
   "id": "0e677140",
   "metadata": {
    "execution": {
     "iopub.execute_input": "2022-02-09T05:22:44.248517Z",
     "iopub.status.busy": "2022-02-09T05:22:44.247871Z",
     "iopub.status.idle": "2022-02-09T05:22:44.302388Z",
     "shell.execute_reply": "2022-02-09T05:22:44.301962Z",
     "shell.execute_reply.started": "2022-02-02T09:53:18.214545Z"
    },
    "papermill": {
     "duration": 0.126304,
     "end_time": "2022-02-09T05:22:44.302498",
     "exception": false,
     "start_time": "2022-02-09T05:22:44.176194",
     "status": "completed"
    },
    "tags": []
   },
   "outputs": [],
   "source": [
    "from sklearn.ensemble import RandomForestClassifier\n",
    "from sklearn.neighbors import KNeighborsClassifier"
   ]
  },
  {
   "cell_type": "code",
   "execution_count": 39,
   "id": "e93eae7d",
   "metadata": {
    "execution": {
     "iopub.execute_input": "2022-02-09T05:22:44.442214Z",
     "iopub.status.busy": "2022-02-09T05:22:44.441438Z",
     "iopub.status.idle": "2022-02-09T05:22:44.443194Z",
     "shell.execute_reply": "2022-02-09T05:22:44.443626Z",
     "shell.execute_reply.started": "2022-02-02T09:53:18.272731Z"
    },
    "papermill": {
     "duration": 0.074072,
     "end_time": "2022-02-09T05:22:44.443753",
     "exception": false,
     "start_time": "2022-02-09T05:22:44.369681",
     "status": "completed"
    },
    "tags": []
   },
   "outputs": [],
   "source": [
    "pipe1= Pipeline(steps=[('cv',CountVectorizer()),('rf',RandomForestClassifier())])"
   ]
  },
  {
   "cell_type": "code",
   "execution_count": 40,
   "id": "6e104edd",
   "metadata": {
    "execution": {
     "iopub.execute_input": "2022-02-09T05:22:44.642717Z",
     "iopub.status.busy": "2022-02-09T05:22:44.627504Z",
     "iopub.status.idle": "2022-02-09T05:22:46.253543Z",
     "shell.execute_reply": "2022-02-09T05:22:46.253104Z",
     "shell.execute_reply.started": "2022-02-02T09:53:18.280676Z"
    },
    "papermill": {
     "duration": 1.741839,
     "end_time": "2022-02-09T05:22:46.253682",
     "exception": false,
     "start_time": "2022-02-09T05:22:44.511843",
     "status": "completed"
    },
    "tags": []
   },
   "outputs": [
    {
     "data": {
      "text/plain": [
       "Pipeline(steps=[('cv', CountVectorizer()), ('rf', RandomForestClassifier())])"
      ]
     },
     "execution_count": 40,
     "metadata": {},
     "output_type": "execute_result"
    }
   ],
   "source": [
    "pipe1.fit(X_train,y_train)"
   ]
  },
  {
   "cell_type": "code",
   "execution_count": 41,
   "id": "af567b07",
   "metadata": {
    "execution": {
     "iopub.execute_input": "2022-02-09T05:22:46.433225Z",
     "iopub.status.busy": "2022-02-09T05:22:46.417812Z",
     "iopub.status.idle": "2022-02-09T05:22:46.777300Z",
     "shell.execute_reply": "2022-02-09T05:22:46.777709Z",
     "shell.execute_reply.started": "2022-02-02T09:53:20.294555Z"
    },
    "papermill": {
     "duration": 0.455474,
     "end_time": "2022-02-09T05:22:46.777864",
     "exception": false,
     "start_time": "2022-02-09T05:22:46.322390",
     "status": "completed"
    },
    "tags": []
   },
   "outputs": [
    {
     "data": {
      "text/plain": [
       "1.0"
      ]
     },
     "execution_count": 41,
     "metadata": {},
     "output_type": "execute_result"
    }
   ],
   "source": [
    "pipe1.score(X_train,y_train)"
   ]
  },
  {
   "cell_type": "code",
   "execution_count": 42,
   "id": "e428d708",
   "metadata": {
    "execution": {
     "iopub.execute_input": "2022-02-09T05:22:46.945382Z",
     "iopub.status.busy": "2022-02-09T05:22:46.935382Z",
     "iopub.status.idle": "2022-02-09T05:22:47.061891Z",
     "shell.execute_reply": "2022-02-09T05:22:47.062406Z",
     "shell.execute_reply.started": "2022-02-02T09:53:20.796638Z"
    },
    "papermill": {
     "duration": 0.215483,
     "end_time": "2022-02-09T05:22:47.062583",
     "exception": false,
     "start_time": "2022-02-09T05:22:46.847100",
     "status": "completed"
    },
    "tags": []
   },
   "outputs": [
    {
     "data": {
      "text/plain": [
       "0.6438709677419355"
      ]
     },
     "execution_count": 42,
     "metadata": {},
     "output_type": "execute_result"
    }
   ],
   "source": [
    "pipe1.score(X_test,y_test)"
   ]
  },
  {
   "cell_type": "code",
   "execution_count": 43,
   "id": "cdb01264",
   "metadata": {
    "execution": {
     "iopub.execute_input": "2022-02-09T05:22:47.204512Z",
     "iopub.status.busy": "2022-02-09T05:22:47.203748Z",
     "iopub.status.idle": "2022-02-09T05:22:47.205715Z",
     "shell.execute_reply": "2022-02-09T05:22:47.206122Z",
     "shell.execute_reply.started": "2022-02-02T09:53:20.987385Z"
    },
    "papermill": {
     "duration": 0.075105,
     "end_time": "2022-02-09T05:22:47.206245",
     "exception": false,
     "start_time": "2022-02-09T05:22:47.131140",
     "status": "completed"
    },
    "tags": []
   },
   "outputs": [],
   "source": [
    "pipe2= Pipeline(steps=[('cv',CountVectorizer()),('rf',KNeighborsClassifier(n_neighbors=3))])"
   ]
  },
  {
   "cell_type": "code",
   "execution_count": 44,
   "id": "0529f5e4",
   "metadata": {
    "execution": {
     "iopub.execute_input": "2022-02-09T05:22:47.401931Z",
     "iopub.status.busy": "2022-02-09T05:22:47.381463Z",
     "iopub.status.idle": "2022-02-09T05:22:47.639182Z",
     "shell.execute_reply": "2022-02-09T05:22:47.639580Z",
     "shell.execute_reply.started": "2022-02-02T09:53:20.995809Z"
    },
    "papermill": {
     "duration": 0.36476,
     "end_time": "2022-02-09T05:22:47.639747",
     "exception": false,
     "start_time": "2022-02-09T05:22:47.274987",
     "status": "completed"
    },
    "tags": []
   },
   "outputs": [
    {
     "data": {
      "text/plain": [
       "Pipeline(steps=[('cv', CountVectorizer()),\n",
       "                ('rf', KNeighborsClassifier(n_neighbors=3))])"
      ]
     },
     "execution_count": 44,
     "metadata": {},
     "output_type": "execute_result"
    }
   ],
   "source": [
    "pipe2.fit(X_train,y_train)"
   ]
  },
  {
   "cell_type": "code",
   "execution_count": 45,
   "id": "5417aa5e",
   "metadata": {
    "execution": {
     "iopub.execute_input": "2022-02-09T05:22:47.800216Z",
     "iopub.status.busy": "2022-02-09T05:22:47.790146Z",
     "iopub.status.idle": "2022-02-09T05:22:48.416437Z",
     "shell.execute_reply": "2022-02-09T05:22:48.416899Z",
     "shell.execute_reply.started": "2022-02-02T09:53:21.328403Z"
    },
    "papermill": {
     "duration": 0.708164,
     "end_time": "2022-02-09T05:22:48.417056",
     "exception": false,
     "start_time": "2022-02-09T05:22:47.708892",
     "status": "completed"
    },
    "tags": []
   },
   "outputs": [
    {
     "data": {
      "text/plain": [
       "0.8704261730520878"
      ]
     },
     "execution_count": 45,
     "metadata": {},
     "output_type": "execute_result"
    }
   ],
   "source": [
    "pipe2.score(X_train,y_train)"
   ]
  },
  {
   "cell_type": "code",
   "execution_count": 46,
   "id": "e35c0d74",
   "metadata": {
    "execution": {
     "iopub.execute_input": "2022-02-09T05:22:48.604113Z",
     "iopub.status.busy": "2022-02-09T05:22:48.593886Z",
     "iopub.status.idle": "2022-02-09T05:22:48.770409Z",
     "shell.execute_reply": "2022-02-09T05:22:48.770954Z",
     "shell.execute_reply.started": "2022-02-02T09:53:22.052262Z"
    },
    "papermill": {
     "duration": 0.28482,
     "end_time": "2022-02-09T05:22:48.771140",
     "exception": false,
     "start_time": "2022-02-09T05:22:48.486320",
     "status": "completed"
    },
    "tags": []
   },
   "outputs": [
    {
     "data": {
      "text/plain": [
       "0.5896774193548387"
      ]
     },
     "execution_count": 46,
     "metadata": {},
     "output_type": "execute_result"
    }
   ],
   "source": [
    "pipe2.score(X_test,y_test)"
   ]
  },
  {
   "cell_type": "markdown",
   "id": "0d5ac7d8",
   "metadata": {
    "papermill": {
     "duration": 0.070808,
     "end_time": "2022-02-09T05:22:48.913805",
     "exception": false,
     "start_time": "2022-02-09T05:22:48.842997",
     "status": "completed"
    },
    "tags": []
   },
   "source": [
    "# 9. Now including the one-hot encoded features within our model."
   ]
  },
  {
   "cell_type": "code",
   "execution_count": 47,
   "id": "7ab28afd",
   "metadata": {
    "execution": {
     "iopub.execute_input": "2022-02-09T05:22:49.059052Z",
     "iopub.status.busy": "2022-02-09T05:22:49.058204Z",
     "iopub.status.idle": "2022-02-09T05:22:49.060020Z",
     "shell.execute_reply": "2022-02-09T05:22:49.060448Z",
     "shell.execute_reply.started": "2022-02-02T09:53:22.300283Z"
    },
    "papermill": {
     "duration": 0.077013,
     "end_time": "2022-02-09T05:22:49.060635",
     "exception": false,
     "start_time": "2022-02-09T05:22:48.983622",
     "status": "completed"
    },
    "tags": []
   },
   "outputs": [],
   "source": [
    "df_nl1=pd.concat([df_nlp2,df_cat],axis=1,join='inner')"
   ]
  },
  {
   "cell_type": "code",
   "execution_count": 48,
   "id": "8531a66a",
   "metadata": {
    "execution": {
     "iopub.execute_input": "2022-02-09T05:22:49.214601Z",
     "iopub.status.busy": "2022-02-09T05:22:49.213626Z",
     "iopub.status.idle": "2022-02-09T05:22:49.216775Z",
     "shell.execute_reply": "2022-02-09T05:22:49.217172Z",
     "shell.execute_reply.started": "2022-02-02T09:53:22.309531Z"
    },
    "papermill": {
     "duration": 0.087044,
     "end_time": "2022-02-09T05:22:49.217300",
     "exception": false,
     "start_time": "2022-02-09T05:22:49.130256",
     "status": "completed"
    },
    "tags": []
   },
   "outputs": [
    {
     "data": {
      "text/html": [
       "<div>\n",
       "<style scoped>\n",
       "    .dataframe tbody tr th:only-of-type {\n",
       "        vertical-align: middle;\n",
       "    }\n",
       "\n",
       "    .dataframe tbody tr th {\n",
       "        vertical-align: top;\n",
       "    }\n",
       "\n",
       "    .dataframe thead th {\n",
       "        text-align: right;\n",
       "    }\n",
       "</style>\n",
       "<table border=\"1\" class=\"dataframe\">\n",
       "  <thead>\n",
       "    <tr style=\"text-align: right;\">\n",
       "      <th></th>\n",
       "      <th>facts</th>\n",
       "      <th>facts_clean</th>\n",
       "      <th>first_party_winner</th>\n",
       "      <th>decision_type</th>\n",
       "      <th>disposition</th>\n",
       "    </tr>\n",
       "  </thead>\n",
       "  <tbody>\n",
       "    <tr>\n",
       "      <th>0</th>\n",
       "      <td>Joan Stanley had three children with Peter Sta...</td>\n",
       "      <td>joan stanley three child peter stanley stanley...</td>\n",
       "      <td>1</td>\n",
       "      <td>majority opinion</td>\n",
       "      <td>reversed/remanded</td>\n",
       "    </tr>\n",
       "    <tr>\n",
       "      <th>1</th>\n",
       "      <td>John Giglio was convicted of passing forged mo...</td>\n",
       "      <td>john giglio convicted passing forged money ord...</td>\n",
       "      <td>1</td>\n",
       "      <td>majority opinion</td>\n",
       "      <td>reversed/remanded</td>\n",
       "    </tr>\n",
       "    <tr>\n",
       "      <th>2</th>\n",
       "      <td>The Idaho Probate Code specified that \"males m...</td>\n",
       "      <td>idaho probate code specified male must preferr...</td>\n",
       "      <td>1</td>\n",
       "      <td>majority opinion</td>\n",
       "      <td>reversed/remanded</td>\n",
       "    </tr>\n",
       "    <tr>\n",
       "      <th>3</th>\n",
       "      <td>Miller, after conducting a mass mailing campai...</td>\n",
       "      <td>miller conducting mass mailing campaign advert...</td>\n",
       "      <td>1</td>\n",
       "      <td>majority opinion</td>\n",
       "      <td>vacated/remanded</td>\n",
       "    </tr>\n",
       "    <tr>\n",
       "      <th>4</th>\n",
       "      <td>Ernest E. Mandel was a Belgian professional jo...</td>\n",
       "      <td>ernest e mandel belgian professional journalis...</td>\n",
       "      <td>1</td>\n",
       "      <td>majority opinion</td>\n",
       "      <td>reversed</td>\n",
       "    </tr>\n",
       "    <tr>\n",
       "      <th>...</th>\n",
       "      <td>...</td>\n",
       "      <td>...</td>\n",
       "      <td>...</td>\n",
       "      <td>...</td>\n",
       "      <td>...</td>\n",
       "    </tr>\n",
       "    <tr>\n",
       "      <th>3093</th>\n",
       "      <td>For over a century after the Alaska Purchase i...</td>\n",
       "      <td>century alaska purchase 1867 federal governmen...</td>\n",
       "      <td>1</td>\n",
       "      <td>majority opinion</td>\n",
       "      <td>reversed/remanded</td>\n",
       "    </tr>\n",
       "    <tr>\n",
       "      <th>3094</th>\n",
       "      <td>Refugio Palomar-Santiago, a Mexican national, ...</td>\n",
       "      <td>refugio palomarsantiago mexican national grant...</td>\n",
       "      <td>1</td>\n",
       "      <td>majority opinion</td>\n",
       "      <td>reversed/remanded</td>\n",
       "    </tr>\n",
       "    <tr>\n",
       "      <th>3095</th>\n",
       "      <td>Tarahrick Terry pleaded guilty to one count of...</td>\n",
       "      <td>tarahrick terry pleaded guilty one count posse...</td>\n",
       "      <td>0</td>\n",
       "      <td>majority opinion</td>\n",
       "      <td>affirmed</td>\n",
       "    </tr>\n",
       "    <tr>\n",
       "      <th>3096</th>\n",
       "      <td>Joshua James Cooley was parked in his pickup t...</td>\n",
       "      <td>joshua james cooley parked pickup truck side r...</td>\n",
       "      <td>1</td>\n",
       "      <td>majority opinion</td>\n",
       "      <td>vacated/remanded</td>\n",
       "    </tr>\n",
       "    <tr>\n",
       "      <th>3097</th>\n",
       "      <td>The Natural Gas Act (NGA), 15 U.S.C. §§ 717–71...</td>\n",
       "      <td>natural gas act nga 15 usc 717717z permit priv...</td>\n",
       "      <td>1</td>\n",
       "      <td>majority opinion</td>\n",
       "      <td>reversed/remanded</td>\n",
       "    </tr>\n",
       "  </tbody>\n",
       "</table>\n",
       "<p>3098 rows × 5 columns</p>\n",
       "</div>"
      ],
      "text/plain": [
       "                                                  facts  \\\n",
       "0     Joan Stanley had three children with Peter Sta...   \n",
       "1     John Giglio was convicted of passing forged mo...   \n",
       "2     The Idaho Probate Code specified that \"males m...   \n",
       "3     Miller, after conducting a mass mailing campai...   \n",
       "4     Ernest E. Mandel was a Belgian professional jo...   \n",
       "...                                                 ...   \n",
       "3093  For over a century after the Alaska Purchase i...   \n",
       "3094  Refugio Palomar-Santiago, a Mexican national, ...   \n",
       "3095  Tarahrick Terry pleaded guilty to one count of...   \n",
       "3096  Joshua James Cooley was parked in his pickup t...   \n",
       "3097  The Natural Gas Act (NGA), 15 U.S.C. §§ 717–71...   \n",
       "\n",
       "                                            facts_clean  first_party_winner  \\\n",
       "0     joan stanley three child peter stanley stanley...                   1   \n",
       "1     john giglio convicted passing forged money ord...                   1   \n",
       "2     idaho probate code specified male must preferr...                   1   \n",
       "3     miller conducting mass mailing campaign advert...                   1   \n",
       "4     ernest e mandel belgian professional journalis...                   1   \n",
       "...                                                 ...                 ...   \n",
       "3093  century alaska purchase 1867 federal governmen...                   1   \n",
       "3094  refugio palomarsantiago mexican national grant...                   1   \n",
       "3095  tarahrick terry pleaded guilty one count posse...                   0   \n",
       "3096  joshua james cooley parked pickup truck side r...                   1   \n",
       "3097  natural gas act nga 15 usc 717717z permit priv...                   1   \n",
       "\n",
       "         decision_type        disposition  \n",
       "0     majority opinion  reversed/remanded  \n",
       "1     majority opinion  reversed/remanded  \n",
       "2     majority opinion  reversed/remanded  \n",
       "3     majority opinion   vacated/remanded  \n",
       "4     majority opinion           reversed  \n",
       "...                ...                ...  \n",
       "3093  majority opinion  reversed/remanded  \n",
       "3094  majority opinion  reversed/remanded  \n",
       "3095  majority opinion           affirmed  \n",
       "3096  majority opinion   vacated/remanded  \n",
       "3097  majority opinion  reversed/remanded  \n",
       "\n",
       "[3098 rows x 5 columns]"
      ]
     },
     "execution_count": 48,
     "metadata": {},
     "output_type": "execute_result"
    }
   ],
   "source": [
    "df_nl1"
   ]
  },
  {
   "cell_type": "code",
   "execution_count": 49,
   "id": "7f31fb24",
   "metadata": {
    "execution": {
     "iopub.execute_input": "2022-02-09T05:22:49.361627Z",
     "iopub.status.busy": "2022-02-09T05:22:49.360700Z",
     "iopub.status.idle": "2022-02-09T05:22:49.364477Z",
     "shell.execute_reply": "2022-02-09T05:22:49.364068Z",
     "shell.execute_reply.started": "2022-02-02T09:53:22.335592Z"
    },
    "papermill": {
     "duration": 0.077416,
     "end_time": "2022-02-09T05:22:49.364606",
     "exception": false,
     "start_time": "2022-02-09T05:22:49.287190",
     "status": "completed"
    },
    "tags": []
   },
   "outputs": [],
   "source": [
    "xfeatures1 = df_nl1[['facts_clean','decision_type','disposition']]\n",
    "ylabel1 = df_nl1['first_party_winner']"
   ]
  },
  {
   "cell_type": "code",
   "execution_count": 50,
   "id": "47afadad",
   "metadata": {
    "execution": {
     "iopub.execute_input": "2022-02-09T05:22:49.507954Z",
     "iopub.status.busy": "2022-02-09T05:22:49.507191Z",
     "iopub.status.idle": "2022-02-09T05:22:49.510475Z",
     "shell.execute_reply": "2022-02-09T05:22:49.510067Z",
     "shell.execute_reply.started": "2022-02-02T09:53:22.351239Z"
    },
    "papermill": {
     "duration": 0.07673,
     "end_time": "2022-02-09T05:22:49.510624",
     "exception": false,
     "start_time": "2022-02-09T05:22:49.433894",
     "status": "completed"
    },
    "tags": []
   },
   "outputs": [],
   "source": [
    "df_cat1 = pd.get_dummies(df_cat['decision_type'])"
   ]
  },
  {
   "cell_type": "code",
   "execution_count": 51,
   "id": "ac8203fd",
   "metadata": {
    "execution": {
     "iopub.execute_input": "2022-02-09T05:22:49.654596Z",
     "iopub.status.busy": "2022-02-09T05:22:49.653798Z",
     "iopub.status.idle": "2022-02-09T05:22:49.657291Z",
     "shell.execute_reply": "2022-02-09T05:22:49.656871Z",
     "shell.execute_reply.started": "2022-02-02T09:53:22.362158Z"
    },
    "papermill": {
     "duration": 0.077149,
     "end_time": "2022-02-09T05:22:49.657389",
     "exception": false,
     "start_time": "2022-02-09T05:22:49.580240",
     "status": "completed"
    },
    "tags": []
   },
   "outputs": [],
   "source": [
    "df_cat2 = pd.get_dummies(df_cat['disposition'])"
   ]
  },
  {
   "cell_type": "code",
   "execution_count": 52,
   "id": "dd545433",
   "metadata": {
    "execution": {
     "iopub.execute_input": "2022-02-09T05:22:49.801241Z",
     "iopub.status.busy": "2022-02-09T05:22:49.800406Z",
     "iopub.status.idle": "2022-02-09T05:22:49.803178Z",
     "shell.execute_reply": "2022-02-09T05:22:49.802770Z",
     "shell.execute_reply.started": "2022-02-02T09:53:22.375354Z"
    },
    "papermill": {
     "duration": 0.076782,
     "end_time": "2022-02-09T05:22:49.803280",
     "exception": false,
     "start_time": "2022-02-09T05:22:49.726498",
     "status": "completed"
    },
    "tags": []
   },
   "outputs": [],
   "source": [
    "df_cat3=pd.concat([df_cat2,df_cat1],axis=1,join='inner')"
   ]
  },
  {
   "cell_type": "code",
   "execution_count": 53,
   "id": "5d21cf93",
   "metadata": {
    "execution": {
     "iopub.execute_input": "2022-02-09T05:22:49.947787Z",
     "iopub.status.busy": "2022-02-09T05:22:49.947114Z",
     "iopub.status.idle": "2022-02-09T05:22:49.949728Z",
     "shell.execute_reply": "2022-02-09T05:22:49.950137Z",
     "shell.execute_reply.started": "2022-02-02T09:53:22.38484Z"
    },
    "papermill": {
     "duration": 0.077386,
     "end_time": "2022-02-09T05:22:49.950274",
     "exception": false,
     "start_time": "2022-02-09T05:22:49.872888",
     "status": "completed"
    },
    "tags": []
   },
   "outputs": [
    {
     "data": {
      "text/plain": [
       "Index(['affirmed', 'none', 'reversed', 'reversed in-part',\n",
       "       'reversed in-part/remanded', 'reversed/remanded', 'vacated',\n",
       "       'vacated in-part/remanded', 'vacated/remanded',\n",
       "       'dismissal - improvidently granted', 'dismissal - moot',\n",
       "       'dismissal - other', 'equally divided', 'majority opinion',\n",
       "       'opinion of the court', 'per curiam', 'plurality opinion'],\n",
       "      dtype='object')"
      ]
     },
     "execution_count": 53,
     "metadata": {},
     "output_type": "execute_result"
    }
   ],
   "source": [
    "df_cat3.columns"
   ]
  },
  {
   "cell_type": "code",
   "execution_count": 54,
   "id": "e0c4c61e",
   "metadata": {
    "execution": {
     "iopub.execute_input": "2022-02-09T05:22:50.095343Z",
     "iopub.status.busy": "2022-02-09T05:22:50.094768Z",
     "iopub.status.idle": "2022-02-09T05:22:50.097660Z",
     "shell.execute_reply": "2022-02-09T05:22:50.097220Z",
     "shell.execute_reply.started": "2022-02-02T09:53:22.399501Z"
    },
    "papermill": {
     "duration": 0.077265,
     "end_time": "2022-02-09T05:22:50.097763",
     "exception": false,
     "start_time": "2022-02-09T05:22:50.020498",
     "status": "completed"
    },
    "tags": []
   },
   "outputs": [],
   "source": [
    "df_cat3=pd.concat([df_cat3,df_nl1['first_party_winner']],axis=1,join='inner')"
   ]
  },
  {
   "cell_type": "code",
   "execution_count": 55,
   "id": "2387cf8c",
   "metadata": {
    "execution": {
     "iopub.execute_input": "2022-02-09T05:22:50.241393Z",
     "iopub.status.busy": "2022-02-09T05:22:50.240481Z",
     "iopub.status.idle": "2022-02-09T05:22:50.242409Z",
     "shell.execute_reply": "2022-02-09T05:22:50.242858Z",
     "shell.execute_reply.started": "2022-02-02T09:53:22.412028Z"
    },
    "papermill": {
     "duration": 0.075617,
     "end_time": "2022-02-09T05:22:50.242977",
     "exception": false,
     "start_time": "2022-02-09T05:22:50.167360",
     "status": "completed"
    },
    "tags": []
   },
   "outputs": [],
   "source": [
    "vectorize=CountVectorizer()"
   ]
  },
  {
   "cell_type": "code",
   "execution_count": 56,
   "id": "bb83e24a",
   "metadata": {
    "execution": {
     "iopub.execute_input": "2022-02-09T05:22:50.390482Z",
     "iopub.status.busy": "2022-02-09T05:22:50.389753Z",
     "iopub.status.idle": "2022-02-09T05:22:50.957881Z",
     "shell.execute_reply": "2022-02-09T05:22:50.957305Z",
     "shell.execute_reply.started": "2022-02-02T09:53:22.422618Z"
    },
    "papermill": {
     "duration": 0.64526,
     "end_time": "2022-02-09T05:22:50.958017",
     "exception": false,
     "start_time": "2022-02-09T05:22:50.312757",
     "status": "completed"
    },
    "tags": []
   },
   "outputs": [],
   "source": [
    "count_matrix = vectorize.fit_transform(df_nl1['facts_clean'])\n",
    "count_array = count_matrix.toarray()\n",
    "data_final = pd.DataFrame(data=count_array,columns = vectorize.get_feature_names())"
   ]
  },
  {
   "cell_type": "code",
   "execution_count": 57,
   "id": "32422ee0",
   "metadata": {
    "execution": {
     "iopub.execute_input": "2022-02-09T05:22:51.108973Z",
     "iopub.status.busy": "2022-02-09T05:22:51.108236Z",
     "iopub.status.idle": "2022-02-09T05:22:51.954062Z",
     "shell.execute_reply": "2022-02-09T05:22:51.954810Z",
     "shell.execute_reply.started": "2022-02-02T09:53:23.075958Z"
    },
    "papermill": {
     "duration": 0.925471,
     "end_time": "2022-02-09T05:22:51.955015",
     "exception": false,
     "start_time": "2022-02-09T05:22:51.029544",
     "status": "completed"
    },
    "tags": []
   },
   "outputs": [],
   "source": [
    "data_final = pd.concat([data_final,df_cat3],axis=1,join='inner')"
   ]
  },
  {
   "cell_type": "code",
   "execution_count": 58,
   "id": "69ac3caa",
   "metadata": {
    "execution": {
     "iopub.execute_input": "2022-02-09T05:22:52.232187Z",
     "iopub.status.busy": "2022-02-09T05:22:52.229637Z",
     "iopub.status.idle": "2022-02-09T05:22:52.259293Z",
     "shell.execute_reply": "2022-02-09T05:22:52.260302Z",
     "shell.execute_reply.started": "2022-02-02T09:53:24.203426Z"
    },
    "papermill": {
     "duration": 0.164957,
     "end_time": "2022-02-09T05:22:52.260583",
     "exception": false,
     "start_time": "2022-02-09T05:22:52.095626",
     "status": "completed"
    },
    "tags": []
   },
   "outputs": [
    {
     "data": {
      "text/html": [
       "<div>\n",
       "<style scoped>\n",
       "    .dataframe tbody tr th:only-of-type {\n",
       "        vertical-align: middle;\n",
       "    }\n",
       "\n",
       "    .dataframe tbody tr th {\n",
       "        vertical-align: top;\n",
       "    }\n",
       "\n",
       "    .dataframe thead th {\n",
       "        text-align: right;\n",
       "    }\n",
       "</style>\n",
       "<table border=\"1\" class=\"dataframe\">\n",
       "  <thead>\n",
       "    <tr style=\"text-align: right;\">\n",
       "      <th></th>\n",
       "      <th>011119</th>\n",
       "      <th>0125</th>\n",
       "      <th>01657</th>\n",
       "      <th>019</th>\n",
       "      <th>02</th>\n",
       "      <th>036539</th>\n",
       "      <th>04</th>\n",
       "      <th>041352</th>\n",
       "      <th>041581</th>\n",
       "      <th>045323</th>\n",
       "      <th>...</th>\n",
       "      <th>vacated/remanded</th>\n",
       "      <th>dismissal - improvidently granted</th>\n",
       "      <th>dismissal - moot</th>\n",
       "      <th>dismissal - other</th>\n",
       "      <th>equally divided</th>\n",
       "      <th>majority opinion</th>\n",
       "      <th>opinion of the court</th>\n",
       "      <th>per curiam</th>\n",
       "      <th>plurality opinion</th>\n",
       "      <th>first_party_winner</th>\n",
       "    </tr>\n",
       "  </thead>\n",
       "  <tbody>\n",
       "    <tr>\n",
       "      <th>0</th>\n",
       "      <td>0</td>\n",
       "      <td>0</td>\n",
       "      <td>0</td>\n",
       "      <td>0</td>\n",
       "      <td>0</td>\n",
       "      <td>0</td>\n",
       "      <td>0</td>\n",
       "      <td>0</td>\n",
       "      <td>0</td>\n",
       "      <td>0</td>\n",
       "      <td>...</td>\n",
       "      <td>0</td>\n",
       "      <td>0</td>\n",
       "      <td>0</td>\n",
       "      <td>0</td>\n",
       "      <td>0</td>\n",
       "      <td>1</td>\n",
       "      <td>0</td>\n",
       "      <td>0</td>\n",
       "      <td>0</td>\n",
       "      <td>1</td>\n",
       "    </tr>\n",
       "    <tr>\n",
       "      <th>1</th>\n",
       "      <td>0</td>\n",
       "      <td>0</td>\n",
       "      <td>0</td>\n",
       "      <td>0</td>\n",
       "      <td>0</td>\n",
       "      <td>0</td>\n",
       "      <td>0</td>\n",
       "      <td>0</td>\n",
       "      <td>0</td>\n",
       "      <td>0</td>\n",
       "      <td>...</td>\n",
       "      <td>0</td>\n",
       "      <td>0</td>\n",
       "      <td>0</td>\n",
       "      <td>0</td>\n",
       "      <td>0</td>\n",
       "      <td>1</td>\n",
       "      <td>0</td>\n",
       "      <td>0</td>\n",
       "      <td>0</td>\n",
       "      <td>1</td>\n",
       "    </tr>\n",
       "    <tr>\n",
       "      <th>2</th>\n",
       "      <td>0</td>\n",
       "      <td>0</td>\n",
       "      <td>0</td>\n",
       "      <td>0</td>\n",
       "      <td>0</td>\n",
       "      <td>0</td>\n",
       "      <td>0</td>\n",
       "      <td>0</td>\n",
       "      <td>0</td>\n",
       "      <td>0</td>\n",
       "      <td>...</td>\n",
       "      <td>0</td>\n",
       "      <td>0</td>\n",
       "      <td>0</td>\n",
       "      <td>0</td>\n",
       "      <td>0</td>\n",
       "      <td>1</td>\n",
       "      <td>0</td>\n",
       "      <td>0</td>\n",
       "      <td>0</td>\n",
       "      <td>1</td>\n",
       "    </tr>\n",
       "    <tr>\n",
       "      <th>3</th>\n",
       "      <td>0</td>\n",
       "      <td>0</td>\n",
       "      <td>0</td>\n",
       "      <td>0</td>\n",
       "      <td>0</td>\n",
       "      <td>0</td>\n",
       "      <td>0</td>\n",
       "      <td>0</td>\n",
       "      <td>0</td>\n",
       "      <td>0</td>\n",
       "      <td>...</td>\n",
       "      <td>1</td>\n",
       "      <td>0</td>\n",
       "      <td>0</td>\n",
       "      <td>0</td>\n",
       "      <td>0</td>\n",
       "      <td>1</td>\n",
       "      <td>0</td>\n",
       "      <td>0</td>\n",
       "      <td>0</td>\n",
       "      <td>1</td>\n",
       "    </tr>\n",
       "    <tr>\n",
       "      <th>4</th>\n",
       "      <td>0</td>\n",
       "      <td>0</td>\n",
       "      <td>0</td>\n",
       "      <td>0</td>\n",
       "      <td>0</td>\n",
       "      <td>0</td>\n",
       "      <td>0</td>\n",
       "      <td>0</td>\n",
       "      <td>0</td>\n",
       "      <td>0</td>\n",
       "      <td>...</td>\n",
       "      <td>0</td>\n",
       "      <td>0</td>\n",
       "      <td>0</td>\n",
       "      <td>0</td>\n",
       "      <td>0</td>\n",
       "      <td>1</td>\n",
       "      <td>0</td>\n",
       "      <td>0</td>\n",
       "      <td>0</td>\n",
       "      <td>1</td>\n",
       "    </tr>\n",
       "    <tr>\n",
       "      <th>...</th>\n",
       "      <td>...</td>\n",
       "      <td>...</td>\n",
       "      <td>...</td>\n",
       "      <td>...</td>\n",
       "      <td>...</td>\n",
       "      <td>...</td>\n",
       "      <td>...</td>\n",
       "      <td>...</td>\n",
       "      <td>...</td>\n",
       "      <td>...</td>\n",
       "      <td>...</td>\n",
       "      <td>...</td>\n",
       "      <td>...</td>\n",
       "      <td>...</td>\n",
       "      <td>...</td>\n",
       "      <td>...</td>\n",
       "      <td>...</td>\n",
       "      <td>...</td>\n",
       "      <td>...</td>\n",
       "      <td>...</td>\n",
       "      <td>...</td>\n",
       "    </tr>\n",
       "    <tr>\n",
       "      <th>3093</th>\n",
       "      <td>0</td>\n",
       "      <td>0</td>\n",
       "      <td>0</td>\n",
       "      <td>0</td>\n",
       "      <td>0</td>\n",
       "      <td>0</td>\n",
       "      <td>0</td>\n",
       "      <td>0</td>\n",
       "      <td>0</td>\n",
       "      <td>0</td>\n",
       "      <td>...</td>\n",
       "      <td>0</td>\n",
       "      <td>0</td>\n",
       "      <td>0</td>\n",
       "      <td>0</td>\n",
       "      <td>0</td>\n",
       "      <td>1</td>\n",
       "      <td>0</td>\n",
       "      <td>0</td>\n",
       "      <td>0</td>\n",
       "      <td>1</td>\n",
       "    </tr>\n",
       "    <tr>\n",
       "      <th>3094</th>\n",
       "      <td>0</td>\n",
       "      <td>0</td>\n",
       "      <td>0</td>\n",
       "      <td>0</td>\n",
       "      <td>0</td>\n",
       "      <td>0</td>\n",
       "      <td>0</td>\n",
       "      <td>0</td>\n",
       "      <td>0</td>\n",
       "      <td>0</td>\n",
       "      <td>...</td>\n",
       "      <td>0</td>\n",
       "      <td>0</td>\n",
       "      <td>0</td>\n",
       "      <td>0</td>\n",
       "      <td>0</td>\n",
       "      <td>1</td>\n",
       "      <td>0</td>\n",
       "      <td>0</td>\n",
       "      <td>0</td>\n",
       "      <td>1</td>\n",
       "    </tr>\n",
       "    <tr>\n",
       "      <th>3095</th>\n",
       "      <td>0</td>\n",
       "      <td>0</td>\n",
       "      <td>0</td>\n",
       "      <td>0</td>\n",
       "      <td>0</td>\n",
       "      <td>0</td>\n",
       "      <td>0</td>\n",
       "      <td>0</td>\n",
       "      <td>0</td>\n",
       "      <td>0</td>\n",
       "      <td>...</td>\n",
       "      <td>0</td>\n",
       "      <td>0</td>\n",
       "      <td>0</td>\n",
       "      <td>0</td>\n",
       "      <td>0</td>\n",
       "      <td>1</td>\n",
       "      <td>0</td>\n",
       "      <td>0</td>\n",
       "      <td>0</td>\n",
       "      <td>0</td>\n",
       "    </tr>\n",
       "    <tr>\n",
       "      <th>3096</th>\n",
       "      <td>0</td>\n",
       "      <td>0</td>\n",
       "      <td>0</td>\n",
       "      <td>0</td>\n",
       "      <td>0</td>\n",
       "      <td>0</td>\n",
       "      <td>0</td>\n",
       "      <td>0</td>\n",
       "      <td>0</td>\n",
       "      <td>0</td>\n",
       "      <td>...</td>\n",
       "      <td>1</td>\n",
       "      <td>0</td>\n",
       "      <td>0</td>\n",
       "      <td>0</td>\n",
       "      <td>0</td>\n",
       "      <td>1</td>\n",
       "      <td>0</td>\n",
       "      <td>0</td>\n",
       "      <td>0</td>\n",
       "      <td>1</td>\n",
       "    </tr>\n",
       "    <tr>\n",
       "      <th>3097</th>\n",
       "      <td>0</td>\n",
       "      <td>0</td>\n",
       "      <td>0</td>\n",
       "      <td>0</td>\n",
       "      <td>0</td>\n",
       "      <td>0</td>\n",
       "      <td>0</td>\n",
       "      <td>0</td>\n",
       "      <td>0</td>\n",
       "      <td>0</td>\n",
       "      <td>...</td>\n",
       "      <td>0</td>\n",
       "      <td>0</td>\n",
       "      <td>0</td>\n",
       "      <td>0</td>\n",
       "      <td>0</td>\n",
       "      <td>1</td>\n",
       "      <td>0</td>\n",
       "      <td>0</td>\n",
       "      <td>0</td>\n",
       "      <td>1</td>\n",
       "    </tr>\n",
       "  </tbody>\n",
       "</table>\n",
       "<p>3098 rows × 20269 columns</p>\n",
       "</div>"
      ],
      "text/plain": [
       "      011119  0125  01657  019  02  036539  04  041352  041581  045323  ...  \\\n",
       "0          0     0      0    0   0       0   0       0       0       0  ...   \n",
       "1          0     0      0    0   0       0   0       0       0       0  ...   \n",
       "2          0     0      0    0   0       0   0       0       0       0  ...   \n",
       "3          0     0      0    0   0       0   0       0       0       0  ...   \n",
       "4          0     0      0    0   0       0   0       0       0       0  ...   \n",
       "...      ...   ...    ...  ...  ..     ...  ..     ...     ...     ...  ...   \n",
       "3093       0     0      0    0   0       0   0       0       0       0  ...   \n",
       "3094       0     0      0    0   0       0   0       0       0       0  ...   \n",
       "3095       0     0      0    0   0       0   0       0       0       0  ...   \n",
       "3096       0     0      0    0   0       0   0       0       0       0  ...   \n",
       "3097       0     0      0    0   0       0   0       0       0       0  ...   \n",
       "\n",
       "      vacated/remanded  dismissal - improvidently granted  dismissal - moot  \\\n",
       "0                    0                                  0                 0   \n",
       "1                    0                                  0                 0   \n",
       "2                    0                                  0                 0   \n",
       "3                    1                                  0                 0   \n",
       "4                    0                                  0                 0   \n",
       "...                ...                                ...               ...   \n",
       "3093                 0                                  0                 0   \n",
       "3094                 0                                  0                 0   \n",
       "3095                 0                                  0                 0   \n",
       "3096                 1                                  0                 0   \n",
       "3097                 0                                  0                 0   \n",
       "\n",
       "      dismissal - other  equally divided  majority opinion  \\\n",
       "0                     0                0                 1   \n",
       "1                     0                0                 1   \n",
       "2                     0                0                 1   \n",
       "3                     0                0                 1   \n",
       "4                     0                0                 1   \n",
       "...                 ...              ...               ...   \n",
       "3093                  0                0                 1   \n",
       "3094                  0                0                 1   \n",
       "3095                  0                0                 1   \n",
       "3096                  0                0                 1   \n",
       "3097                  0                0                 1   \n",
       "\n",
       "      opinion of the court  per curiam  plurality opinion  first_party_winner  \n",
       "0                        0           0                  0                   1  \n",
       "1                        0           0                  0                   1  \n",
       "2                        0           0                  0                   1  \n",
       "3                        0           0                  0                   1  \n",
       "4                        0           0                  0                   1  \n",
       "...                    ...         ...                ...                 ...  \n",
       "3093                     0           0                  0                   1  \n",
       "3094                     0           0                  0                   1  \n",
       "3095                     0           0                  0                   0  \n",
       "3096                     0           0                  0                   1  \n",
       "3097                     0           0                  0                   1  \n",
       "\n",
       "[3098 rows x 20269 columns]"
      ]
     },
     "execution_count": 58,
     "metadata": {},
     "output_type": "execute_result"
    }
   ],
   "source": [
    "data_final"
   ]
  },
  {
   "cell_type": "code",
   "execution_count": 59,
   "id": "f4ed55a1",
   "metadata": {
    "execution": {
     "iopub.execute_input": "2022-02-09T05:22:52.465704Z",
     "iopub.status.busy": "2022-02-09T05:22:52.464476Z",
     "iopub.status.idle": "2022-02-09T05:22:53.270776Z",
     "shell.execute_reply": "2022-02-09T05:22:53.269838Z",
     "shell.execute_reply.started": "2022-02-02T09:53:24.249306Z"
    },
    "papermill": {
     "duration": 0.897336,
     "end_time": "2022-02-09T05:22:53.270964",
     "exception": false,
     "start_time": "2022-02-09T05:22:52.373628",
     "status": "completed"
    },
    "tags": []
   },
   "outputs": [],
   "source": [
    "X_train, X_test, y_train, y_test = train_test_split(data_final.drop(columns=['first_party_winner']),\n",
    "                                                    data_final['first_party_winner'], \n",
    "                                                    test_size=0.3,random_state=10)"
   ]
  },
  {
   "cell_type": "code",
   "execution_count": 60,
   "id": "9b7b2c20",
   "metadata": {
    "execution": {
     "iopub.execute_input": "2022-02-09T05:22:53.455384Z",
     "iopub.status.busy": "2022-02-09T05:22:53.440715Z",
     "iopub.status.idle": "2022-02-09T05:22:55.636438Z",
     "shell.execute_reply": "2022-02-09T05:22:55.637067Z",
     "shell.execute_reply.started": "2022-02-02T09:53:25.257647Z"
    },
    "papermill": {
     "duration": 2.294711,
     "end_time": "2022-02-09T05:22:55.637229",
     "exception": false,
     "start_time": "2022-02-09T05:22:53.342518",
     "status": "completed"
    },
    "tags": []
   },
   "outputs": [],
   "source": [
    "from sklearn.preprocessing import StandardScaler\n",
    "scaler = StandardScaler()\n",
    "data_final = scaler.fit_transform(data_final)"
   ]
  },
  {
   "cell_type": "markdown",
   "id": "46dd046d",
   "metadata": {
    "papermill": {
     "duration": 0.070715,
     "end_time": "2022-02-09T05:22:55.778732",
     "exception": false,
     "start_time": "2022-02-09T05:22:55.708017",
     "status": "completed"
    },
    "tags": []
   },
   "source": [
    "# 10. Performing LDA and hyper-parameter tuning"
   ]
  },
  {
   "cell_type": "code",
   "execution_count": 61,
   "id": "70f83399",
   "metadata": {
    "execution": {
     "iopub.execute_input": "2022-02-09T05:22:55.925839Z",
     "iopub.status.busy": "2022-02-09T05:22:55.925160Z",
     "iopub.status.idle": "2022-02-09T05:23:54.177943Z",
     "shell.execute_reply": "2022-02-09T05:23:54.179104Z",
     "shell.execute_reply.started": "2022-02-02T09:54:29.342945Z"
    },
    "papermill": {
     "duration": 58.329453,
     "end_time": "2022-02-09T05:23:54.179362",
     "exception": false,
     "start_time": "2022-02-09T05:22:55.849909",
     "status": "completed"
    },
    "tags": []
   },
   "outputs": [],
   "source": [
    "from sklearn.decomposition import LatentDirichletAllocation\n",
    "lda = LatentDirichletAllocation(n_components=200, random_state=0)\n",
    "lda_data = lda.fit_transform(X_train)"
   ]
  },
  {
   "cell_type": "code",
   "execution_count": 62,
   "id": "290b405f",
   "metadata": {
    "execution": {
     "iopub.execute_input": "2022-02-09T05:23:54.387915Z",
     "iopub.status.busy": "2022-02-09T05:23:54.387030Z",
     "iopub.status.idle": "2022-02-09T05:23:54.388929Z",
     "shell.execute_reply": "2022-02-09T05:23:54.389325Z",
     "shell.execute_reply.started": "2022-02-02T09:55:34.557354Z"
    },
    "papermill": {
     "duration": 0.077025,
     "end_time": "2022-02-09T05:23:54.389453",
     "exception": false,
     "start_time": "2022-02-09T05:23:54.312428",
     "status": "completed"
    },
    "tags": []
   },
   "outputs": [],
   "source": [
    "lda_data_train = pd.DataFrame(data=lda_data)"
   ]
  },
  {
   "cell_type": "code",
   "execution_count": 63,
   "id": "554dd73a",
   "metadata": {
    "execution": {
     "iopub.execute_input": "2022-02-09T05:23:54.534714Z",
     "iopub.status.busy": "2022-02-09T05:23:54.533785Z",
     "iopub.status.idle": "2022-02-09T05:23:56.611738Z",
     "shell.execute_reply": "2022-02-09T05:23:56.613078Z",
     "shell.execute_reply.started": "2022-02-02T09:55:34.565772Z"
    },
    "papermill": {
     "duration": 2.153334,
     "end_time": "2022-02-09T05:23:56.613334",
     "exception": false,
     "start_time": "2022-02-09T05:23:54.460000",
     "status": "completed"
    },
    "tags": []
   },
   "outputs": [],
   "source": [
    "lda_data_test = pd.DataFrame(data=lda.transform(X_test))"
   ]
  },
  {
   "cell_type": "code",
   "execution_count": 64,
   "id": "99160af7",
   "metadata": {
    "_kg_hide-input": true,
    "execution": {
     "iopub.execute_input": "2022-02-09T05:23:56.827291Z",
     "iopub.status.busy": "2022-02-09T05:23:56.826318Z",
     "iopub.status.idle": "2022-02-09T05:23:56.828390Z",
     "shell.execute_reply": "2022-02-09T05:23:56.828840Z",
     "shell.execute_reply.started": "2022-02-02T09:53:58.05615Z"
    },
    "papermill": {
     "duration": 0.08354,
     "end_time": "2022-02-09T05:23:56.828975",
     "exception": false,
     "start_time": "2022-02-09T05:23:56.745435",
     "status": "completed"
    },
    "scrolled": true,
    "tags": []
   },
   "outputs": [],
   "source": [
    "# Create the parameter grid based on the results of random search \n",
    "from sklearn.model_selection import GridSearchCV\n",
    "param_grid = {\n",
    "    'max_depth': [8,10,12,14],\n",
    "    'max_features': [60,70,80,90,100],\n",
    "    'min_samples_leaf': [2, 3, 4],\n",
    "    'n_estimators': [100, 200, 300]\n",
    "}# Create a based model\n",
    "rf = RandomForestClassifier()# Instantiate the grid search model\n",
    "grid_search = GridSearchCV(estimator = rf, param_grid = param_grid, \n",
    "                          cv = 3, n_jobs = -1, verbose = 2)"
   ]
  },
  {
   "cell_type": "code",
   "execution_count": 65,
   "id": "4c0838e4",
   "metadata": {
    "_kg_hide-input": true,
    "_kg_hide-output": true,
    "execution": {
     "iopub.execute_input": "2022-02-09T05:23:56.975482Z",
     "iopub.status.busy": "2022-02-09T05:23:56.974821Z",
     "iopub.status.idle": "2022-02-09T06:18:08.121728Z",
     "shell.execute_reply": "2022-02-09T06:18:08.121274Z",
     "shell.execute_reply.started": "2022-02-02T09:54:23.960252Z"
    },
    "papermill": {
     "duration": 3251.222054,
     "end_time": "2022-02-09T06:18:08.121865",
     "exception": false,
     "start_time": "2022-02-09T05:23:56.899811",
     "status": "completed"
    },
    "scrolled": true,
    "tags": []
   },
   "outputs": [
    {
     "name": "stdout",
     "output_type": "stream",
     "text": [
      "Fitting 3 folds for each of 180 candidates, totalling 540 fits\n"
     ]
    },
    {
     "name": "stderr",
     "output_type": "stream",
     "text": [
      "[Parallel(n_jobs=-1)]: Using backend LokyBackend with 2 concurrent workers.\n",
      "[Parallel(n_jobs=-1)]: Done  37 tasks      | elapsed:  2.3min\n"
     ]
    },
    {
     "name": "stdout",
     "output_type": "stream",
     "text": [
      "[CV] max_depth=8, max_features=60, min_samples_leaf=2, n_estimators=100 \n",
      "[CV]  max_depth=8, max_features=60, min_samples_leaf=2, n_estimators=100, total=   3.5s\n",
      "[CV] max_depth=8, max_features=60, min_samples_leaf=2, n_estimators=100 \n",
      "[CV]  max_depth=8, max_features=60, min_samples_leaf=2, n_estimators=100, total=   3.6s\n",
      "[CV] max_depth=8, max_features=60, min_samples_leaf=2, n_estimators=200 \n",
      "[CV]  max_depth=8, max_features=60, min_samples_leaf=2, n_estimators=200, total=   7.8s\n",
      "[CV] max_depth=8, max_features=60, min_samples_leaf=2, n_estimators=300 \n",
      "[CV]  max_depth=8, max_features=60, min_samples_leaf=2, n_estimators=300, total=  10.7s\n",
      "[CV] max_depth=8, max_features=60, min_samples_leaf=2, n_estimators=300 \n",
      "[CV]  max_depth=8, max_features=60, min_samples_leaf=2, n_estimators=300, total=  10.7s\n",
      "[CV] max_depth=8, max_features=60, min_samples_leaf=3, n_estimators=200 \n",
      "[CV]  max_depth=8, max_features=60, min_samples_leaf=3, n_estimators=200, total=   7.2s\n",
      "[CV] max_depth=8, max_features=60, min_samples_leaf=3, n_estimators=200 \n",
      "[CV]  max_depth=8, max_features=60, min_samples_leaf=3, n_estimators=200, total=   7.4s\n",
      "[CV] max_depth=8, max_features=60, min_samples_leaf=3, n_estimators=300 \n",
      "[CV]  max_depth=8, max_features=60, min_samples_leaf=3, n_estimators=300, total=  10.5s\n",
      "[CV] max_depth=8, max_features=60, min_samples_leaf=4, n_estimators=100 \n",
      "[CV]  max_depth=8, max_features=60, min_samples_leaf=4, n_estimators=100, total=   3.7s\n",
      "[CV] max_depth=8, max_features=60, min_samples_leaf=4, n_estimators=100 \n",
      "[CV]  max_depth=8, max_features=60, min_samples_leaf=4, n_estimators=100, total=   3.3s\n",
      "[CV] max_depth=8, max_features=60, min_samples_leaf=4, n_estimators=200 \n",
      "[CV]  max_depth=8, max_features=60, min_samples_leaf=4, n_estimators=200, total=   6.8s\n",
      "[CV] max_depth=8, max_features=60, min_samples_leaf=4, n_estimators=200 \n",
      "[CV]  max_depth=8, max_features=60, min_samples_leaf=4, n_estimators=200, total=   7.5s\n",
      "[CV] max_depth=8, max_features=60, min_samples_leaf=4, n_estimators=300 \n",
      "[CV]  max_depth=8, max_features=60, min_samples_leaf=4, n_estimators=300, total=  10.4s\n",
      "[CV] max_depth=8, max_features=70, min_samples_leaf=2, n_estimators=100 \n",
      "[CV]  max_depth=8, max_features=70, min_samples_leaf=2, n_estimators=100, total=   4.0s\n",
      "[CV] max_depth=8, max_features=70, min_samples_leaf=2, n_estimators=100 \n",
      "[CV]  max_depth=8, max_features=70, min_samples_leaf=2, n_estimators=100, total=   4.3s\n",
      "[CV] max_depth=8, max_features=70, min_samples_leaf=2, n_estimators=200 \n",
      "[CV]  max_depth=8, max_features=70, min_samples_leaf=2, n_estimators=200, total=   8.3s\n",
      "[CV] max_depth=8, max_features=70, min_samples_leaf=2, n_estimators=200 \n",
      "[CV]  max_depth=8, max_features=70, min_samples_leaf=2, n_estimators=200, total=   8.6s\n",
      "[CV] max_depth=8, max_features=70, min_samples_leaf=2, n_estimators=300 \n",
      "[CV]  max_depth=8, max_features=70, min_samples_leaf=2, n_estimators=300, total=  12.5s\n",
      "[CV] max_depth=8, max_features=70, min_samples_leaf=3, n_estimators=100 \n",
      "[CV]  max_depth=8, max_features=70, min_samples_leaf=3, n_estimators=100, total=   4.0s\n",
      "[CV] max_depth=8, max_features=70, min_samples_leaf=3, n_estimators=100 \n",
      "[CV]  max_depth=8, max_features=70, min_samples_leaf=3, n_estimators=100, total=   3.9s\n",
      "[CV] max_depth=8, max_features=70, min_samples_leaf=3, n_estimators=200 \n",
      "[CV]  max_depth=8, max_features=70, min_samples_leaf=3, n_estimators=200, total=   8.9s\n",
      "[CV] max_depth=8, max_features=70, min_samples_leaf=3, n_estimators=200 \n",
      "[CV]  max_depth=8, max_features=70, min_samples_leaf=3, n_estimators=200, total=   8.1s\n",
      "[CV] max_depth=8, max_features=70, min_samples_leaf=3, n_estimators=300 \n",
      "[CV]  max_depth=8, max_features=70, min_samples_leaf=3, n_estimators=300, total=  12.0s\n",
      "[CV] max_depth=8, max_features=70, min_samples_leaf=4, n_estimators=100 \n",
      "[CV]  max_depth=8, max_features=70, min_samples_leaf=4, n_estimators=100, total=   3.9s\n",
      "[CV] max_depth=8, max_features=70, min_samples_leaf=4, n_estimators=100 \n",
      "[CV]  max_depth=8, max_features=70, min_samples_leaf=4, n_estimators=100, total=   4.1s\n",
      "[CV] max_depth=8, max_features=70, min_samples_leaf=4, n_estimators=200 \n",
      "[CV]  max_depth=8, max_features=70, min_samples_leaf=4, n_estimators=200, total=   8.4s\n",
      "[CV] max_depth=8, max_features=70, min_samples_leaf=4, n_estimators=200 \n",
      "[CV]  max_depth=8, max_features=70, min_samples_leaf=4, n_estimators=200, total=   8.0s\n",
      "[CV] max_depth=8, max_features=70, min_samples_leaf=4, n_estimators=300 \n",
      "[CV]  max_depth=8, max_features=70, min_samples_leaf=4, n_estimators=300, total=  12.0s\n",
      "[CV] max_depth=8, max_features=80, min_samples_leaf=2, n_estimators=100 \n",
      "[CV]  max_depth=8, max_features=80, min_samples_leaf=2, n_estimators=100, total=   4.8s\n",
      "[CV] max_depth=8, max_features=80, min_samples_leaf=2, n_estimators=100 \n",
      "[CV]  max_depth=8, max_features=80, min_samples_leaf=2, n_estimators=100, total=   5.2s\n",
      "[CV] max_depth=8, max_features=80, min_samples_leaf=2, n_estimators=200 \n",
      "[CV]  max_depth=8, max_features=80, min_samples_leaf=2, n_estimators=200, total=   9.5s\n",
      "[CV] max_depth=8, max_features=80, min_samples_leaf=2, n_estimators=200 \n",
      "[CV]  max_depth=8, max_features=80, min_samples_leaf=2, n_estimators=200, total=   9.3s\n",
      "[CV] max_depth=8, max_features=80, min_samples_leaf=2, n_estimators=300 \n",
      "[CV]  max_depth=8, max_features=80, min_samples_leaf=2, n_estimators=300, total=  14.6s\n",
      "[CV] max_depth=8, max_features=80, min_samples_leaf=3, n_estimators=100 \n",
      "[CV]  max_depth=8, max_features=80, min_samples_leaf=3, n_estimators=100, total=   4.8s\n",
      "[CV] max_depth=8, max_features=80, min_samples_leaf=3, n_estimators=100 \n",
      "[CV]  max_depth=8, max_features=80, min_samples_leaf=3, n_estimators=100, total=   4.4s\n",
      "[CV] max_depth=8, max_features=80, min_samples_leaf=3, n_estimators=200 \n",
      "[CV]  max_depth=8, max_features=80, min_samples_leaf=3, n_estimators=200, total=   9.4s\n",
      "[CV] max_depth=8, max_features=80, min_samples_leaf=3, n_estimators=200 \n",
      "[CV]  max_depth=8, max_features=80, min_samples_leaf=3, n_estimators=200, total=   9.9s\n",
      "[CV] max_depth=8, max_features=80, min_samples_leaf=3, n_estimators=300 \n",
      "[CV]  max_depth=8, max_features=80, min_samples_leaf=3, n_estimators=300, total=  13.7s\n",
      "[CV] max_depth=8, max_features=80, min_samples_leaf=4, n_estimators=100 \n",
      "[CV]  max_depth=8, max_features=80, min_samples_leaf=4, n_estimators=100, total=   4.5s\n",
      "[CV] max_depth=8, max_features=80, min_samples_leaf=4, n_estimators=100 \n",
      "[CV]  max_depth=8, max_features=80, min_samples_leaf=4, n_estimators=100, total=   4.6s\n",
      "[CV] max_depth=8, max_features=80, min_samples_leaf=4, n_estimators=200 \n",
      "[CV]  max_depth=8, max_features=80, min_samples_leaf=4, n_estimators=200, total=   9.8s\n",
      "[CV] max_depth=8, max_features=80, min_samples_leaf=4, n_estimators=200 \n",
      "[CV]  max_depth=8, max_features=80, min_samples_leaf=4, n_estimators=200, total=   9.3s\n",
      "[CV] max_depth=8, max_features=80, min_samples_leaf=4, n_estimators=300 \n",
      "[CV]  max_depth=8, max_features=80, min_samples_leaf=4, n_estimators=300, total=  13.7s\n",
      "[CV] max_depth=8, max_features=90, min_samples_leaf=2, n_estimators=100 \n",
      "[CV]  max_depth=8, max_features=90, min_samples_leaf=2, n_estimators=100, total=   5.1s\n",
      "[CV] max_depth=8, max_features=90, min_samples_leaf=2, n_estimators=100 \n",
      "[CV]  max_depth=8, max_features=90, min_samples_leaf=2, n_estimators=100, total=   5.9s\n",
      "[CV] max_depth=8, max_features=90, min_samples_leaf=2, n_estimators=200 \n",
      "[CV]  max_depth=8, max_features=90, min_samples_leaf=2, n_estimators=200, total=  10.5s\n",
      "[CV] max_depth=8, max_features=90, min_samples_leaf=2, n_estimators=200 \n",
      "[CV]  max_depth=8, max_features=90, min_samples_leaf=2, n_estimators=200, total=  10.4s\n",
      "[CV] max_depth=8, max_features=90, min_samples_leaf=2, n_estimators=300 \n",
      "[CV]  max_depth=8, max_features=90, min_samples_leaf=2, n_estimators=300, total=  16.0s\n",
      "[CV] max_depth=8, max_features=90, min_samples_leaf=3, n_estimators=100 \n",
      "[CV]  max_depth=8, max_features=90, min_samples_leaf=3, n_estimators=100, total=   5.4s\n",
      "[CV] max_depth=8, max_features=90, min_samples_leaf=3, n_estimators=100 \n",
      "[CV]  max_depth=8, max_features=90, min_samples_leaf=3, n_estimators=100, total=   5.0s\n",
      "[CV] max_depth=8, max_features=90, min_samples_leaf=3, n_estimators=200 \n",
      "[CV]  max_depth=8, max_features=90, min_samples_leaf=3, n_estimators=200, total=  10.6s[CV] max_depth=8, max_features=60, min_samples_leaf=2, n_estimators=100 \n",
      "[CV]  max_depth=8, max_features=60, min_samples_leaf=2, n_estimators=100, total=   3.4s\n",
      "[CV] max_depth=8, max_features=60, min_samples_leaf=2, n_estimators=200 \n",
      "[CV]  max_depth=8, max_features=60, min_samples_leaf=2, n_estimators=200, total=   7.4s\n",
      "[CV] max_depth=8, max_features=60, min_samples_leaf=2, n_estimators=200 \n",
      "[CV]  max_depth=8, max_features=60, min_samples_leaf=2, n_estimators=200, total=   7.4s\n",
      "[CV] max_depth=8, max_features=60, min_samples_leaf=2, n_estimators=300 \n",
      "[CV]  max_depth=8, max_features=60, min_samples_leaf=2, n_estimators=300, total=  10.6s\n",
      "[CV] max_depth=8, max_features=60, min_samples_leaf=3, n_estimators=100 \n",
      "[CV]  max_depth=8, max_features=60, min_samples_leaf=3, n_estimators=100, total=   3.8s\n",
      "[CV] max_depth=8, max_features=60, min_samples_leaf=3, n_estimators=100 \n",
      "[CV]  max_depth=8, max_features=60, min_samples_leaf=3, n_estimators=100, total=   3.5s\n",
      "[CV] max_depth=8, max_features=60, min_samples_leaf=3, n_estimators=100 \n",
      "[CV]  max_depth=8, max_features=60, min_samples_leaf=3, n_estimators=100, total=   3.4s\n",
      "[CV] max_depth=8, max_features=60, min_samples_leaf=3, n_estimators=200 \n",
      "[CV]  max_depth=8, max_features=60, min_samples_leaf=3, n_estimators=200, total=   7.7s\n",
      "[CV] max_depth=8, max_features=60, min_samples_leaf=3, n_estimators=300 \n",
      "[CV]  max_depth=8, max_features=60, min_samples_leaf=3, n_estimators=300, total=  10.6s\n",
      "[CV] max_depth=8, max_features=60, min_samples_leaf=3, n_estimators=300 \n",
      "[CV]  max_depth=8, max_features=60, min_samples_leaf=3, n_estimators=300, total=  10.4s\n",
      "[CV] max_depth=8, max_features=60, min_samples_leaf=4, n_estimators=100 \n",
      "[CV]  max_depth=8, max_features=60, min_samples_leaf=4, n_estimators=100, total=   3.3s\n",
      "[CV] max_depth=8, max_features=60, min_samples_leaf=4, n_estimators=200 \n",
      "[CV]  max_depth=8, max_features=60, min_samples_leaf=4, n_estimators=200, total=   7.7s\n",
      "[CV] max_depth=8, max_features=60, min_samples_leaf=4, n_estimators=300 \n",
      "[CV]  max_depth=8, max_features=60, min_samples_leaf=4, n_estimators=300, total=  10.6s\n",
      "[CV] max_depth=8, max_features=60, min_samples_leaf=4, n_estimators=300 \n",
      "[CV]  max_depth=8, max_features=60, min_samples_leaf=4, n_estimators=300, total=  10.4s\n",
      "[CV] max_depth=8, max_features=70, min_samples_leaf=2, n_estimators=100 \n",
      "[CV]  max_depth=8, max_features=70, min_samples_leaf=2, n_estimators=100, total=   3.9s\n",
      "[CV] max_depth=8, max_features=70, min_samples_leaf=2, n_estimators=200 \n",
      "[CV]  max_depth=8, max_features=70, min_samples_leaf=2, n_estimators=200, total=   8.8s\n",
      "[CV] max_depth=8, max_features=70, min_samples_leaf=2, n_estimators=300 \n",
      "[CV]  max_depth=8, max_features=70, min_samples_leaf=2, n_estimators=300, total=  12.4s\n",
      "[CV] max_depth=8, max_features=70, min_samples_leaf=2, n_estimators=300 \n",
      "[CV]  max_depth=8, max_features=70, min_samples_leaf=2, n_estimators=300, total=  12.2s\n",
      "[CV] max_depth=8, max_features=70, min_samples_leaf=3, n_estimators=100 \n",
      "[CV]  max_depth=8, max_features=70, min_samples_leaf=3, n_estimators=100, total=   4.2s\n",
      "[CV] max_depth=8, max_features=70, min_samples_leaf=3, n_estimators=200 \n",
      "[CV]  max_depth=8, max_features=70, min_samples_leaf=3, n_estimators=200, total=   8.7s\n",
      "[CV] max_depth=8, max_features=70, min_samples_leaf=3, n_estimators=300 \n",
      "[CV]  max_depth=8, max_features=70, min_samples_leaf=3, n_estimators=300, total=  12.2s\n",
      "[CV] max_depth=8, max_features=70, min_samples_leaf=3, n_estimators=300 \n",
      "[CV]  max_depth=8, max_features=70, min_samples_leaf=3, n_estimators=300, total=  12.4s\n",
      "[CV] max_depth=8, max_features=70, min_samples_leaf=4, n_estimators=100 \n",
      "[CV]  max_depth=8, max_features=70, min_samples_leaf=4, n_estimators=100, total=   4.5s\n",
      "[CV] max_depth=8, max_features=70, min_samples_leaf=4, n_estimators=200 \n",
      "[CV]  max_depth=8, max_features=70, min_samples_leaf=4, n_estimators=200, total=   8.1s\n",
      "[CV] max_depth=8, max_features=70, min_samples_leaf=4, n_estimators=300 \n",
      "[CV]  max_depth=8, max_features=70, min_samples_leaf=4, n_estimators=300, total=  12.1s\n",
      "[CV] max_depth=8, max_features=70, min_samples_leaf=4, n_estimators=300 \n",
      "[CV]  max_depth=8, max_features=70, min_samples_leaf=4, n_estimators=300, total=  12.5s\n",
      "[CV] max_depth=8, max_features=80, min_samples_leaf=2, n_estimators=100 \n",
      "[CV]  max_depth=8, max_features=80, min_samples_leaf=2, n_estimators=100, total=   4.5s\n",
      "[CV] max_depth=8, max_features=80, min_samples_leaf=2, n_estimators=200 \n",
      "[CV]  max_depth=8, max_features=80, min_samples_leaf=2, n_estimators=200, total=   9.4s\n",
      "[CV] max_depth=8, max_features=80, min_samples_leaf=2, n_estimators=300 \n",
      "[CV]  max_depth=8, max_features=80, min_samples_leaf=2, n_estimators=300, total=  13.9s\n",
      "[CV] max_depth=8, max_features=80, min_samples_leaf=2, n_estimators=300 \n",
      "[CV]  max_depth=8, max_features=80, min_samples_leaf=2, n_estimators=300, total=  15.1s\n",
      "[CV] max_depth=8, max_features=80, min_samples_leaf=3, n_estimators=100 \n",
      "[CV]  max_depth=8, max_features=80, min_samples_leaf=3, n_estimators=100, total=   4.5s\n",
      "[CV] max_depth=8, max_features=80, min_samples_leaf=3, n_estimators=200 \n",
      "[CV]  max_depth=8, max_features=80, min_samples_leaf=3, n_estimators=200, total=   9.3s\n",
      "[CV] max_depth=8, max_features=80, min_samples_leaf=3, n_estimators=300 \n",
      "[CV]  max_depth=8, max_features=80, min_samples_leaf=3, n_estimators=300, total=  14.5s\n",
      "[CV] max_depth=8, max_features=80, min_samples_leaf=3, n_estimators=300 \n",
      "[CV]  max_depth=8, max_features=80, min_samples_leaf=3, n_estimators=300, total=  14.0s\n",
      "[CV] max_depth=8, max_features=80, min_samples_leaf=4, n_estimators=100 \n",
      "[CV]  max_depth=8, max_features=80, min_samples_leaf=4, n_estimators=100, total=   4.4s\n",
      "[CV] max_depth=8, max_features=80, min_samples_leaf=4, n_estimators=200 \n",
      "[CV]  max_depth=8, max_features=80, min_samples_leaf=4, n_estimators=200, total=   9.6s\n",
      "[CV] max_depth=8, max_features=80, min_samples_leaf=4, n_estimators=300 \n",
      "[CV]  max_depth=8, max_features=80, min_samples_leaf=4, n_estimators=300, total=  13.8s\n",
      "[CV] max_depth=8, max_features=80, min_samples_leaf=4, n_estimators=300 \n",
      "[CV]  max_depth=8, max_features=80, min_samples_leaf=4, n_estimators=300, total=  13.5s\n",
      "[CV] max_depth=8, max_features=90, min_samples_leaf=2, n_estimators=100 \n",
      "[CV]  max_depth=8, max_features=90, min_samples_leaf=2, n_estimators=100, total=   6.0s\n",
      "[CV] max_depth=8, max_features=90, min_samples_leaf=2, n_estimators=200 \n",
      "[CV]  max_depth=8, max_features=90, min_samples_leaf=2, n_estimators=200, total=  10.4s\n",
      "[CV] max_depth=8, max_features=90, min_samples_leaf=2, n_estimators=300 \n",
      "[CV]  max_depth=8, max_features=90, min_samples_leaf=2, n_estimators=300, total=  15.7s\n",
      "[CV] max_depth=8, max_features=90, min_samples_leaf=2, n_estimators=300 \n",
      "[CV]  max_depth=8, max_features=90, min_samples_leaf=2, n_estimators=300, total=  16.3s\n",
      "[CV] max_depth=8, max_features=90, min_samples_leaf=3, n_estimators=100 \n",
      "[CV]  max_depth=8, max_features=90, min_samples_leaf=3, n_estimators=100, total=   4.9s\n",
      "[CV] max_depth=8, max_features=90, min_samples_leaf=3, n_estimators=200 \n",
      "[CV]  max_depth=8, max_features=90, min_samples_leaf=3, n_estimators=200, total=  10.6s\n",
      "[CV] max_depth=8, max_features=90, min_samples_leaf=3, n_estimators=300 \n",
      "[CV]  max_depth=8, max_features=90, min_samples_leaf=3, n_estimators=300, total=  16.5s\n",
      "[CV] max_depth=8, max_features=90, min_samples_leaf=3, n_estimators=300 \n",
      "[CV]  max_depth=8, max_features=90, min_samples_leaf=3, n_estimators=300, total=  15.3s\n",
      "[CV] max_depth=8, max_features=90, min_samples_leaf=4, n_estimators=100 \n",
      "[CV]  max_depth=8, max_features=90, min_samples_leaf=4, n_estimators=100, total=   5.2s\n",
      "[CV] max_depth=8, max_features=90, min_samples_leaf=4, n_estimators=200 \n",
      "[CV]  max_depth=8, max_features=90, min_samples_leaf=4, n_estimators=200, total=  11.0s\n",
      "[CV] max_depth=8, max_features=90, min_samples_leaf=4, n_estimators=300 \n",
      "[CV]  max_depth=8, max_features=90, min_samples_leaf=4, n_estimators=300, total=  15.3s\n",
      "[CV] max_depth=8, max_features=90, min_samples_leaf=4, n_estimators=300 \n",
      "[CV]  max_depth=8, max_features=90, min_samples_leaf=4, n_estimators=300, total=  15.6s\n",
      "[CV] max_depth=8, max_features=100, min_samples_leaf=2, n_estimators=100 \n",
      "[CV]  max_depth=8, max_features=100, min_samples_leaf=2, n_estimators=100, total=   5.9s"
     ]
    },
    {
     "name": "stderr",
     "output_type": "stream",
     "text": [
      "[Parallel(n_jobs=-1)]: Done 158 tasks      | elapsed: 12.2min\n"
     ]
    },
    {
     "name": "stdout",
     "output_type": "stream",
     "text": [
      "\n",
      "[CV] max_depth=8, max_features=90, min_samples_leaf=3, n_estimators=200 \n",
      "[CV]  max_depth=8, max_features=90, min_samples_leaf=3, n_estimators=200, total=  10.8s\n",
      "[CV] max_depth=8, max_features=90, min_samples_leaf=3, n_estimators=300 \n",
      "[CV]  max_depth=8, max_features=90, min_samples_leaf=3, n_estimators=300, total=  15.3s\n",
      "[CV] max_depth=8, max_features=90, min_samples_leaf=4, n_estimators=100 \n",
      "[CV]  max_depth=8, max_features=90, min_samples_leaf=4, n_estimators=100, total=   5.3s\n",
      "[CV] max_depth=8, max_features=90, min_samples_leaf=4, n_estimators=100 \n",
      "[CV]  max_depth=8, max_features=90, min_samples_leaf=4, n_estimators=100, total=   5.0s\n",
      "[CV] max_depth=8, max_features=90, min_samples_leaf=4, n_estimators=200 \n",
      "[CV]  max_depth=8, max_features=90, min_samples_leaf=4, n_estimators=200, total=  11.0s\n",
      "[CV] max_depth=8, max_features=90, min_samples_leaf=4, n_estimators=200 \n",
      "[CV]  max_depth=8, max_features=90, min_samples_leaf=4, n_estimators=200, total=  10.0s\n",
      "[CV] max_depth=8, max_features=90, min_samples_leaf=4, n_estimators=300 \n",
      "[CV]  max_depth=8, max_features=90, min_samples_leaf=4, n_estimators=300, total=  15.9s\n",
      "[CV] max_depth=8, max_features=100, min_samples_leaf=2, n_estimators=100 \n",
      "[CV]  max_depth=8, max_features=100, min_samples_leaf=2, n_estimators=100, total=   5.6s\n",
      "[CV] max_depth=8, max_features=100, min_samples_leaf=2, n_estimators=100 \n",
      "[CV]  max_depth=8, max_features=100, min_samples_leaf=2, n_estimators=100, total=   5.8s\n",
      "[CV] max_depth=8, max_features=100, min_samples_leaf=2, n_estimators=200 \n",
      "[CV]  max_depth=8, max_features=100, min_samples_leaf=2, n_estimators=200, total=  11.9s\n",
      "[CV] max_depth=8, max_features=100, min_samples_leaf=2, n_estimators=200 \n",
      "[CV]  max_depth=8, max_features=100, min_samples_leaf=2, n_estimators=200, total=  12.0s\n",
      "[CV] max_depth=8, max_features=100, min_samples_leaf=2, n_estimators=300 \n",
      "[CV]  max_depth=8, max_features=100, min_samples_leaf=2, n_estimators=300, total=  17.1s\n",
      "[CV] max_depth=8, max_features=100, min_samples_leaf=3, n_estimators=100 \n",
      "[CV]  max_depth=8, max_features=100, min_samples_leaf=3, n_estimators=100, total=   5.7s\n",
      "[CV] max_depth=8, max_features=100, min_samples_leaf=3, n_estimators=100 \n",
      "[CV]  max_depth=8, max_features=100, min_samples_leaf=3, n_estimators=100, total=   5.8s\n",
      "[CV] max_depth=8, max_features=100, min_samples_leaf=3, n_estimators=200 \n",
      "[CV]  max_depth=8, max_features=100, min_samples_leaf=3, n_estimators=200, total=  12.2s\n",
      "[CV] max_depth=8, max_features=100, min_samples_leaf=3, n_estimators=200 \n",
      "[CV]  max_depth=8, max_features=100, min_samples_leaf=3, n_estimators=200, total=  11.2s\n",
      "[CV] max_depth=8, max_features=100, min_samples_leaf=3, n_estimators=300 \n",
      "[CV]  max_depth=8, max_features=100, min_samples_leaf=3, n_estimators=300, total=  17.5s\n",
      "[CV] max_depth=8, max_features=100, min_samples_leaf=4, n_estimators=100 \n",
      "[CV]  max_depth=8, max_features=100, min_samples_leaf=4, n_estimators=100, total=   5.8s\n",
      "[CV] max_depth=8, max_features=100, min_samples_leaf=4, n_estimators=100 \n",
      "[CV]  max_depth=8, max_features=100, min_samples_leaf=4, n_estimators=100, total=   5.4s\n",
      "[CV] max_depth=8, max_features=100, min_samples_leaf=4, n_estimators=200 \n",
      "[CV]  max_depth=8, max_features=100, min_samples_leaf=4, n_estimators=200, total=  11.4s\n",
      "[CV] max_depth=8, max_features=100, min_samples_leaf=4, n_estimators=200 \n",
      "[CV]  max_depth=8, max_features=100, min_samples_leaf=4, n_estimators=200, total=  11.8s\n",
      "[CV] max_depth=8, max_features=100, min_samples_leaf=4, n_estimators=300 \n",
      "[CV]  max_depth=8, max_features=100, min_samples_leaf=4, n_estimators=300, total=  17.0s\n",
      "[CV] max_depth=10, max_features=60, min_samples_leaf=2, n_estimators=100 \n",
      "[CV]  max_depth=10, max_features=60, min_samples_leaf=2, n_estimators=100, total=   4.2s\n",
      "[CV] max_depth=10, max_features=60, min_samples_leaf=2, n_estimators=100 \n",
      "[CV]  max_depth=10, max_features=60, min_samples_leaf=2, n_estimators=100, total=   5.0s\n",
      "[CV] max_depth=10, max_features=60, min_samples_leaf=2, n_estimators=200 \n",
      "[CV]  max_depth=10, max_features=60, min_samples_leaf=2, n_estimators=200, total=   8.6s\n",
      "[CV] max_depth=10, max_features=60, min_samples_leaf=2, n_estimators=200 \n",
      "[CV]  max_depth=10, max_features=60, min_samples_leaf=2, n_estimators=200, total=   8.1s\n",
      "[CV] max_depth=10, max_features=60, min_samples_leaf=2, n_estimators=300 \n",
      "[CV]  max_depth=10, max_features=60, min_samples_leaf=2, n_estimators=300, total=  12.6s\n",
      "[CV] max_depth=10, max_features=60, min_samples_leaf=3, n_estimators=100 \n",
      "[CV]  max_depth=10, max_features=60, min_samples_leaf=3, n_estimators=100, total=   5.0s\n",
      "[CV] max_depth=10, max_features=60, min_samples_leaf=3, n_estimators=100 \n",
      "[CV]  max_depth=10, max_features=60, min_samples_leaf=3, n_estimators=100, total=   4.0s\n",
      "[CV] max_depth=10, max_features=60, min_samples_leaf=3, n_estimators=200 \n",
      "[CV]  max_depth=10, max_features=60, min_samples_leaf=3, n_estimators=200, total=   8.5s\n",
      "[CV] max_depth=10, max_features=60, min_samples_leaf=3, n_estimators=200 \n",
      "[CV]  max_depth=10, max_features=60, min_samples_leaf=3, n_estimators=200, total=   8.4s\n",
      "[CV] max_depth=10, max_features=60, min_samples_leaf=3, n_estimators=300 \n",
      "[CV]  max_depth=10, max_features=60, min_samples_leaf=3, n_estimators=300, total=  12.9s\n",
      "[CV] max_depth=10, max_features=60, min_samples_leaf=4, n_estimators=100 \n",
      "[CV]  max_depth=10, max_features=60, min_samples_leaf=4, n_estimators=100, total=   4.0s\n",
      "[CV] max_depth=10, max_features=60, min_samples_leaf=4, n_estimators=100 \n",
      "[CV]  max_depth=10, max_features=60, min_samples_leaf=4, n_estimators=100, total=   4.3s\n",
      "[CV] max_depth=10, max_features=60, min_samples_leaf=4, n_estimators=200 \n",
      "[CV]  max_depth=10, max_features=60, min_samples_leaf=4, n_estimators=200, total=   8.1s\n",
      "[CV] max_depth=10, max_features=60, min_samples_leaf=4, n_estimators=200 \n",
      "[CV]  max_depth=10, max_features=60, min_samples_leaf=4, n_estimators=200, total=   8.2s\n",
      "[CV] max_depth=10, max_features=60, min_samples_leaf=4, n_estimators=300 \n",
      "[CV]  max_depth=10, max_features=60, min_samples_leaf=4, n_estimators=300, total=  13.0s\n",
      "[CV] max_depth=10, max_features=70, min_samples_leaf=2, n_estimators=100 \n",
      "[CV]  max_depth=10, max_features=70, min_samples_leaf=2, n_estimators=100, total=   5.2s\n",
      "[CV] max_depth=10, max_features=70, min_samples_leaf=2, n_estimators=100 \n",
      "[CV]  max_depth=10, max_features=70, min_samples_leaf=2, n_estimators=100, total=   4.8s\n",
      "[CV] max_depth=10, max_features=70, min_samples_leaf=2, n_estimators=200 \n",
      "[CV]  max_depth=10, max_features=70, min_samples_leaf=2, n_estimators=200, total=  10.0s\n",
      "[CV] max_depth=10, max_features=70, min_samples_leaf=2, n_estimators=200 \n",
      "[CV]  max_depth=10, max_features=70, min_samples_leaf=2, n_estimators=200, total=  10.2s\n",
      "[CV] max_depth=10, max_features=70, min_samples_leaf=2, n_estimators=300 \n",
      "[CV]  max_depth=10, max_features=70, min_samples_leaf=2, n_estimators=300, total=  14.4s\n",
      "[CV] max_depth=10, max_features=70, min_samples_leaf=3, n_estimators=100 \n",
      "[CV]  max_depth=10, max_features=70, min_samples_leaf=3, n_estimators=100, total=   5.2s\n",
      "[CV] max_depth=10, max_features=70, min_samples_leaf=3, n_estimators=100 \n",
      "[CV]  max_depth=10, max_features=70, min_samples_leaf=3, n_estimators=100, total=   4.6s\n",
      "[CV] max_depth=10, max_features=70, min_samples_leaf=3, n_estimators=200 \n",
      "[CV]  max_depth=10, max_features=70, min_samples_leaf=3, n_estimators=200, total=  10.4s\n",
      "[CV] max_depth=10, max_features=70, min_samples_leaf=3, n_estimators=200 \n",
      "[CV]  max_depth=10, max_features=70, min_samples_leaf=3, n_estimators=200, total=   9.7s\n",
      "[CV] max_depth=10, max_features=70, min_samples_leaf=3, n_estimators=300 \n",
      "[CV]  max_depth=10, max_features=70, min_samples_leaf=3, n_estimators=300, total=  14.3s\n",
      "[CV] max_depth=10, max_features=70, min_samples_leaf=4, n_estimators=100 \n",
      "[CV]  max_depth=10, max_features=70, min_samples_leaf=4, n_estimators=100, total=   5.6s\n",
      "[CV] max_depth=10, max_features=70, min_samples_leaf=4, n_estimators=100 \n",
      "[CV]  max_depth=10, max_features=70, min_samples_leaf=4, n_estimators=100, total=   4.6s\n",
      "[CV] max_depth=10, max_features=70, min_samples_leaf=4, n_estimators=200 \n",
      "[CV]  max_depth=10, max_features=70, min_samples_leaf=4, n_estimators=200, total=   9.6s\n",
      "[CV] max_depth=10, max_features=70, min_samples_leaf=4, n_estimators=200 \n",
      "[CV] max_depth=8, max_features=100, min_samples_leaf=2, n_estimators=200 \n",
      "[CV]  max_depth=8, max_features=100, min_samples_leaf=2, n_estimators=200, total=  11.8s\n",
      "[CV] max_depth=8, max_features=100, min_samples_leaf=2, n_estimators=300 \n",
      "[CV]  max_depth=8, max_features=100, min_samples_leaf=2, n_estimators=300, total=  18.2s\n",
      "[CV] max_depth=8, max_features=100, min_samples_leaf=2, n_estimators=300 \n",
      "[CV]  max_depth=8, max_features=100, min_samples_leaf=2, n_estimators=300, total=  16.9s\n",
      "[CV] max_depth=8, max_features=100, min_samples_leaf=3, n_estimators=100 \n",
      "[CV]  max_depth=8, max_features=100, min_samples_leaf=3, n_estimators=100, total=   6.4s\n",
      "[CV] max_depth=8, max_features=100, min_samples_leaf=3, n_estimators=200 \n",
      "[CV]  max_depth=8, max_features=100, min_samples_leaf=3, n_estimators=200, total=  11.3s\n",
      "[CV] max_depth=8, max_features=100, min_samples_leaf=3, n_estimators=300 \n",
      "[CV]  max_depth=8, max_features=100, min_samples_leaf=3, n_estimators=300, total=  17.1s\n",
      "[CV] max_depth=8, max_features=100, min_samples_leaf=3, n_estimators=300 \n",
      "[CV]  max_depth=8, max_features=100, min_samples_leaf=3, n_estimators=300, total=  17.6s\n",
      "[CV] max_depth=8, max_features=100, min_samples_leaf=4, n_estimators=100 \n",
      "[CV]  max_depth=8, max_features=100, min_samples_leaf=4, n_estimators=100, total=   5.5s\n",
      "[CV] max_depth=8, max_features=100, min_samples_leaf=4, n_estimators=200 \n",
      "[CV]  max_depth=8, max_features=100, min_samples_leaf=4, n_estimators=200, total=  11.3s\n",
      "[CV] max_depth=8, max_features=100, min_samples_leaf=4, n_estimators=300 \n",
      "[CV]  max_depth=8, max_features=100, min_samples_leaf=4, n_estimators=300, total=  17.6s\n",
      "[CV] max_depth=8, max_features=100, min_samples_leaf=4, n_estimators=300 \n",
      "[CV]  max_depth=8, max_features=100, min_samples_leaf=4, n_estimators=300, total=  17.5s\n",
      "[CV] max_depth=10, max_features=60, min_samples_leaf=2, n_estimators=100 \n",
      "[CV]  max_depth=10, max_features=60, min_samples_leaf=2, n_estimators=100, total=   4.1s\n",
      "[CV] max_depth=10, max_features=60, min_samples_leaf=2, n_estimators=200 \n",
      "[CV]  max_depth=10, max_features=60, min_samples_leaf=2, n_estimators=200, total=   8.4s\n",
      "[CV] max_depth=10, max_features=60, min_samples_leaf=2, n_estimators=300 \n",
      "[CV]  max_depth=10, max_features=60, min_samples_leaf=2, n_estimators=300, total=  12.7s\n",
      "[CV] max_depth=10, max_features=60, min_samples_leaf=2, n_estimators=300 \n",
      "[CV]  max_depth=10, max_features=60, min_samples_leaf=2, n_estimators=300, total=  13.2s\n",
      "[CV] max_depth=10, max_features=60, min_samples_leaf=3, n_estimators=100 \n",
      "[CV]  max_depth=10, max_features=60, min_samples_leaf=3, n_estimators=100, total=   4.4s\n",
      "[CV] max_depth=10, max_features=60, min_samples_leaf=3, n_estimators=200 \n",
      "[CV]  max_depth=10, max_features=60, min_samples_leaf=3, n_estimators=200, total=   8.1s\n",
      "[CV] max_depth=10, max_features=60, min_samples_leaf=3, n_estimators=300 \n",
      "[CV]  max_depth=10, max_features=60, min_samples_leaf=3, n_estimators=300, total=  12.9s\n",
      "[CV] max_depth=10, max_features=60, min_samples_leaf=3, n_estimators=300 \n",
      "[CV]  max_depth=10, max_features=60, min_samples_leaf=3, n_estimators=300, total=  13.1s\n",
      "[CV] max_depth=10, max_features=60, min_samples_leaf=4, n_estimators=100 \n",
      "[CV]  max_depth=10, max_features=60, min_samples_leaf=4, n_estimators=100, total=   3.9s\n",
      "[CV] max_depth=10, max_features=60, min_samples_leaf=4, n_estimators=200 \n",
      "[CV]  max_depth=10, max_features=60, min_samples_leaf=4, n_estimators=200, total=   8.1s\n",
      "[CV] max_depth=10, max_features=60, min_samples_leaf=4, n_estimators=300 \n",
      "[CV]  max_depth=10, max_features=60, min_samples_leaf=4, n_estimators=300, total=  13.2s\n",
      "[CV] max_depth=10, max_features=60, min_samples_leaf=4, n_estimators=300 \n",
      "[CV]  max_depth=10, max_features=60, min_samples_leaf=4, n_estimators=300, total=  12.0s\n",
      "[CV] max_depth=10, max_features=70, min_samples_leaf=2, n_estimators=100 \n",
      "[CV]  max_depth=10, max_features=70, min_samples_leaf=2, n_estimators=100, total=   4.8s\n",
      "[CV] max_depth=10, max_features=70, min_samples_leaf=2, n_estimators=200 \n",
      "[CV]  max_depth=10, max_features=70, min_samples_leaf=2, n_estimators=200, total=   9.5s\n",
      "[CV] max_depth=10, max_features=70, min_samples_leaf=2, n_estimators=300 \n",
      "[CV]  max_depth=10, max_features=70, min_samples_leaf=2, n_estimators=300, total=  15.5s\n",
      "[CV] max_depth=10, max_features=70, min_samples_leaf=2, n_estimators=300 \n",
      "[CV]  max_depth=10, max_features=70, min_samples_leaf=2, n_estimators=300, total=  14.5s\n",
      "[CV] max_depth=10, max_features=70, min_samples_leaf=3, n_estimators=100 \n",
      "[CV]  max_depth=10, max_features=70, min_samples_leaf=3, n_estimators=100, total=   5.0s\n",
      "[CV] max_depth=10, max_features=70, min_samples_leaf=3, n_estimators=200 \n",
      "[CV]  max_depth=10, max_features=70, min_samples_leaf=3, n_estimators=200, total=   9.8s\n",
      "[CV] max_depth=10, max_features=70, min_samples_leaf=3, n_estimators=300 \n",
      "[CV]  max_depth=10, max_features=70, min_samples_leaf=3, n_estimators=300, total=  14.9s\n",
      "[CV] max_depth=10, max_features=70, min_samples_leaf=3, n_estimators=300 \n",
      "[CV]  max_depth=10, max_features=70, min_samples_leaf=3, n_estimators=300, total=  14.9s\n",
      "[CV] max_depth=10, max_features=70, min_samples_leaf=4, n_estimators=100 \n",
      "[CV]  max_depth=10, max_features=70, min_samples_leaf=4, n_estimators=100, total=   4.9s\n",
      "[CV] max_depth=10, max_features=70, min_samples_leaf=4, n_estimators=200 \n",
      "[CV]  max_depth=10, max_features=70, min_samples_leaf=4, n_estimators=200, total=   9.2s\n",
      "[CV] max_depth=10, max_features=70, min_samples_leaf=4, n_estimators=300 \n",
      "[CV]  max_depth=10, max_features=70, min_samples_leaf=4, n_estimators=300, total=  15.4s\n",
      "[CV] max_depth=10, max_features=70, min_samples_leaf=4, n_estimators=300 \n",
      "[CV]  max_depth=10, max_features=70, min_samples_leaf=4, n_estimators=300, total=  13.9s\n",
      "[CV] max_depth=10, max_features=80, min_samples_leaf=2, n_estimators=100 \n",
      "[CV]  max_depth=10, max_features=80, min_samples_leaf=2, n_estimators=100, total=   5.7s\n",
      "[CV] max_depth=10, max_features=80, min_samples_leaf=2, n_estimators=200 \n",
      "[CV]  max_depth=10, max_features=80, min_samples_leaf=2, n_estimators=200, total=  11.6s\n",
      "[CV] max_depth=10, max_features=80, min_samples_leaf=2, n_estimators=300 \n",
      "[CV]  max_depth=10, max_features=80, min_samples_leaf=2, n_estimators=300, total=  16.8s\n",
      "[CV] max_depth=10, max_features=80, min_samples_leaf=2, n_estimators=300 \n",
      "[CV]  max_depth=10, max_features=80, min_samples_leaf=2, n_estimators=300, total=  17.4s\n",
      "[CV] max_depth=10, max_features=80, min_samples_leaf=3, n_estimators=100 \n",
      "[CV]  max_depth=10, max_features=80, min_samples_leaf=3, n_estimators=100, total=   5.2s\n",
      "[CV] max_depth=10, max_features=80, min_samples_leaf=3, n_estimators=200 \n",
      "[CV]  max_depth=10, max_features=80, min_samples_leaf=3, n_estimators=200, total=  10.9s\n",
      "[CV] max_depth=10, max_features=80, min_samples_leaf=3, n_estimators=300 \n",
      "[CV]  max_depth=10, max_features=80, min_samples_leaf=3, n_estimators=300, total=  17.5s\n",
      "[CV] max_depth=10, max_features=80, min_samples_leaf=3, n_estimators=300 \n",
      "[CV]  max_depth=10, max_features=80, min_samples_leaf=3, n_estimators=300, total=  16.4s\n",
      "[CV] max_depth=10, max_features=80, min_samples_leaf=4, n_estimators=100 \n",
      "[CV]  max_depth=10, max_features=80, min_samples_leaf=4, n_estimators=100, total=   5.6s\n",
      "[CV] max_depth=10, max_features=80, min_samples_leaf=4, n_estimators=200 \n",
      "[CV]  max_depth=10, max_features=80, min_samples_leaf=4, n_estimators=200, total=  11.4s\n",
      "[CV] max_depth=10, max_features=80, min_samples_leaf=4, n_estimators=300 \n",
      "[CV]  max_depth=10, max_features=80, min_samples_leaf=4, n_estimators=300, total=  16.2s\n",
      "[CV] max_depth=10, max_features=80, min_samples_leaf=4, n_estimators=300 \n",
      "[CV]  max_depth=10, max_features=80, min_samples_leaf=4, n_estimators=300, total=  17.0s\n",
      "[CV] max_depth=10, max_features=90, min_samples_leaf=2, n_estimators=100 \n",
      "[CV]  max_depth=10, max_features=90, min_samples_leaf=2, n_estimators=100, total=   6.0s\n",
      "[CV] max_depth=10, max_features=90, min_samples_leaf=2, n_estimators=200 \n",
      "[CV]  max_depth=10, max_features=90, min_samples_leaf=2, n_estimators=200, total=  12.8s\n",
      "[CV] max_depth=10, max_features=90, min_samples_leaf=2, n_estimators=300 \n",
      "[CV]  max_depth=10, max_features=90, min_samples_leaf=2, n_estimators=300, total=  19.2s\n",
      "[CV] max_depth=10, max_features=90, min_samples_leaf=2, n_estimators=300 \n",
      "[CV]  max_depth=10, max_features=70, min_samples_leaf=4, n_estimators=200, total=   9.4s\n",
      "[CV] max_depth=10, max_features=70, min_samples_leaf=4, n_estimators=300 \n",
      "[CV]  max_depth=10, max_features=70, min_samples_leaf=4, n_estimators=300, total=  14.8s\n",
      "[CV] max_depth=10, max_features=80, min_samples_leaf=2, n_estimators=100 \n",
      "[CV]  max_depth=10, max_features=80, min_samples_leaf=2, n_estimators=100, total=   5.8s\n",
      "[CV] max_depth=10, max_features=80, min_samples_leaf=2, n_estimators=100 \n",
      "[CV]  max_depth=10, max_features=80, min_samples_leaf=2, n_estimators=100, total=   5.4s\n",
      "[CV] max_depth=10, max_features=80, min_samples_leaf=2, n_estimators=200 \n",
      "[CV]  max_depth=10, max_features=80, min_samples_leaf=2, n_estimators=200, total=  11.3s\n",
      "[CV] max_depth=10, max_features=80, min_samples_leaf=2, n_estimators=200 \n",
      "[CV]  max_depth=10, max_features=80, min_samples_leaf=2, n_estimators=200, total=  12.0s\n",
      "[CV] max_depth=10, max_features=80, min_samples_leaf=2, n_estimators=300 \n",
      "[CV]  max_depth=10, max_features=80, min_samples_leaf=2, n_estimators=300, total=  16.5s\n",
      "[CV] max_depth=10, max_features=80, min_samples_leaf=3, n_estimators=100 \n",
      "[CV]  max_depth=10, max_features=80, min_samples_leaf=3, n_estimators=100, total=   6.5s\n",
      "[CV] max_depth=10, max_features=80, min_samples_leaf=3, n_estimators=100 \n",
      "[CV]  max_depth=10, max_features=80, min_samples_leaf=3, n_estimators=100, total=   5.3s\n",
      "[CV] max_depth=10, max_features=80, min_samples_leaf=3, n_estimators=200 \n",
      "[CV]  max_depth=10, max_features=80, min_samples_leaf=3, n_estimators=200, total=  11.1s\n",
      "[CV] max_depth=10, max_features=80, min_samples_leaf=3, n_estimators=200 \n",
      "[CV]  max_depth=10, max_features=80, min_samples_leaf=3, n_estimators=200, total=  11.0s\n",
      "[CV] max_depth=10, max_features=80, min_samples_leaf=3, n_estimators=300 \n",
      "[CV]  max_depth=10, max_features=80, min_samples_leaf=3, n_estimators=300, total=  17.4s\n",
      "[CV] max_depth=10, max_features=80, min_samples_leaf=4, n_estimators=100 \n",
      "[CV]  max_depth=10, max_features=80, min_samples_leaf=4, n_estimators=100, total=   5.3s\n",
      "[CV] max_depth=10, max_features=80, min_samples_leaf=4, n_estimators=100 \n",
      "[CV]  max_depth=10, max_features=80, min_samples_leaf=4, n_estimators=100, total=   5.5s\n",
      "[CV] max_depth=10, max_features=80, min_samples_leaf=4, n_estimators=200 \n",
      "[CV]  max_depth=10, max_features=80, min_samples_leaf=4, n_estimators=200, total=  11.6s\n",
      "[CV] max_depth=10, max_features=80, min_samples_leaf=4, n_estimators=200 \n",
      "[CV]  max_depth=10, max_features=80, min_samples_leaf=4, n_estimators=200, total=  10.5s\n",
      "[CV] max_depth=10, max_features=80, min_samples_leaf=4, n_estimators=300 \n",
      "[CV]  max_depth=10, max_features=80, min_samples_leaf=4, n_estimators=300, total=  15.7s\n",
      "[CV] max_depth=10, max_features=90, min_samples_leaf=2, n_estimators=100 \n",
      "[CV]  max_depth=10, max_features=90, min_samples_leaf=2, n_estimators=100, total=   7.3s\n",
      "[CV] max_depth=10, max_features=90, min_samples_leaf=2, n_estimators=100 \n",
      "[CV]  max_depth=10, max_features=90, min_samples_leaf=2, n_estimators=100, total=   6.0s\n",
      "[CV] max_depth=10, max_features=90, min_samples_leaf=2, n_estimators=200 \n",
      "[CV]  max_depth=10, max_features=90, min_samples_leaf=2, n_estimators=200, total=  12.9s\n",
      "[CV] max_depth=10, max_features=90, min_samples_leaf=2, n_estimators=200 \n",
      "[CV]  max_depth=10, max_features=90, min_samples_leaf=2, n_estimators=200, total=  13.0s\n",
      "[CV] max_depth=10, max_features=90, min_samples_leaf=2, n_estimators=300 \n",
      "[CV]  max_depth=10, max_features=90, min_samples_leaf=2, n_estimators=300, total=  18.3s\n",
      "[CV] max_depth=10, max_features=90, min_samples_leaf=3, n_estimators=100 \n",
      "[CV]  max_depth=10, max_features=90, min_samples_leaf=3, n_estimators=100, total=   6.4s\n",
      "[CV] max_depth=10, max_features=90, min_samples_leaf=3, n_estimators=100 \n",
      "[CV]  max_depth=10, max_features=90, min_samples_leaf=3, n_estimators=100, total=   6.3s\n",
      "[CV] max_depth=10, max_features=90, min_samples_leaf=3, n_estimators=200 \n",
      "[CV]  max_depth=10, max_features=90, min_samples_leaf=3, n_estimators=200, total=  12.9s\n",
      "[CV] max_depth=10, max_features=90, min_samples_leaf=3, n_estimators=200 \n",
      "[CV]  max_depth=10, max_features=90, min_samples_leaf=3, n_estimators=200, total=  12.1s\n",
      "[CV] max_depth=10, max_features=90, min_samples_leaf=3, n_estimators=300 \n",
      "[CV]  max_depth=10, max_features=90, min_samples_leaf=3, n_estimators=300, total=  18.9s\n",
      "[CV] max_depth=10, max_features=90, min_samples_leaf=4, n_estimators=100 \n",
      "[CV]  max_depth=10, max_features=90, min_samples_leaf=4, n_estimators=100, total=   6.0s\n",
      "[CV] max_depth=10, max_features=90, min_samples_leaf=4, n_estimators=100 \n",
      "[CV]  max_depth=10, max_features=90, min_samples_leaf=4, n_estimators=100, total=   6.3s\n",
      "[CV] max_depth=10, max_features=90, min_samples_leaf=4, n_estimators=200 \n",
      "[CV]  max_depth=10, max_features=90, min_samples_leaf=4, n_estimators=200, total=  13.0s\n",
      "[CV] max_depth=10, max_features=90, min_samples_leaf=4, n_estimators=200 \n",
      "[CV]  max_depth=10, max_features=90, min_samples_leaf=4, n_estimators=200, total=  11.9s\n",
      "[CV] max_depth=10, max_features=90, min_samples_leaf=4, n_estimators=300 \n",
      "[CV]  max_depth=10, max_features=90, min_samples_leaf=4, n_estimators=300, total=  18.1s\n",
      "[CV] max_depth=10, max_features=100, min_samples_leaf=2, n_estimators=100 \n",
      "[CV]  max_depth=10, max_features=100, min_samples_leaf=2, n_estimators=100, total=   7.5s\n",
      "[CV] max_depth=10, max_features=100, min_samples_leaf=2, n_estimators=100 \n",
      "[CV]  max_depth=10, max_features=100, min_samples_leaf=2, n_estimators=100, total=   7.0s\n",
      "[CV] max_depth=10, max_features=100, min_samples_leaf=2, n_estimators=200 \n",
      "[CV]  max_depth=10, max_features=100, min_samples_leaf=2, n_estimators=200, total=  13.9s\n",
      "[CV] max_depth=10, max_features=100, min_samples_leaf=2, n_estimators=200 \n",
      "[CV]  max_depth=10, max_features=100, min_samples_leaf=2, n_estimators=200, total=  14.5s\n",
      "[CV] max_depth=10, max_features=100, min_samples_leaf=2, n_estimators=300 \n",
      "[CV]  max_depth=10, max_features=100, min_samples_leaf=2, n_estimators=300, total=  20.7s\n",
      "[CV] max_depth=10, max_features=100, min_samples_leaf=3, n_estimators=100 \n",
      "[CV]  max_depth=10, max_features=100, min_samples_leaf=3, n_estimators=100, total=   7.7s\n",
      "[CV] max_depth=10, max_features=100, min_samples_leaf=3, n_estimators=100 \n",
      "[CV]  max_depth=10, max_features=100, min_samples_leaf=3, n_estimators=100, total=   6.9s\n",
      "[CV] max_depth=10, max_features=100, min_samples_leaf=3, n_estimators=200 \n",
      "[CV]  max_depth=10, max_features=100, min_samples_leaf=3, n_estimators=200, total=  13.8s\n",
      "[CV] max_depth=10, max_features=100, min_samples_leaf=3, n_estimators=200 \n",
      "[CV]  max_depth=10, max_features=100, min_samples_leaf=3, n_estimators=200, total=  14.0s\n",
      "[CV] max_depth=10, max_features=100, min_samples_leaf=3, n_estimators=300 \n",
      "[CV]  max_depth=10, max_features=100, min_samples_leaf=3, n_estimators=300, total=  20.4s\n",
      "[CV] max_depth=10, max_features=100, min_samples_leaf=4, n_estimators=100 \n",
      "[CV]  max_depth=10, max_features=100, min_samples_leaf=4, n_estimators=100, total=   7.6s\n",
      "[CV] max_depth=10, max_features=100, min_samples_leaf=4, n_estimators=100 \n",
      "[CV]  max_depth=10, max_features=100, min_samples_leaf=4, n_estimators=100, total=   6.4s\n",
      "[CV] max_depth=10, max_features=100, min_samples_leaf=4, n_estimators=200 \n",
      "[CV]  max_depth=10, max_features=100, min_samples_leaf=4, n_estimators=200, total=  13.8s\n",
      "[CV] max_depth=10, max_features=100, min_samples_leaf=4, n_estimators=200 \n",
      "[CV]  max_depth=10, max_features=100, min_samples_leaf=4, n_estimators=200, total=  13.9s\n",
      "[CV] max_depth=10, max_features=100, min_samples_leaf=4, n_estimators=300 \n",
      "[CV]  max_depth=10, max_features=100, min_samples_leaf=4, n_estimators=300, total=  20.3s\n",
      "[CV] max_depth=12, max_features=60, min_samples_leaf=2, n_estimators=100 \n",
      "[CV]  max_depth=12, max_features=60, min_samples_leaf=2, n_estimators=100, total=   4.8s\n",
      "[CV] max_depth=12, max_features=60, min_samples_leaf=2, n_estimators=100 \n",
      "[CV]  max_depth=12, max_features=60, min_samples_leaf=2, n_estimators=100, total=   5.6s\n",
      "[CV] max_depth=12, max_features=60, min_samples_leaf=2, n_estimators=200 \n",
      "[CV]  max_depth=12, max_features=60, min_samples_leaf=2, n_estimators=200, total=  10.1s\n",
      "[CV] max_depth=12, max_features=60, min_samples_leaf=2, n_estimators=200 \n",
      "[CV]  max_depth=12, max_features=60, min_samples_leaf=2, n_estimators=200, total=   9.5s\n",
      "[CV]  max_depth=10, max_features=90, min_samples_leaf=2, n_estimators=300, total=  18.8s\n",
      "[CV] max_depth=10, max_features=90, min_samples_leaf=3, n_estimators=100 \n",
      "[CV]  max_depth=10, max_features=90, min_samples_leaf=3, n_estimators=100, total=   6.9s\n",
      "[CV] max_depth=10, max_features=90, min_samples_leaf=3, n_estimators=200 \n",
      "[CV]  max_depth=10, max_features=90, min_samples_leaf=3, n_estimators=200, total=  12.1s\n",
      "[CV] max_depth=10, max_features=90, min_samples_leaf=3, n_estimators=300 \n",
      "[CV]  max_depth=10, max_features=90, min_samples_leaf=3, n_estimators=300, total=  18.8s\n",
      "[CV] max_depth=10, max_features=90, min_samples_leaf=3, n_estimators=300 \n",
      "[CV]  max_depth=10, max_features=90, min_samples_leaf=3, n_estimators=300, total=  18.7s\n",
      "[CV] max_depth=10, max_features=90, min_samples_leaf=4, n_estimators=100 \n",
      "[CV]  max_depth=10, max_features=90, min_samples_leaf=4, n_estimators=100, total=   6.1s\n",
      "[CV] max_depth=10, max_features=90, min_samples_leaf=4, n_estimators=200 \n",
      "[CV]  max_depth=10, max_features=90, min_samples_leaf=4, n_estimators=200, total=  12.8s\n",
      "[CV] max_depth=10, max_features=90, min_samples_leaf=4, n_estimators=300 \n",
      "[CV]  max_depth=10, max_features=90, min_samples_leaf=4, n_estimators=300, total=  18.7s\n",
      "[CV] max_depth=10, max_features=90, min_samples_leaf=4, n_estimators=300 \n",
      "[CV]  max_depth=10, max_features=90, min_samples_leaf=4, n_estimators=300, total=  18.3s\n",
      "[CV] max_depth=10, max_features=100, min_samples_leaf=2, n_estimators=100 \n",
      "[CV]  max_depth=10, max_features=100, min_samples_leaf=2, n_estimators=100, total=   7.0s\n",
      "[CV] max_depth=10, max_features=100, min_samples_leaf=2, n_estimators=200 \n",
      "[CV]  max_depth=10, max_features=100, min_samples_leaf=2, n_estimators=200, total=  13.5s\n",
      "[CV] max_depth=10, max_features=100, min_samples_leaf=2, n_estimators=300 \n",
      "[CV]  max_depth=10, max_features=100, min_samples_leaf=2, n_estimators=300, total=  22.1s\n",
      "[CV] max_depth=10, max_features=100, min_samples_leaf=2, n_estimators=300 \n",
      "[CV]  max_depth=10, max_features=100, min_samples_leaf=2, n_estimators=300, total=  21.2s\n",
      "[CV] max_depth=10, max_features=100, min_samples_leaf=3, n_estimators=100 \n",
      "[CV]  max_depth=10, max_features=100, min_samples_leaf=3, n_estimators=100, total=   7.0s\n",
      "[CV] max_depth=10, max_features=100, min_samples_leaf=3, n_estimators=200 \n",
      "[CV]  max_depth=10, max_features=100, min_samples_leaf=3, n_estimators=200, total=  13.4s\n",
      "[CV] max_depth=10, max_features=100, min_samples_leaf=3, n_estimators=300 \n",
      "[CV]  max_depth=10, max_features=100, min_samples_leaf=3, n_estimators=300, total=  21.4s\n",
      "[CV] max_depth=10, max_features=100, min_samples_leaf=3, n_estimators=300 \n",
      "[CV]  max_depth=10, max_features=100, min_samples_leaf=3, n_estimators=300, total=  21.1s\n",
      "[CV] max_depth=10, max_features=100, min_samples_leaf=4, n_estimators=100 \n",
      "[CV]  max_depth=10, max_features=100, min_samples_leaf=4, n_estimators=100, total=   6.3s\n",
      "[CV] max_depth=10, max_features=100, min_samples_leaf=4, n_estimators=200 \n",
      "[CV]  max_depth=10, max_features=100, min_samples_leaf=4, n_estimators=200, total=  13.4s\n",
      "[CV] max_depth=10, max_features=100, min_samples_leaf=4, n_estimators=300 \n",
      "[CV]  max_depth=10, max_features=100, min_samples_leaf=4, n_estimators=300, total=  21.1s\n",
      "[CV] max_depth=10, max_features=100, min_samples_leaf=4, n_estimators=300 \n",
      "[CV]  max_depth=10, max_features=100, min_samples_leaf=4, n_estimators=300, total=  19.7s\n",
      "[CV] max_depth=12, max_features=60, min_samples_leaf=2, n_estimators=100 \n",
      "[CV]  max_depth=12, max_features=60, min_samples_leaf=2, n_estimators=100, total=   5.4s\n",
      "[CV] max_depth=12, max_features=60, min_samples_leaf=2, n_estimators=200 \n",
      "[CV]  max_depth=12, max_features=60, min_samples_leaf=2, n_estimators=200, total=   9.7s\n",
      "[CV] max_depth=12, max_features=60, min_samples_leaf=2, n_estimators=300 \n",
      "[CV]  max_depth=12, max_features=60, min_samples_leaf=2, n_estimators=300, total=  14.9s\n",
      "[CV] max_depth=12, max_features=60, min_samples_leaf=2, n_estimators=300 \n",
      "[CV]  max_depth=12, max_features=60, min_samples_leaf=2, n_estimators=300, total=  15.1s\n",
      "[CV] max_depth=12, max_features=60, min_samples_leaf=3, n_estimators=100 \n",
      "[CV]  max_depth=12, max_features=60, min_samples_leaf=3, n_estimators=100, total=   4.9s\n",
      "[CV] max_depth=12, max_features=60, min_samples_leaf=3, n_estimators=200 \n",
      "[CV]  max_depth=12, max_features=60, min_samples_leaf=3, n_estimators=200, total=   9.6s\n",
      "[CV] max_depth=12, max_features=60, min_samples_leaf=3, n_estimators=300 \n",
      "[CV]  max_depth=12, max_features=60, min_samples_leaf=3, n_estimators=300, total=  15.1s\n",
      "[CV] max_depth=12, max_features=60, min_samples_leaf=3, n_estimators=300 \n",
      "[CV]  max_depth=12, max_features=60, min_samples_leaf=3, n_estimators=300, total=  14.0s\n",
      "[CV] max_depth=12, max_features=60, min_samples_leaf=4, n_estimators=100 \n",
      "[CV]  max_depth=12, max_features=60, min_samples_leaf=4, n_estimators=100, total=   4.9s\n",
      "[CV] max_depth=12, max_features=60, min_samples_leaf=4, n_estimators=200 \n",
      "[CV]  max_depth=12, max_features=60, min_samples_leaf=4, n_estimators=200, total=  10.0s\n",
      "[CV] max_depth=12, max_features=60, min_samples_leaf=4, n_estimators=300 \n",
      "[CV]  max_depth=12, max_features=60, min_samples_leaf=4, n_estimators=300, total=  14.1s\n",
      "[CV] max_depth=12, max_features=60, min_samples_leaf=4, n_estimators=300 \n",
      "[CV]  max_depth=12, max_features=60, min_samples_leaf=4, n_estimators=300, total=  13.9s\n",
      "[CV] max_depth=12, max_features=70, min_samples_leaf=2, n_estimators=100 \n",
      "[CV]  max_depth=12, max_features=70, min_samples_leaf=2, n_estimators=100, total=   6.4s\n",
      "[CV] max_depth=12, max_features=70, min_samples_leaf=2, n_estimators=200 \n",
      "[CV]  max_depth=12, max_features=70, min_samples_leaf=2, n_estimators=200, total=  11.2s\n",
      "[CV] max_depth=12, max_features=70, min_samples_leaf=2, n_estimators=300 \n",
      "[CV]  max_depth=12, max_features=70, min_samples_leaf=2, n_estimators=300, total=  17.8s\n",
      "[CV] max_depth=12, max_features=70, min_samples_leaf=2, n_estimators=300 \n",
      "[CV]  max_depth=12, max_features=70, min_samples_leaf=2, n_estimators=300, total=  16.9s\n",
      "[CV] max_depth=12, max_features=70, min_samples_leaf=3, n_estimators=100 \n",
      "[CV]  max_depth=12, max_features=70, min_samples_leaf=3, n_estimators=100, total=   5.7s\n",
      "[CV] max_depth=12, max_features=70, min_samples_leaf=3, n_estimators=200 \n",
      "[CV]  max_depth=12, max_features=70, min_samples_leaf=3, n_estimators=200, total=  11.9s\n",
      "[CV] max_depth=12, max_features=70, min_samples_leaf=3, n_estimators=300 \n",
      "[CV]  max_depth=12, max_features=70, min_samples_leaf=3, n_estimators=300, total=  17.0s\n",
      "[CV] max_depth=12, max_features=70, min_samples_leaf=3, n_estimators=300 \n",
      "[CV]  max_depth=12, max_features=70, min_samples_leaf=3, n_estimators=300, total=  17.2s\n",
      "[CV] max_depth=12, max_features=70, min_samples_leaf=4, n_estimators=100 \n",
      "[CV]  max_depth=12, max_features=70, min_samples_leaf=4, n_estimators=100, total=   5.1s\n",
      "[CV] max_depth=12, max_features=70, min_samples_leaf=4, n_estimators=200 \n",
      "[CV]  max_depth=12, max_features=70, min_samples_leaf=4, n_estimators=200, total=  10.8s\n",
      "[CV] max_depth=12, max_features=70, min_samples_leaf=4, n_estimators=300 \n",
      "[CV]  max_depth=12, max_features=70, min_samples_leaf=4, n_estimators=300, total=  17.4s\n",
      "[CV] max_depth=12, max_features=70, min_samples_leaf=4, n_estimators=300 \n",
      "[CV]  max_depth=12, max_features=70, min_samples_leaf=4, n_estimators=300, total=  15.8s\n",
      "[CV] max_depth=12, max_features=80, min_samples_leaf=2, n_estimators=100 \n",
      "[CV]  max_depth=12, max_features=80, min_samples_leaf=2, n_estimators=100, total=   6.5s\n",
      "[CV] max_depth=12, max_features=80, min_samples_leaf=2, n_estimators=200 \n",
      "[CV]  max_depth=12, max_features=80, min_samples_leaf=2, n_estimators=200, total=  13.3s\n",
      "[CV] max_depth=12, max_features=80, min_samples_leaf=2, n_estimators=300 \n",
      "[CV]  max_depth=12, max_features=80, min_samples_leaf=2, n_estimators=300, total=  20.0s\n",
      "[CV] max_depth=12, max_features=80, min_samples_leaf=2, n_estimators=300 \n",
      "[CV]  max_depth=12, max_features=80, min_samples_leaf=2, n_estimators=300, total=  19.8s\n",
      "[CV] max_depth=12, max_features=80, min_samples_leaf=3, n_estimators=100 \n",
      "[CV]  max_depth=12, max_features=80, min_samples_leaf=3, n_estimators=100, total=   5.9s\n",
      "[CV] max_depth=12, max_features=80, min_samples_leaf=3, n_estimators=200 \n",
      "[CV]  max_depth=12, max_features=80, min_samples_leaf=3, n_estimators=200, total=  13.0s"
     ]
    },
    {
     "name": "stderr",
     "output_type": "stream",
     "text": [
      "[Parallel(n_jobs=-1)]: Done 361 tasks      | elapsed: 32.0min\n"
     ]
    },
    {
     "name": "stdout",
     "output_type": "stream",
     "text": [
      "\n",
      "[CV] max_depth=12, max_features=60, min_samples_leaf=2, n_estimators=300 \n",
      "[CV]  max_depth=12, max_features=60, min_samples_leaf=2, n_estimators=300, total=  15.4s\n",
      "[CV] max_depth=12, max_features=60, min_samples_leaf=3, n_estimators=100 \n",
      "[CV]  max_depth=12, max_features=60, min_samples_leaf=3, n_estimators=100, total=   4.7s\n",
      "[CV] max_depth=12, max_features=60, min_samples_leaf=3, n_estimators=100 \n",
      "[CV]  max_depth=12, max_features=60, min_samples_leaf=3, n_estimators=100, total=   4.9s\n",
      "[CV] max_depth=12, max_features=60, min_samples_leaf=3, n_estimators=200 \n",
      "[CV]  max_depth=12, max_features=60, min_samples_leaf=3, n_estimators=200, total=   9.7s\n",
      "[CV] max_depth=12, max_features=60, min_samples_leaf=3, n_estimators=200 \n",
      "[CV]  max_depth=12, max_features=60, min_samples_leaf=3, n_estimators=200, total=   9.2s\n",
      "[CV] max_depth=12, max_features=60, min_samples_leaf=3, n_estimators=300 \n",
      "[CV]  max_depth=12, max_features=60, min_samples_leaf=3, n_estimators=300, total=  15.1s\n",
      "[CV] max_depth=12, max_features=60, min_samples_leaf=4, n_estimators=100 \n",
      "[CV]  max_depth=12, max_features=60, min_samples_leaf=4, n_estimators=100, total=   4.6s\n",
      "[CV] max_depth=12, max_features=60, min_samples_leaf=4, n_estimators=100 \n",
      "[CV]  max_depth=12, max_features=60, min_samples_leaf=4, n_estimators=100, total=   4.9s\n",
      "[CV] max_depth=12, max_features=60, min_samples_leaf=4, n_estimators=200 \n",
      "[CV]  max_depth=12, max_features=60, min_samples_leaf=4, n_estimators=200, total=  10.3s\n",
      "[CV] max_depth=12, max_features=60, min_samples_leaf=4, n_estimators=200 \n",
      "[CV]  max_depth=12, max_features=60, min_samples_leaf=4, n_estimators=200, total=   8.8s\n",
      "[CV] max_depth=12, max_features=60, min_samples_leaf=4, n_estimators=300 \n",
      "[CV]  max_depth=12, max_features=60, min_samples_leaf=4, n_estimators=300, total=  14.2s\n",
      "[CV] max_depth=12, max_features=70, min_samples_leaf=2, n_estimators=100 \n",
      "[CV]  max_depth=12, max_features=70, min_samples_leaf=2, n_estimators=100, total=   5.6s\n",
      "[CV] max_depth=12, max_features=70, min_samples_leaf=2, n_estimators=100 \n",
      "[CV]  max_depth=12, max_features=70, min_samples_leaf=2, n_estimators=100, total=   6.4s\n",
      "[CV] max_depth=12, max_features=70, min_samples_leaf=2, n_estimators=200 \n",
      "[CV]  max_depth=12, max_features=70, min_samples_leaf=2, n_estimators=200, total=  11.5s\n",
      "[CV] max_depth=12, max_features=70, min_samples_leaf=2, n_estimators=200 \n",
      "[CV]  max_depth=12, max_features=70, min_samples_leaf=2, n_estimators=200, total=  11.2s\n",
      "[CV] max_depth=12, max_features=70, min_samples_leaf=2, n_estimators=300 \n",
      "[CV]  max_depth=12, max_features=70, min_samples_leaf=2, n_estimators=300, total=  17.2s\n",
      "[CV] max_depth=12, max_features=70, min_samples_leaf=3, n_estimators=100 \n",
      "[CV]  max_depth=12, max_features=70, min_samples_leaf=3, n_estimators=100, total=   5.8s\n",
      "[CV] max_depth=12, max_features=70, min_samples_leaf=3, n_estimators=100 \n",
      "[CV]  max_depth=12, max_features=70, min_samples_leaf=3, n_estimators=100, total=   5.3s\n",
      "[CV] max_depth=12, max_features=70, min_samples_leaf=3, n_estimators=200 \n",
      "[CV]  max_depth=12, max_features=70, min_samples_leaf=3, n_estimators=200, total=  12.2s\n",
      "[CV] max_depth=12, max_features=70, min_samples_leaf=3, n_estimators=200 \n",
      "[CV]  max_depth=12, max_features=70, min_samples_leaf=3, n_estimators=200, total=  11.2s\n",
      "[CV] max_depth=12, max_features=70, min_samples_leaf=3, n_estimators=300 \n",
      "[CV]  max_depth=12, max_features=70, min_samples_leaf=3, n_estimators=300, total=  16.2s\n",
      "[CV] max_depth=12, max_features=70, min_samples_leaf=4, n_estimators=100 \n",
      "[CV]  max_depth=12, max_features=70, min_samples_leaf=4, n_estimators=100, total=   6.2s\n",
      "[CV] max_depth=12, max_features=70, min_samples_leaf=4, n_estimators=100 \n",
      "[CV]  max_depth=12, max_features=70, min_samples_leaf=4, n_estimators=100, total=   5.1s\n",
      "[CV] max_depth=12, max_features=70, min_samples_leaf=4, n_estimators=200 \n",
      "[CV]  max_depth=12, max_features=70, min_samples_leaf=4, n_estimators=200, total=  10.9s\n",
      "[CV] max_depth=12, max_features=70, min_samples_leaf=4, n_estimators=200 \n",
      "[CV]  max_depth=12, max_features=70, min_samples_leaf=4, n_estimators=200, total=  10.8s\n",
      "[CV] max_depth=12, max_features=70, min_samples_leaf=4, n_estimators=300 \n",
      "[CV]  max_depth=12, max_features=70, min_samples_leaf=4, n_estimators=300, total=  17.0s\n",
      "[CV] max_depth=12, max_features=80, min_samples_leaf=2, n_estimators=100 \n",
      "[CV]  max_depth=12, max_features=80, min_samples_leaf=2, n_estimators=100, total=   6.3s\n",
      "[CV] max_depth=12, max_features=80, min_samples_leaf=2, n_estimators=100 \n",
      "[CV]  max_depth=12, max_features=80, min_samples_leaf=2, n_estimators=100, total=   6.4s\n",
      "[CV] max_depth=12, max_features=80, min_samples_leaf=2, n_estimators=200 \n",
      "[CV]  max_depth=12, max_features=80, min_samples_leaf=2, n_estimators=200, total=  13.4s\n",
      "[CV] max_depth=12, max_features=80, min_samples_leaf=2, n_estimators=200 \n",
      "[CV]  max_depth=12, max_features=80, min_samples_leaf=2, n_estimators=200, total=  12.6s\n",
      "[CV] max_depth=12, max_features=80, min_samples_leaf=2, n_estimators=300 \n",
      "[CV]  max_depth=12, max_features=80, min_samples_leaf=2, n_estimators=300, total=  20.2s\n",
      "[CV] max_depth=12, max_features=80, min_samples_leaf=3, n_estimators=100 \n",
      "[CV]  max_depth=12, max_features=80, min_samples_leaf=3, n_estimators=100, total=   6.6s\n",
      "[CV] max_depth=12, max_features=80, min_samples_leaf=3, n_estimators=100 \n",
      "[CV]  max_depth=12, max_features=80, min_samples_leaf=3, n_estimators=100, total=   6.0s\n",
      "[CV] max_depth=12, max_features=80, min_samples_leaf=3, n_estimators=200 \n",
      "[CV]  max_depth=12, max_features=80, min_samples_leaf=3, n_estimators=200, total=  13.4s\n",
      "[CV] max_depth=12, max_features=80, min_samples_leaf=3, n_estimators=200 \n",
      "[CV]  max_depth=12, max_features=80, min_samples_leaf=3, n_estimators=200, total=  12.4s\n",
      "[CV] max_depth=12, max_features=80, min_samples_leaf=3, n_estimators=300 \n",
      "[CV]  max_depth=12, max_features=80, min_samples_leaf=3, n_estimators=300, total=  19.3s\n",
      "[CV] max_depth=12, max_features=80, min_samples_leaf=4, n_estimators=100 \n",
      "[CV]  max_depth=12, max_features=80, min_samples_leaf=4, n_estimators=100, total=   6.9s\n",
      "[CV] max_depth=12, max_features=80, min_samples_leaf=4, n_estimators=100 \n",
      "[CV]  max_depth=12, max_features=80, min_samples_leaf=4, n_estimators=100, total=   5.9s\n",
      "[CV] max_depth=12, max_features=80, min_samples_leaf=4, n_estimators=200 \n",
      "[CV]  max_depth=12, max_features=80, min_samples_leaf=4, n_estimators=200, total=  12.6s\n",
      "[CV] max_depth=12, max_features=80, min_samples_leaf=4, n_estimators=200 \n",
      "[CV]  max_depth=12, max_features=80, min_samples_leaf=4, n_estimators=200, total=  12.9s\n",
      "[CV] max_depth=12, max_features=80, min_samples_leaf=4, n_estimators=300 \n",
      "[CV]  max_depth=12, max_features=80, min_samples_leaf=4, n_estimators=300, total=  18.1s\n",
      "[CV] max_depth=12, max_features=90, min_samples_leaf=2, n_estimators=100 \n",
      "[CV]  max_depth=12, max_features=90, min_samples_leaf=2, n_estimators=100, total=   8.1s\n",
      "[CV] max_depth=12, max_features=90, min_samples_leaf=2, n_estimators=100 \n",
      "[CV]  max_depth=12, max_features=90, min_samples_leaf=2, n_estimators=100, total=   7.4s\n",
      "[CV] max_depth=12, max_features=90, min_samples_leaf=2, n_estimators=200 \n",
      "[CV]  max_depth=12, max_features=90, min_samples_leaf=2, n_estimators=200, total=  14.1s\n",
      "[CV] max_depth=12, max_features=90, min_samples_leaf=2, n_estimators=200 \n",
      "[CV]  max_depth=12, max_features=90, min_samples_leaf=2, n_estimators=200, total=  15.0s\n",
      "[CV] max_depth=12, max_features=90, min_samples_leaf=2, n_estimators=300 \n",
      "[CV]  max_depth=12, max_features=90, min_samples_leaf=2, n_estimators=300, total=  21.7s\n",
      "[CV] max_depth=12, max_features=90, min_samples_leaf=3, n_estimators=100 \n",
      "[CV]  max_depth=12, max_features=90, min_samples_leaf=3, n_estimators=100, total=   8.0s\n",
      "[CV] max_depth=12, max_features=90, min_samples_leaf=3, n_estimators=100 \n",
      "[CV]  max_depth=12, max_features=90, min_samples_leaf=3, n_estimators=100, total=   7.2s\n",
      "[CV] max_depth=12, max_features=90, min_samples_leaf=3, n_estimators=200 \n",
      "[CV]  max_depth=12, max_features=90, min_samples_leaf=3, n_estimators=200, total=  14.2s\n",
      "[CV] max_depth=12, max_features=90, min_samples_leaf=3, n_estimators=200 \n",
      "[CV]  max_depth=12, max_features=90, min_samples_leaf=3, n_estimators=200, total=  14.6s\n",
      "[CV] max_depth=12, max_features=90, min_samples_leaf=3, n_estimators=300 \n",
      "[CV] max_depth=12, max_features=80, min_samples_leaf=3, n_estimators=300 \n",
      "[CV]  max_depth=12, max_features=80, min_samples_leaf=3, n_estimators=300, total=  19.5s\n",
      "[CV] max_depth=12, max_features=80, min_samples_leaf=3, n_estimators=300 \n",
      "[CV]  max_depth=12, max_features=80, min_samples_leaf=3, n_estimators=300, total=  19.4s\n",
      "[CV] max_depth=12, max_features=80, min_samples_leaf=4, n_estimators=100 \n",
      "[CV]  max_depth=12, max_features=80, min_samples_leaf=4, n_estimators=100, total=   5.9s\n",
      "[CV] max_depth=12, max_features=80, min_samples_leaf=4, n_estimators=200 \n",
      "[CV]  max_depth=12, max_features=80, min_samples_leaf=4, n_estimators=200, total=  12.5s\n",
      "[CV] max_depth=12, max_features=80, min_samples_leaf=4, n_estimators=300 \n",
      "[CV]  max_depth=12, max_features=80, min_samples_leaf=4, n_estimators=300, total=  19.2s\n",
      "[CV] max_depth=12, max_features=80, min_samples_leaf=4, n_estimators=300 \n",
      "[CV]  max_depth=12, max_features=80, min_samples_leaf=4, n_estimators=300, total=  18.9s\n",
      "[CV] max_depth=12, max_features=90, min_samples_leaf=2, n_estimators=100 \n",
      "[CV]  max_depth=12, max_features=90, min_samples_leaf=2, n_estimators=100, total=   7.2s\n",
      "[CV] max_depth=12, max_features=90, min_samples_leaf=2, n_estimators=200 \n",
      "[CV]  max_depth=12, max_features=90, min_samples_leaf=2, n_estimators=200, total=  14.5s\n",
      "[CV] max_depth=12, max_features=90, min_samples_leaf=2, n_estimators=300 \n",
      "[CV]  max_depth=12, max_features=90, min_samples_leaf=2, n_estimators=300, total=  22.7s\n",
      "[CV] max_depth=12, max_features=90, min_samples_leaf=2, n_estimators=300 \n",
      "[CV]  max_depth=12, max_features=90, min_samples_leaf=2, n_estimators=300, total=  22.1s\n",
      "[CV] max_depth=12, max_features=90, min_samples_leaf=3, n_estimators=100 \n",
      "[CV]  max_depth=12, max_features=90, min_samples_leaf=3, n_estimators=100, total=   7.2s\n",
      "[CV] max_depth=12, max_features=90, min_samples_leaf=3, n_estimators=200 \n",
      "[CV]  max_depth=12, max_features=90, min_samples_leaf=3, n_estimators=200, total=  13.9s\n",
      "[CV] max_depth=12, max_features=90, min_samples_leaf=3, n_estimators=300 \n",
      "[CV]  max_depth=12, max_features=90, min_samples_leaf=3, n_estimators=300, total=  22.3s\n",
      "[CV] max_depth=12, max_features=90, min_samples_leaf=3, n_estimators=300 \n",
      "[CV]  max_depth=12, max_features=90, min_samples_leaf=3, n_estimators=300, total=  21.9s\n",
      "[CV] max_depth=12, max_features=90, min_samples_leaf=4, n_estimators=100 \n",
      "[CV]  max_depth=12, max_features=90, min_samples_leaf=4, n_estimators=100, total=   6.9s\n",
      "[CV] max_depth=12, max_features=90, min_samples_leaf=4, n_estimators=200 \n",
      "[CV]  max_depth=12, max_features=90, min_samples_leaf=4, n_estimators=200, total=  13.5s\n",
      "[CV] max_depth=12, max_features=90, min_samples_leaf=4, n_estimators=300 \n",
      "[CV]  max_depth=12, max_features=90, min_samples_leaf=4, n_estimators=300, total=  21.8s\n",
      "[CV] max_depth=12, max_features=90, min_samples_leaf=4, n_estimators=300 \n",
      "[CV]  max_depth=12, max_features=90, min_samples_leaf=4, n_estimators=300, total=  21.1s\n",
      "[CV] max_depth=12, max_features=100, min_samples_leaf=2, n_estimators=100 \n",
      "[CV]  max_depth=12, max_features=100, min_samples_leaf=2, n_estimators=100, total=   8.0s\n",
      "[CV] max_depth=12, max_features=100, min_samples_leaf=2, n_estimators=200 \n",
      "[CV]  max_depth=12, max_features=100, min_samples_leaf=2, n_estimators=200, total=  16.1s\n",
      "[CV] max_depth=12, max_features=100, min_samples_leaf=2, n_estimators=200 \n",
      "[CV]  max_depth=12, max_features=100, min_samples_leaf=2, n_estimators=200, total=  16.8s\n",
      "[CV] max_depth=12, max_features=100, min_samples_leaf=2, n_estimators=300 \n",
      "[CV]  max_depth=12, max_features=100, min_samples_leaf=2, n_estimators=300, total=  24.4s\n",
      "[CV] max_depth=12, max_features=100, min_samples_leaf=3, n_estimators=100 \n",
      "[CV]  max_depth=12, max_features=100, min_samples_leaf=3, n_estimators=100, total=   7.6s\n",
      "[CV] max_depth=12, max_features=100, min_samples_leaf=3, n_estimators=100 \n",
      "[CV]  max_depth=12, max_features=100, min_samples_leaf=3, n_estimators=100, total=   7.9s\n",
      "[CV] max_depth=12, max_features=100, min_samples_leaf=3, n_estimators=200 \n",
      "[CV]  max_depth=12, max_features=100, min_samples_leaf=3, n_estimators=200, total=  16.9s\n",
      "[CV] max_depth=12, max_features=100, min_samples_leaf=3, n_estimators=200 \n",
      "[CV]  max_depth=12, max_features=100, min_samples_leaf=3, n_estimators=200, total=  15.2s\n",
      "[CV] max_depth=12, max_features=100, min_samples_leaf=3, n_estimators=300 \n",
      "[CV]  max_depth=12, max_features=100, min_samples_leaf=3, n_estimators=300, total=  23.7s\n",
      "[CV] max_depth=12, max_features=100, min_samples_leaf=4, n_estimators=100 \n",
      "[CV]  max_depth=12, max_features=100, min_samples_leaf=4, n_estimators=100, total=   8.1s\n",
      "[CV] max_depth=12, max_features=100, min_samples_leaf=4, n_estimators=100 \n",
      "[CV]  max_depth=12, max_features=100, min_samples_leaf=4, n_estimators=100, total=   7.7s\n",
      "[CV] max_depth=12, max_features=100, min_samples_leaf=4, n_estimators=200 \n",
      "[CV]  max_depth=12, max_features=100, min_samples_leaf=4, n_estimators=200, total=  16.2s\n",
      "[CV] max_depth=12, max_features=100, min_samples_leaf=4, n_estimators=200 \n",
      "[CV]  max_depth=12, max_features=100, min_samples_leaf=4, n_estimators=200, total=  15.3s\n",
      "[CV] max_depth=12, max_features=100, min_samples_leaf=4, n_estimators=300 \n",
      "[CV]  max_depth=12, max_features=100, min_samples_leaf=4, n_estimators=300, total=  23.3s\n",
      "[CV] max_depth=14, max_features=60, min_samples_leaf=2, n_estimators=100 \n",
      "[CV]  max_depth=14, max_features=60, min_samples_leaf=2, n_estimators=100, total=   5.4s\n",
      "[CV] max_depth=14, max_features=60, min_samples_leaf=2, n_estimators=100 \n",
      "[CV]  max_depth=14, max_features=60, min_samples_leaf=2, n_estimators=100, total=   5.6s\n",
      "[CV] max_depth=14, max_features=60, min_samples_leaf=2, n_estimators=200 \n",
      "[CV]  max_depth=14, max_features=60, min_samples_leaf=2, n_estimators=200, total=  11.6s\n",
      "[CV] max_depth=14, max_features=60, min_samples_leaf=2, n_estimators=200 \n",
      "[CV]  max_depth=14, max_features=60, min_samples_leaf=2, n_estimators=200, total=  10.8s\n",
      "[CV] max_depth=14, max_features=60, min_samples_leaf=2, n_estimators=300 \n",
      "[CV]  max_depth=14, max_features=60, min_samples_leaf=2, n_estimators=300, total=  16.7s\n",
      "[CV] max_depth=14, max_features=60, min_samples_leaf=3, n_estimators=100 \n",
      "[CV]  max_depth=14, max_features=60, min_samples_leaf=3, n_estimators=100, total=   5.8s\n",
      "[CV] max_depth=14, max_features=60, min_samples_leaf=3, n_estimators=100 \n",
      "[CV]  max_depth=14, max_features=60, min_samples_leaf=3, n_estimators=100, total=   5.2s\n",
      "[CV] max_depth=14, max_features=60, min_samples_leaf=3, n_estimators=200 \n",
      "[CV]  max_depth=14, max_features=60, min_samples_leaf=3, n_estimators=200, total=  10.9s\n",
      "[CV] max_depth=14, max_features=60, min_samples_leaf=3, n_estimators=200 \n",
      "[CV]  max_depth=14, max_features=60, min_samples_leaf=3, n_estimators=200, total=  11.4s\n",
      "[CV] max_depth=14, max_features=60, min_samples_leaf=3, n_estimators=300 \n",
      "[CV]  max_depth=14, max_features=60, min_samples_leaf=3, n_estimators=300, total=  16.2s\n",
      "[CV] max_depth=14, max_features=60, min_samples_leaf=4, n_estimators=100 \n",
      "[CV]  max_depth=14, max_features=60, min_samples_leaf=4, n_estimators=100, total=   5.2s\n",
      "[CV] max_depth=14, max_features=60, min_samples_leaf=4, n_estimators=100 \n",
      "[CV]  max_depth=14, max_features=60, min_samples_leaf=4, n_estimators=100, total=   5.3s\n",
      "[CV] max_depth=14, max_features=60, min_samples_leaf=4, n_estimators=200 \n",
      "[CV]  max_depth=14, max_features=60, min_samples_leaf=4, n_estimators=200, total=  11.3s\n",
      "[CV] max_depth=14, max_features=60, min_samples_leaf=4, n_estimators=200 \n",
      "[CV]  max_depth=14, max_features=60, min_samples_leaf=4, n_estimators=200, total=  10.2s\n",
      "[CV] max_depth=14, max_features=60, min_samples_leaf=4, n_estimators=300 \n",
      "[CV]  max_depth=14, max_features=60, min_samples_leaf=4, n_estimators=300, total=  15.2s\n",
      "[CV] max_depth=14, max_features=70, min_samples_leaf=2, n_estimators=100 \n",
      "[CV]  max_depth=14, max_features=70, min_samples_leaf=2, n_estimators=100, total=   7.5s\n",
      "[CV] max_depth=14, max_features=70, min_samples_leaf=2, n_estimators=100 \n",
      "[CV]  max_depth=14, max_features=70, min_samples_leaf=2, n_estimators=100, total=   6.1s\n",
      "[CV] max_depth=14, max_features=70, min_samples_leaf=2, n_estimators=200 \n",
      "[CV]  max_depth=14, max_features=70, min_samples_leaf=2, n_estimators=200, total=  12.8s\n",
      "[CV] max_depth=14, max_features=70, min_samples_leaf=2, n_estimators=200 \n",
      "[CV]  max_depth=12, max_features=90, min_samples_leaf=3, n_estimators=300, total=  21.2s\n",
      "[CV] max_depth=12, max_features=90, min_samples_leaf=4, n_estimators=100 \n",
      "[CV]  max_depth=12, max_features=90, min_samples_leaf=4, n_estimators=100, total=   7.7s\n",
      "[CV] max_depth=12, max_features=90, min_samples_leaf=4, n_estimators=100 \n",
      "[CV]  max_depth=12, max_features=90, min_samples_leaf=4, n_estimators=100, total=   7.0s\n",
      "[CV] max_depth=12, max_features=90, min_samples_leaf=4, n_estimators=200 \n",
      "[CV]  max_depth=12, max_features=90, min_samples_leaf=4, n_estimators=200, total=  13.9s\n",
      "[CV] max_depth=12, max_features=90, min_samples_leaf=4, n_estimators=200 \n",
      "[CV]  max_depth=12, max_features=90, min_samples_leaf=4, n_estimators=200, total=  14.4s\n",
      "[CV] max_depth=12, max_features=90, min_samples_leaf=4, n_estimators=300 \n",
      "[CV]  max_depth=12, max_features=90, min_samples_leaf=4, n_estimators=300, total=  20.6s\n",
      "[CV] max_depth=12, max_features=100, min_samples_leaf=2, n_estimators=100 \n",
      "[CV]  max_depth=12, max_features=100, min_samples_leaf=2, n_estimators=100, total=   8.9s\n",
      "[CV] max_depth=12, max_features=100, min_samples_leaf=2, n_estimators=100 \n",
      "[CV]  max_depth=12, max_features=100, min_samples_leaf=2, n_estimators=100, total=   8.0s\n",
      "[CV] max_depth=12, max_features=100, min_samples_leaf=2, n_estimators=200 \n",
      "[CV]  max_depth=12, max_features=100, min_samples_leaf=2, n_estimators=200, total=  15.8s\n",
      "[CV] max_depth=12, max_features=100, min_samples_leaf=2, n_estimators=300 \n",
      "[CV]  max_depth=12, max_features=100, min_samples_leaf=2, n_estimators=300, total=  25.0s\n",
      "[CV] max_depth=12, max_features=100, min_samples_leaf=2, n_estimators=300 \n",
      "[CV]  max_depth=12, max_features=100, min_samples_leaf=2, n_estimators=300, total=  24.5s\n",
      "[CV] max_depth=12, max_features=100, min_samples_leaf=3, n_estimators=100 \n",
      "[CV]  max_depth=12, max_features=100, min_samples_leaf=3, n_estimators=100, total=   7.5s\n",
      "[CV] max_depth=12, max_features=100, min_samples_leaf=3, n_estimators=200 \n",
      "[CV]  max_depth=12, max_features=100, min_samples_leaf=3, n_estimators=200, total=  16.5s\n",
      "[CV] max_depth=12, max_features=100, min_samples_leaf=3, n_estimators=300 \n",
      "[CV]  max_depth=12, max_features=100, min_samples_leaf=3, n_estimators=300, total=  23.9s\n",
      "[CV] max_depth=12, max_features=100, min_samples_leaf=3, n_estimators=300 \n",
      "[CV]  max_depth=12, max_features=100, min_samples_leaf=3, n_estimators=300, total=  24.3s\n",
      "[CV] max_depth=12, max_features=100, min_samples_leaf=4, n_estimators=100 \n",
      "[CV]  max_depth=12, max_features=100, min_samples_leaf=4, n_estimators=100, total=   7.6s\n",
      "[CV] max_depth=12, max_features=100, min_samples_leaf=4, n_estimators=200 \n",
      "[CV]  max_depth=12, max_features=100, min_samples_leaf=4, n_estimators=200, total=  15.6s\n",
      "[CV] max_depth=12, max_features=100, min_samples_leaf=4, n_estimators=300 \n",
      "[CV]  max_depth=12, max_features=100, min_samples_leaf=4, n_estimators=300, total=  24.1s\n",
      "[CV] max_depth=12, max_features=100, min_samples_leaf=4, n_estimators=300 \n",
      "[CV]  max_depth=12, max_features=100, min_samples_leaf=4, n_estimators=300, total=  23.0s\n",
      "[CV] max_depth=14, max_features=60, min_samples_leaf=2, n_estimators=100 \n",
      "[CV]  max_depth=14, max_features=60, min_samples_leaf=2, n_estimators=100, total=   5.3s\n",
      "[CV] max_depth=14, max_features=60, min_samples_leaf=2, n_estimators=200 \n",
      "[CV]  max_depth=14, max_features=60, min_samples_leaf=2, n_estimators=200, total=  11.4s\n",
      "[CV] max_depth=14, max_features=60, min_samples_leaf=2, n_estimators=300 \n",
      "[CV]  max_depth=14, max_features=60, min_samples_leaf=2, n_estimators=300, total=  16.8s\n",
      "[CV] max_depth=14, max_features=60, min_samples_leaf=2, n_estimators=300 \n",
      "[CV]  max_depth=14, max_features=60, min_samples_leaf=2, n_estimators=300, total=  16.7s\n",
      "[CV] max_depth=14, max_features=60, min_samples_leaf=3, n_estimators=100 \n",
      "[CV]  max_depth=14, max_features=60, min_samples_leaf=3, n_estimators=100, total=   5.4s\n",
      "[CV] max_depth=14, max_features=60, min_samples_leaf=3, n_estimators=200 \n",
      "[CV]  max_depth=14, max_features=60, min_samples_leaf=3, n_estimators=200, total=  10.5s\n",
      "[CV] max_depth=14, max_features=60, min_samples_leaf=3, n_estimators=300 \n",
      "[CV]  max_depth=14, max_features=60, min_samples_leaf=3, n_estimators=300, total=  16.9s\n",
      "[CV] max_depth=14, max_features=60, min_samples_leaf=3, n_estimators=300 \n",
      "[CV]  max_depth=14, max_features=60, min_samples_leaf=3, n_estimators=300, total=  15.6s\n",
      "[CV] max_depth=14, max_features=60, min_samples_leaf=4, n_estimators=100 \n",
      "[CV]  max_depth=14, max_features=60, min_samples_leaf=4, n_estimators=100, total=   5.2s\n",
      "[CV] max_depth=14, max_features=60, min_samples_leaf=4, n_estimators=200 \n",
      "[CV]  max_depth=14, max_features=60, min_samples_leaf=4, n_estimators=200, total=  11.1s\n",
      "[CV] max_depth=14, max_features=60, min_samples_leaf=4, n_estimators=300 \n",
      "[CV]  max_depth=14, max_features=60, min_samples_leaf=4, n_estimators=300, total=  15.8s\n",
      "[CV] max_depth=14, max_features=60, min_samples_leaf=4, n_estimators=300 \n",
      "[CV]  max_depth=14, max_features=60, min_samples_leaf=4, n_estimators=300, total=  16.3s\n",
      "[CV] max_depth=14, max_features=70, min_samples_leaf=2, n_estimators=100 \n",
      "[CV]  max_depth=14, max_features=70, min_samples_leaf=2, n_estimators=100, total=   6.1s\n",
      "[CV] max_depth=14, max_features=70, min_samples_leaf=2, n_estimators=200 \n",
      "[CV]  max_depth=14, max_features=70, min_samples_leaf=2, n_estimators=200, total=  12.7s\n",
      "[CV] max_depth=14, max_features=70, min_samples_leaf=2, n_estimators=300 \n",
      "[CV]  max_depth=14, max_features=70, min_samples_leaf=2, n_estimators=300, total=  19.7s\n",
      "[CV] max_depth=14, max_features=70, min_samples_leaf=2, n_estimators=300 \n",
      "[CV]  max_depth=14, max_features=70, min_samples_leaf=2, n_estimators=300, total=  19.7s\n",
      "[CV] max_depth=14, max_features=70, min_samples_leaf=3, n_estimators=100 \n",
      "[CV]  max_depth=14, max_features=70, min_samples_leaf=3, n_estimators=100, total=   6.3s\n",
      "[CV] max_depth=14, max_features=70, min_samples_leaf=3, n_estimators=200 \n",
      "[CV]  max_depth=14, max_features=70, min_samples_leaf=3, n_estimators=200, total=  12.2s\n",
      "[CV] max_depth=14, max_features=70, min_samples_leaf=3, n_estimators=300 \n",
      "[CV]  max_depth=14, max_features=70, min_samples_leaf=3, n_estimators=300, total=  19.8s\n",
      "[CV] max_depth=14, max_features=70, min_samples_leaf=3, n_estimators=300 \n",
      "[CV]  max_depth=14, max_features=70, min_samples_leaf=3, n_estimators=300, total=  18.3s\n",
      "[CV] max_depth=14, max_features=70, min_samples_leaf=4, n_estimators=100 \n",
      "[CV]  max_depth=14, max_features=70, min_samples_leaf=4, n_estimators=100, total=   6.0s\n",
      "[CV] max_depth=14, max_features=70, min_samples_leaf=4, n_estimators=200 \n",
      "[CV]  max_depth=14, max_features=70, min_samples_leaf=4, n_estimators=200, total=  12.5s\n",
      "[CV] max_depth=14, max_features=70, min_samples_leaf=4, n_estimators=300 \n",
      "[CV]  max_depth=14, max_features=70, min_samples_leaf=4, n_estimators=300, total=  18.6s\n",
      "[CV] max_depth=14, max_features=70, min_samples_leaf=4, n_estimators=300 \n",
      "[CV]  max_depth=14, max_features=70, min_samples_leaf=4, n_estimators=300, total=  18.0s\n",
      "[CV] max_depth=14, max_features=80, min_samples_leaf=2, n_estimators=100 \n",
      "[CV]  max_depth=14, max_features=80, min_samples_leaf=2, n_estimators=100, total=   7.3s\n",
      "[CV] max_depth=14, max_features=80, min_samples_leaf=2, n_estimators=200 \n",
      "[CV]  max_depth=14, max_features=80, min_samples_leaf=2, n_estimators=200, total=  14.7s\n",
      "[CV] max_depth=14, max_features=80, min_samples_leaf=2, n_estimators=300 \n",
      "[CV]  max_depth=14, max_features=80, min_samples_leaf=2, n_estimators=300, total=  22.4s\n",
      "[CV] max_depth=14, max_features=80, min_samples_leaf=2, n_estimators=300 \n",
      "[CV]  max_depth=14, max_features=80, min_samples_leaf=2, n_estimators=300, total=  22.0s\n",
      "[CV] max_depth=14, max_features=80, min_samples_leaf=3, n_estimators=100 \n",
      "[CV]  max_depth=14, max_features=80, min_samples_leaf=3, n_estimators=100, total=   7.4s\n",
      "[CV] max_depth=14, max_features=80, min_samples_leaf=3, n_estimators=200 \n",
      "[CV]  max_depth=14, max_features=80, min_samples_leaf=3, n_estimators=200, total=  14.4s\n",
      "[CV] max_depth=14, max_features=80, min_samples_leaf=3, n_estimators=300 \n",
      "[CV]  max_depth=14, max_features=80, min_samples_leaf=3, n_estimators=300, total=  21.6s\n",
      "[CV] max_depth=14, max_features=80, min_samples_leaf=3, n_estimators=300 \n",
      "[CV]  max_depth=14, max_features=80, min_samples_leaf=3, n_estimators=300, total=  21.5s\n",
      "[CV]  max_depth=14, max_features=70, min_samples_leaf=2, n_estimators=200, total=  13.5s\n",
      "[CV] max_depth=14, max_features=70, min_samples_leaf=2, n_estimators=300 \n",
      "[CV]  max_depth=14, max_features=70, min_samples_leaf=2, n_estimators=300, total=  18.7s\n",
      "[CV] max_depth=14, max_features=70, min_samples_leaf=3, n_estimators=100 \n",
      "[CV]  max_depth=14, max_features=70, min_samples_leaf=3, n_estimators=100, total=   6.5s\n",
      "[CV] max_depth=14, max_features=70, min_samples_leaf=3, n_estimators=100 \n",
      "[CV]  max_depth=14, max_features=70, min_samples_leaf=3, n_estimators=100, total=   6.9s\n",
      "[CV] max_depth=14, max_features=70, min_samples_leaf=3, n_estimators=200 \n",
      "[CV]  max_depth=14, max_features=70, min_samples_leaf=3, n_estimators=200, total=  12.5s\n",
      "[CV] max_depth=14, max_features=70, min_samples_leaf=3, n_estimators=200 \n",
      "[CV]  max_depth=14, max_features=70, min_samples_leaf=3, n_estimators=200, total=  12.3s\n",
      "[CV] max_depth=14, max_features=70, min_samples_leaf=3, n_estimators=300 \n",
      "[CV]  max_depth=14, max_features=70, min_samples_leaf=3, n_estimators=300, total=  19.4s\n",
      "[CV] max_depth=14, max_features=70, min_samples_leaf=4, n_estimators=100 \n",
      "[CV]  max_depth=14, max_features=70, min_samples_leaf=4, n_estimators=100, total=   6.1s\n",
      "[CV] max_depth=14, max_features=70, min_samples_leaf=4, n_estimators=100 \n",
      "[CV]  max_depth=14, max_features=70, min_samples_leaf=4, n_estimators=100, total=   6.0s\n",
      "[CV] max_depth=14, max_features=70, min_samples_leaf=4, n_estimators=200 \n",
      "[CV]  max_depth=14, max_features=70, min_samples_leaf=4, n_estimators=200, total=  13.0s\n",
      "[CV] max_depth=14, max_features=70, min_samples_leaf=4, n_estimators=200 \n",
      "[CV]  max_depth=14, max_features=70, min_samples_leaf=4, n_estimators=200, total=  11.9s\n",
      "[CV] max_depth=14, max_features=70, min_samples_leaf=4, n_estimators=300 \n",
      "[CV]  max_depth=14, max_features=70, min_samples_leaf=4, n_estimators=300, total=  18.6s\n",
      "[CV] max_depth=14, max_features=80, min_samples_leaf=2, n_estimators=100 \n",
      "[CV]  max_depth=14, max_features=80, min_samples_leaf=2, n_estimators=100, total=   7.2s\n",
      "[CV] max_depth=14, max_features=80, min_samples_leaf=2, n_estimators=100 \n",
      "[CV]  max_depth=14, max_features=80, min_samples_leaf=2, n_estimators=100, total=   7.2s\n",
      "[CV] max_depth=14, max_features=80, min_samples_leaf=2, n_estimators=200 \n",
      "[CV]  max_depth=14, max_features=80, min_samples_leaf=2, n_estimators=200, total=  15.1s\n",
      "[CV] max_depth=14, max_features=80, min_samples_leaf=2, n_estimators=200 \n",
      "[CV]  max_depth=14, max_features=80, min_samples_leaf=2, n_estimators=200, total=  14.3s\n",
      "[CV] max_depth=14, max_features=80, min_samples_leaf=2, n_estimators=300 \n",
      "[CV]  max_depth=14, max_features=80, min_samples_leaf=2, n_estimators=300, total=  22.1s\n",
      "[CV] max_depth=14, max_features=80, min_samples_leaf=3, n_estimators=100 \n",
      "[CV]  max_depth=14, max_features=80, min_samples_leaf=3, n_estimators=100, total=   7.1s\n",
      "[CV] max_depth=14, max_features=80, min_samples_leaf=3, n_estimators=100 \n",
      "[CV]  max_depth=14, max_features=80, min_samples_leaf=3, n_estimators=100, total=   7.3s\n",
      "[CV] max_depth=14, max_features=80, min_samples_leaf=3, n_estimators=200 \n",
      "[CV]  max_depth=14, max_features=80, min_samples_leaf=3, n_estimators=200, total=  14.8s\n",
      "[CV] max_depth=14, max_features=80, min_samples_leaf=3, n_estimators=200 \n",
      "[CV]  max_depth=14, max_features=80, min_samples_leaf=3, n_estimators=200, total=  14.0s\n",
      "[CV] max_depth=14, max_features=80, min_samples_leaf=3, n_estimators=300 \n",
      "[CV]  max_depth=14, max_features=80, min_samples_leaf=3, n_estimators=300, total=  21.8s\n",
      "[CV] max_depth=14, max_features=80, min_samples_leaf=4, n_estimators=100 \n",
      "[CV]  max_depth=14, max_features=80, min_samples_leaf=4, n_estimators=100, total=   6.9s\n",
      "[CV] max_depth=14, max_features=80, min_samples_leaf=4, n_estimators=100 \n",
      "[CV]  max_depth=14, max_features=80, min_samples_leaf=4, n_estimators=100, total=   7.0s\n",
      "[CV] max_depth=14, max_features=80, min_samples_leaf=4, n_estimators=200 \n",
      "[CV]  max_depth=14, max_features=80, min_samples_leaf=4, n_estimators=200, total=  14.8s\n",
      "[CV] max_depth=14, max_features=80, min_samples_leaf=4, n_estimators=200 \n",
      "[CV]  max_depth=14, max_features=80, min_samples_leaf=4, n_estimators=200, total=  13.5s\n",
      "[CV] max_depth=14, max_features=80, min_samples_leaf=4, n_estimators=300 \n",
      "[CV]  max_depth=14, max_features=80, min_samples_leaf=4, n_estimators=300, total=  20.8s\n",
      "[CV] max_depth=14, max_features=90, min_samples_leaf=2, n_estimators=100 \n",
      "[CV]  max_depth=14, max_features=90, min_samples_leaf=2, n_estimators=100, total=   8.6s\n",
      "[CV] max_depth=14, max_features=90, min_samples_leaf=2, n_estimators=100 \n",
      "[CV]  max_depth=14, max_features=90, min_samples_leaf=2, n_estimators=100, total=   8.3s\n",
      "[CV] max_depth=14, max_features=90, min_samples_leaf=2, n_estimators=200 \n",
      "[CV]  max_depth=14, max_features=90, min_samples_leaf=2, n_estimators=200, total=  17.0s\n",
      "[CV] max_depth=14, max_features=90, min_samples_leaf=2, n_estimators=200 \n",
      "[CV]  max_depth=14, max_features=90, min_samples_leaf=2, n_estimators=200, total=  16.2s\n",
      "[CV] max_depth=14, max_features=90, min_samples_leaf=2, n_estimators=300 \n",
      "[CV]  max_depth=14, max_features=90, min_samples_leaf=2, n_estimators=300, total=  24.6s\n",
      "[CV] max_depth=14, max_features=90, min_samples_leaf=3, n_estimators=100 \n",
      "[CV]  max_depth=14, max_features=90, min_samples_leaf=3, n_estimators=100, total=   8.2s\n",
      "[CV] max_depth=14, max_features=90, min_samples_leaf=3, n_estimators=100 \n",
      "[CV]  max_depth=14, max_features=90, min_samples_leaf=3, n_estimators=100, total=   7.8s\n",
      "[CV] max_depth=14, max_features=90, min_samples_leaf=3, n_estimators=200 \n",
      "[CV]  max_depth=14, max_features=90, min_samples_leaf=3, n_estimators=200, total=  16.8s\n",
      "[CV] max_depth=14, max_features=90, min_samples_leaf=3, n_estimators=300 \n",
      "[CV]  max_depth=14, max_features=90, min_samples_leaf=3, n_estimators=300, total=  24.7s\n",
      "[CV] max_depth=14, max_features=90, min_samples_leaf=3, n_estimators=300 \n",
      "[CV]  max_depth=14, max_features=90, min_samples_leaf=3, n_estimators=300, total=  23.2s\n",
      "[CV] max_depth=14, max_features=90, min_samples_leaf=4, n_estimators=100 \n",
      "[CV]  max_depth=14, max_features=90, min_samples_leaf=4, n_estimators=100, total=   8.5s\n",
      "[CV] max_depth=14, max_features=90, min_samples_leaf=4, n_estimators=200 \n",
      "[CV]  max_depth=14, max_features=90, min_samples_leaf=4, n_estimators=200, total=  15.4s\n",
      "[CV] max_depth=14, max_features=90, min_samples_leaf=4, n_estimators=200 \n",
      "[CV]  max_depth=14, max_features=90, min_samples_leaf=4, n_estimators=200, total=  14.9s\n",
      "[CV] max_depth=14, max_features=90, min_samples_leaf=4, n_estimators=300 \n",
      "[CV]  max_depth=14, max_features=90, min_samples_leaf=4, n_estimators=300, total=  23.4s\n",
      "[CV] max_depth=14, max_features=100, min_samples_leaf=2, n_estimators=100 \n",
      "[CV]  max_depth=14, max_features=100, min_samples_leaf=2, n_estimators=100, total=   9.3s\n",
      "[CV] max_depth=14, max_features=100, min_samples_leaf=2, n_estimators=100 \n",
      "[CV]  max_depth=14, max_features=100, min_samples_leaf=2, n_estimators=100, total=   9.6s\n",
      "[CV] max_depth=14, max_features=100, min_samples_leaf=2, n_estimators=200 \n",
      "[CV]  max_depth=14, max_features=100, min_samples_leaf=2, n_estimators=200, total=  17.7s\n",
      "[CV] max_depth=14, max_features=100, min_samples_leaf=2, n_estimators=200 \n",
      "[CV]  max_depth=14, max_features=100, min_samples_leaf=2, n_estimators=200, total=  18.9s\n",
      "[CV] max_depth=14, max_features=100, min_samples_leaf=2, n_estimators=300 \n",
      "[CV]  max_depth=14, max_features=100, min_samples_leaf=2, n_estimators=300, total=  27.7s\n",
      "[CV] max_depth=14, max_features=100, min_samples_leaf=3, n_estimators=100 \n",
      "[CV]  max_depth=14, max_features=100, min_samples_leaf=3, n_estimators=100, total=   8.8s\n",
      "[CV] max_depth=14, max_features=100, min_samples_leaf=3, n_estimators=100 \n",
      "[CV]  max_depth=14, max_features=100, min_samples_leaf=3, n_estimators=100, total=   8.7s\n",
      "[CV] max_depth=14, max_features=100, min_samples_leaf=3, n_estimators=200 \n",
      "[CV]  max_depth=14, max_features=100, min_samples_leaf=3, n_estimators=200, total=  18.9s\n",
      "[CV] max_depth=14, max_features=100, min_samples_leaf=3, n_estimators=200 \n",
      "[CV]  max_depth=14, max_features=100, min_samples_leaf=3, n_estimators=200, total=  17.0s\n",
      "[CV] max_depth=14, max_features=100, min_samples_leaf=3, n_estimators=300 \n",
      "[CV]  max_depth=14, max_features=100, min_samples_leaf=3, n_estimators=300, total=  26.8s"
     ]
    },
    {
     "name": "stderr",
     "output_type": "stream",
     "text": [
      "[Parallel(n_jobs=-1)]: Done 540 out of 540 | elapsed: 53.9min finished\n"
     ]
    },
    {
     "data": {
      "text/plain": [
       "{'max_depth': 8,\n",
       " 'max_features': 100,\n",
       " 'min_samples_leaf': 4,\n",
       " 'n_estimators': 300}"
      ]
     },
     "execution_count": 65,
     "metadata": {},
     "output_type": "execute_result"
    }
   ],
   "source": [
    "grid_search.fit(lda_data_train, y_train)\n",
    "grid_search.best_params_"
   ]
  },
  {
   "cell_type": "code",
   "execution_count": 66,
   "id": "ab7cb889",
   "metadata": {
    "execution": {
     "iopub.execute_input": "2022-02-09T06:18:08.282809Z",
     "iopub.status.busy": "2022-02-09T06:18:08.282115Z",
     "iopub.status.idle": "2022-02-09T06:18:08.284713Z",
     "shell.execute_reply": "2022-02-09T06:18:08.284217Z",
     "shell.execute_reply.started": "2022-02-02T09:55:37.730896Z"
    },
    "papermill": {
     "duration": 0.083776,
     "end_time": "2022-02-09T06:18:08.284849",
     "exception": false,
     "start_time": "2022-02-09T06:18:08.201073",
     "status": "completed"
    },
    "tags": []
   },
   "outputs": [],
   "source": [
    "rand=RandomForestClassifier(max_depth= 8, max_features = 100, min_samples_leaf = 2, n_estimators = 200)"
   ]
  },
  {
   "cell_type": "code",
   "execution_count": 67,
   "id": "565cecd0",
   "metadata": {
    "execution": {
     "iopub.execute_input": "2022-02-09T06:18:08.446280Z",
     "iopub.status.busy": "2022-02-09T06:18:08.445491Z",
     "iopub.status.idle": "2022-02-09T06:18:19.110764Z",
     "shell.execute_reply": "2022-02-09T06:18:19.110293Z",
     "shell.execute_reply.started": "2022-02-02T09:55:37.739459Z"
    },
    "papermill": {
     "duration": 10.749256,
     "end_time": "2022-02-09T06:18:19.110894",
     "exception": false,
     "start_time": "2022-02-09T06:18:08.361638",
     "status": "completed"
    },
    "tags": []
   },
   "outputs": [
    {
     "data": {
      "text/plain": [
       "RandomForestClassifier(max_depth=8, max_features=100, min_samples_leaf=2,\n",
       "                       n_estimators=200)"
      ]
     },
     "execution_count": 67,
     "metadata": {},
     "output_type": "execute_result"
    }
   ],
   "source": [
    "rand.fit(lda_data_train,y_train)"
   ]
  },
  {
   "cell_type": "code",
   "execution_count": 68,
   "id": "369ebebd",
   "metadata": {
    "execution": {
     "iopub.execute_input": "2022-02-09T06:18:19.275609Z",
     "iopub.status.busy": "2022-02-09T06:18:19.274601Z",
     "iopub.status.idle": "2022-02-09T06:18:19.329182Z",
     "shell.execute_reply": "2022-02-09T06:18:19.328757Z",
     "shell.execute_reply.started": "2022-02-02T09:55:53.136231Z"
    },
    "papermill": {
     "duration": 0.139407,
     "end_time": "2022-02-09T06:18:19.329288",
     "exception": false,
     "start_time": "2022-02-09T06:18:19.189881",
     "status": "completed"
    },
    "tags": []
   },
   "outputs": [
    {
     "data": {
      "text/plain": [
       "0.7006457564575646"
      ]
     },
     "execution_count": 68,
     "metadata": {},
     "output_type": "execute_result"
    }
   ],
   "source": [
    "rand.score(lda_data_train,y_train)"
   ]
  },
  {
   "cell_type": "code",
   "execution_count": 69,
   "id": "0af7ef5f",
   "metadata": {
    "execution": {
     "iopub.execute_input": "2022-02-09T06:18:19.491332Z",
     "iopub.status.busy": "2022-02-09T06:18:19.490482Z",
     "iopub.status.idle": "2022-02-09T06:18:19.527051Z",
     "shell.execute_reply": "2022-02-09T06:18:19.526636Z",
     "shell.execute_reply.started": "2022-02-02T09:55:53.240487Z"
    },
    "papermill": {
     "duration": 0.120045,
     "end_time": "2022-02-09T06:18:19.527158",
     "exception": false,
     "start_time": "2022-02-09T06:18:19.407113",
     "status": "completed"
    },
    "tags": []
   },
   "outputs": [
    {
     "data": {
      "text/plain": [
       "0.6720430107526881"
      ]
     },
     "execution_count": 69,
     "metadata": {},
     "output_type": "execute_result"
    }
   ],
   "source": [
    "rand.score(lda_data_test,y_test)"
   ]
  },
  {
   "cell_type": "code",
   "execution_count": 70,
   "id": "7d20a8d3",
   "metadata": {
    "execution": {
     "iopub.execute_input": "2022-02-09T06:18:19.687410Z",
     "iopub.status.busy": "2022-02-09T06:18:19.685798Z",
     "iopub.status.idle": "2022-02-09T06:18:19.688022Z",
     "shell.execute_reply": "2022-02-09T06:18:19.688412Z",
     "shell.execute_reply.started": "2022-02-02T09:55:53.318179Z"
    },
    "papermill": {
     "duration": 0.083991,
     "end_time": "2022-02-09T06:18:19.688548",
     "exception": false,
     "start_time": "2022-02-09T06:18:19.604557",
     "status": "completed"
    },
    "scrolled": true,
    "tags": []
   },
   "outputs": [],
   "source": [
    "from sklearn.metrics import f1_score"
   ]
  },
  {
   "cell_type": "code",
   "execution_count": 71,
   "id": "ce223a9d",
   "metadata": {
    "execution": {
     "iopub.execute_input": "2022-02-09T06:18:19.850956Z",
     "iopub.status.busy": "2022-02-09T06:18:19.850123Z",
     "iopub.status.idle": "2022-02-09T06:18:19.887131Z",
     "shell.execute_reply": "2022-02-09T06:18:19.887504Z",
     "shell.execute_reply.started": "2022-02-02T09:55:53.32755Z"
    },
    "papermill": {
     "duration": 0.121789,
     "end_time": "2022-02-09T06:18:19.887652",
     "exception": false,
     "start_time": "2022-02-09T06:18:19.765863",
     "status": "completed"
    },
    "tags": []
   },
   "outputs": [
    {
     "data": {
      "text/plain": [
       "0.8013029315960912"
      ]
     },
     "execution_count": 71,
     "metadata": {},
     "output_type": "execute_result"
    }
   ],
   "source": [
    "y_pred1 = rand.predict(lda_data_test)\n",
    "f1_score(y_test, y_pred1)"
   ]
  },
  {
   "cell_type": "code",
   "execution_count": 72,
   "id": "af5bddbc",
   "metadata": {
    "execution": {
     "iopub.execute_input": "2022-02-09T06:18:20.049153Z",
     "iopub.status.busy": "2022-02-09T06:18:20.048653Z",
     "iopub.status.idle": "2022-02-09T06:18:25.535990Z",
     "shell.execute_reply": "2022-02-09T06:18:25.536660Z",
     "shell.execute_reply.started": "2022-02-02T09:55:53.434588Z"
    },
    "papermill": {
     "duration": 5.571682,
     "end_time": "2022-02-09T06:18:25.536859",
     "exception": false,
     "start_time": "2022-02-09T06:18:19.965177",
     "status": "completed"
    },
    "tags": []
   },
   "outputs": [
    {
     "name": "stderr",
     "output_type": "stream",
     "text": [
      "/opt/conda/lib/python3.7/site-packages/xgboost/sklearn.py:1224: UserWarning: The use of label encoder in XGBClassifier is deprecated and will be removed in a future release. To remove this warning, do the following: 1) Pass option use_label_encoder=False when constructing XGBClassifier object; and 2) Encode your labels (y) as integers starting with 0, i.e. 0, 1, 2, ..., [num_class - 1].\n",
      "  warnings.warn(label_encoder_deprecation_msg, UserWarning)\n"
     ]
    },
    {
     "name": "stdout",
     "output_type": "stream",
     "text": [
      "[06:18:22] WARNING: ../src/learner.cc:1115: Starting in XGBoost 1.3.0, the default evaluation metric used with the objective 'binary:logistic' was changed from 'error' to 'logloss'. Explicitly set eval_metric if you'd like to restore the old behavior.\n",
      "Accuracy: 65.05%\n"
     ]
    },
    {
     "data": {
      "text/plain": [
       "0.8013029315960912"
      ]
     },
     "execution_count": 72,
     "metadata": {},
     "output_type": "execute_result"
    }
   ],
   "source": [
    "model = XGBClassifier()\n",
    "model.fit(lda_data_train, y_train)\n",
    "y_pred = model.predict(lda_data_test)\n",
    "predictions = [round(value) for value in y_pred]\n",
    "# evaluate predictions\n",
    "accuracy = accuracy_score(y_test, predictions)\n",
    "print(\"Accuracy: %.2f%%\" % (accuracy * 100.0))\n",
    "f1_score(y_test, y_pred1)"
   ]
  },
  {
   "cell_type": "code",
   "execution_count": 73,
   "id": "0d4ee423",
   "metadata": {
    "execution": {
     "iopub.execute_input": "2022-02-09T06:18:25.703082Z",
     "iopub.status.busy": "2022-02-09T06:18:25.701472Z",
     "iopub.status.idle": "2022-02-09T06:18:25.703732Z",
     "shell.execute_reply": "2022-02-09T06:18:25.704143Z",
     "shell.execute_reply.started": "2022-02-02T09:55:59.454268Z"
    },
    "papermill": {
     "duration": 0.086179,
     "end_time": "2022-02-09T06:18:25.704266",
     "exception": false,
     "start_time": "2022-02-09T06:18:25.618087",
     "status": "completed"
    },
    "tags": []
   },
   "outputs": [],
   "source": [
    "knn=KNeighborsClassifier(n_neighbors=7)"
   ]
  },
  {
   "cell_type": "code",
   "execution_count": 74,
   "id": "e93c39a4",
   "metadata": {
    "execution": {
     "iopub.execute_input": "2022-02-09T06:18:25.872453Z",
     "iopub.status.busy": "2022-02-09T06:18:25.871861Z",
     "iopub.status.idle": "2022-02-09T06:18:25.911695Z",
     "shell.execute_reply": "2022-02-09T06:18:25.911158Z",
     "shell.execute_reply.started": "2022-02-02T09:55:59.461984Z"
    },
    "papermill": {
     "duration": 0.127505,
     "end_time": "2022-02-09T06:18:25.911827",
     "exception": false,
     "start_time": "2022-02-09T06:18:25.784322",
     "status": "completed"
    },
    "tags": []
   },
   "outputs": [
    {
     "data": {
      "text/plain": [
       "KNeighborsClassifier(n_neighbors=7)"
      ]
     },
     "execution_count": 74,
     "metadata": {},
     "output_type": "execute_result"
    }
   ],
   "source": [
    "knn.fit(lda_data_train,y_train)"
   ]
  },
  {
   "cell_type": "code",
   "execution_count": 75,
   "id": "876c0662",
   "metadata": {
    "execution": {
     "iopub.execute_input": "2022-02-09T06:18:26.079549Z",
     "iopub.status.busy": "2022-02-09T06:18:26.078726Z",
     "iopub.status.idle": "2022-02-09T06:18:27.836400Z",
     "shell.execute_reply": "2022-02-09T06:18:27.837072Z",
     "shell.execute_reply.started": "2022-02-02T09:55:59.518163Z"
    },
    "papermill": {
     "duration": 1.845124,
     "end_time": "2022-02-09T06:18:27.837222",
     "exception": false,
     "start_time": "2022-02-09T06:18:25.992098",
     "status": "completed"
    },
    "tags": []
   },
   "outputs": [
    {
     "data": {
      "text/plain": [
       "0.7061808118081181"
      ]
     },
     "execution_count": 75,
     "metadata": {},
     "output_type": "execute_result"
    }
   ],
   "source": [
    "knn.score(lda_data_train,y_train)"
   ]
  },
  {
   "cell_type": "code",
   "execution_count": 76,
   "id": "a6f437bd",
   "metadata": {
    "execution": {
     "iopub.execute_input": "2022-02-09T06:18:28.009305Z",
     "iopub.status.busy": "2022-02-09T06:18:28.008548Z",
     "iopub.status.idle": "2022-02-09T06:18:29.135649Z",
     "shell.execute_reply": "2022-02-09T06:18:29.136148Z",
     "shell.execute_reply.started": "2022-02-02T09:56:01.34411Z"
    },
    "papermill": {
     "duration": 1.216761,
     "end_time": "2022-02-09T06:18:29.136332",
     "exception": false,
     "start_time": "2022-02-09T06:18:27.919571",
     "status": "completed"
    },
    "tags": []
   },
   "outputs": [
    {
     "data": {
      "text/plain": [
       "0.6365591397849463"
      ]
     },
     "execution_count": 76,
     "metadata": {},
     "output_type": "execute_result"
    }
   ],
   "source": [
    "knn.score(lda_data_test,y_test)"
   ]
  },
  {
   "cell_type": "markdown",
   "id": "be795a30",
   "metadata": {
    "papermill": {
     "duration": 0.080941,
     "end_time": "2022-02-09T06:18:29.300322",
     "exception": false,
     "start_time": "2022-02-09T06:18:29.219381",
     "status": "completed"
    },
    "tags": []
   },
   "source": [
    "# 11. Deploying a LSTM Model to achieve higher accuracy"
   ]
  },
  {
   "cell_type": "code",
   "execution_count": 77,
   "id": "15045187",
   "metadata": {
    "execution": {
     "iopub.execute_input": "2022-02-09T06:18:29.467463Z",
     "iopub.status.busy": "2022-02-09T06:18:29.465357Z",
     "iopub.status.idle": "2022-02-09T06:18:34.439795Z",
     "shell.execute_reply": "2022-02-09T06:18:34.438764Z",
     "shell.execute_reply.started": "2022-02-02T09:53:58.089603Z"
    },
    "papermill": {
     "duration": 5.05812,
     "end_time": "2022-02-09T06:18:34.439941",
     "exception": false,
     "start_time": "2022-02-09T06:18:29.381821",
     "status": "completed"
    },
    "tags": []
   },
   "outputs": [],
   "source": [
    "import numpy as np\n",
    "from keras.preprocessing import sequence\n",
    "from keras.models import Sequential\n",
    "from keras.layers import Dense, Dropout, Embedding, LSTM, Bidirectional"
   ]
  },
  {
   "cell_type": "code",
   "execution_count": 78,
   "id": "7b677fee",
   "metadata": {
    "execution": {
     "iopub.execute_input": "2022-02-09T06:18:34.605374Z",
     "iopub.status.busy": "2022-02-09T06:18:34.604673Z",
     "iopub.status.idle": "2022-02-09T06:18:34.607453Z",
     "shell.execute_reply": "2022-02-09T06:18:34.606960Z",
     "shell.execute_reply.started": "2022-02-02T09:53:58.092116Z"
    },
    "papermill": {
     "duration": 0.086545,
     "end_time": "2022-02-09T06:18:34.607609",
     "exception": false,
     "start_time": "2022-02-09T06:18:34.521064",
     "status": "completed"
    },
    "tags": []
   },
   "outputs": [],
   "source": [
    "n_unique_words = 10000 # cut texts after this number of words\n",
    "maxlen = 2000\n",
    "batch_size = 32"
   ]
  },
  {
   "cell_type": "code",
   "execution_count": 79,
   "id": "197c0d6a",
   "metadata": {
    "execution": {
     "iopub.execute_input": "2022-02-09T06:18:34.774180Z",
     "iopub.status.busy": "2022-02-09T06:18:34.773666Z",
     "iopub.status.idle": "2022-02-09T06:18:40.105596Z",
     "shell.execute_reply": "2022-02-09T06:18:40.106274Z",
     "shell.execute_reply.started": "2022-02-02T09:53:58.094745Z"
    },
    "papermill": {
     "duration": 5.419333,
     "end_time": "2022-02-09T06:18:40.106438",
     "exception": false,
     "start_time": "2022-02-09T06:18:34.687105",
     "status": "completed"
    },
    "tags": []
   },
   "outputs": [
    {
     "name": "stderr",
     "output_type": "stream",
     "text": [
      "2022-02-09 06:18:34.802884: I tensorflow/stream_executor/cuda/cuda_gpu_executor.cc:937] successful NUMA node read from SysFS had negative value (-1), but there must be at least one NUMA node, so returning NUMA node zero\n",
      "2022-02-09 06:18:34.803975: I tensorflow/stream_executor/cuda/cuda_gpu_executor.cc:937] successful NUMA node read from SysFS had negative value (-1), but there must be at least one NUMA node, so returning NUMA node zero\n",
      "2022-02-09 06:18:34.804647: I tensorflow/stream_executor/cuda/cuda_gpu_executor.cc:937] successful NUMA node read from SysFS had negative value (-1), but there must be at least one NUMA node, so returning NUMA node zero\n",
      "2022-02-09 06:18:34.805451: I tensorflow/core/platform/cpu_feature_guard.cc:142] This TensorFlow binary is optimized with oneAPI Deep Neural Network Library (oneDNN) to use the following CPU instructions in performance-critical operations:  AVX2 AVX512F FMA\n",
      "To enable them in other operations, rebuild TensorFlow with the appropriate compiler flags.\n",
      "2022-02-09 06:18:34.806570: I tensorflow/stream_executor/cuda/cuda_gpu_executor.cc:937] successful NUMA node read from SysFS had negative value (-1), but there must be at least one NUMA node, so returning NUMA node zero\n",
      "2022-02-09 06:18:34.807320: I tensorflow/stream_executor/cuda/cuda_gpu_executor.cc:937] successful NUMA node read from SysFS had negative value (-1), but there must be at least one NUMA node, so returning NUMA node zero\n",
      "2022-02-09 06:18:34.808036: I tensorflow/stream_executor/cuda/cuda_gpu_executor.cc:937] successful NUMA node read from SysFS had negative value (-1), but there must be at least one NUMA node, so returning NUMA node zero\n",
      "2022-02-09 06:18:39.468417: I tensorflow/stream_executor/cuda/cuda_gpu_executor.cc:937] successful NUMA node read from SysFS had negative value (-1), but there must be at least one NUMA node, so returning NUMA node zero\n",
      "2022-02-09 06:18:39.469233: I tensorflow/stream_executor/cuda/cuda_gpu_executor.cc:937] successful NUMA node read from SysFS had negative value (-1), but there must be at least one NUMA node, so returning NUMA node zero\n",
      "2022-02-09 06:18:39.469897: I tensorflow/stream_executor/cuda/cuda_gpu_executor.cc:937] successful NUMA node read from SysFS had negative value (-1), but there must be at least one NUMA node, so returning NUMA node zero\n",
      "2022-02-09 06:18:39.470463: I tensorflow/core/common_runtime/gpu/gpu_device.cc:1510] Created device /job:localhost/replica:0/task:0/device:GPU:0 with 15191 MB memory:  -> device: 0, name: Tesla P100-PCIE-16GB, pci bus id: 0000:00:04.0, compute capability: 6.0\n"
     ]
    }
   ],
   "source": [
    "model = Sequential()\n",
    "model.add(Embedding(n_unique_words, 128, input_length=maxlen))\n",
    "model.add(LSTM(64))\n",
    "model.add(Dropout(0.2))\n",
    "model.add(Dense(1, activation='sigmoid'))\n",
    "model.compile(loss='binary_crossentropy', optimizer='adam', metrics=['accuracy'])"
   ]
  },
  {
   "cell_type": "code",
   "execution_count": 80,
   "id": "2f7375ec",
   "metadata": {
    "_kg_hide-output": true,
    "execution": {
     "iopub.execute_input": "2022-02-09T06:18:40.275434Z",
     "iopub.status.busy": "2022-02-09T06:18:40.274850Z",
     "iopub.status.idle": "2022-02-09T06:22:03.727014Z",
     "shell.execute_reply": "2022-02-09T06:22:03.727669Z",
     "shell.execute_reply.started": "2022-02-02T09:53:58.097313Z"
    },
    "papermill": {
     "duration": 203.539774,
     "end_time": "2022-02-09T06:22:03.727923",
     "exception": false,
     "start_time": "2022-02-09T06:18:40.188149",
     "status": "completed"
    },
    "scrolled": true,
    "tags": []
   },
   "outputs": [
    {
     "name": "stderr",
     "output_type": "stream",
     "text": [
      "2022-02-09 06:18:40.338789: I tensorflow/compiler/mlir/mlir_graph_optimization_pass.cc:185] None of the MLIR Optimization Passes are enabled (registered 2)\n"
     ]
    },
    {
     "name": "stdout",
     "output_type": "stream",
     "text": [
      "Epoch 1/200\n"
     ]
    },
    {
     "name": "stderr",
     "output_type": "stream",
     "text": [
      "2022-02-09 06:18:42.786179: I tensorflow/stream_executor/cuda/cuda_dnn.cc:369] Loaded cuDNN version 8005\n"
     ]
    },
    {
     "name": "stdout",
     "output_type": "stream",
     "text": [
      "68/68 [==============================] - 5s 21ms/step - loss: 0.6457 - accuracy: 0.6628 - val_loss: 0.0000e+00 - val_accuracy: 0.0000e+00\n",
      "Epoch 2/200\n",
      "68/68 [==============================] - 1s 12ms/step - loss: 0.6388 - accuracy: 0.6670 - val_loss: 0.0000e+00 - val_accuracy: 0.0000e+00\n",
      "Epoch 3/200\n",
      "68/68 [==============================] - 1s 14ms/step - loss: 0.6378 - accuracy: 0.6670 - val_loss: 0.0000e+00 - val_accuracy: 0.0000e+00\n",
      "Epoch 4/200\n",
      "68/68 [==============================] - 1s 11ms/step - loss: 0.6381 - accuracy: 0.6670 - val_loss: 0.0000e+00 - val_accuracy: 0.0000e+00\n",
      "Epoch 5/200\n",
      "68/68 [==============================] - 1s 11ms/step - loss: 0.6374 - accuracy: 0.6670 - val_loss: 0.0000e+00 - val_accuracy: 0.0000e+00\n",
      "Epoch 6/200\n",
      "68/68 [==============================] - 1s 11ms/step - loss: 0.6423 - accuracy: 0.6670 - val_loss: 0.0000e+00 - val_accuracy: 0.0000e+00\n",
      "Epoch 7/200\n",
      "68/68 [==============================] - 1s 12ms/step - loss: 0.6377 - accuracy: 0.6670 - val_loss: 0.0000e+00 - val_accuracy: 0.0000e+00\n",
      "Epoch 8/200\n",
      "68/68 [==============================] - 1s 16ms/step - loss: 0.6374 - accuracy: 0.6670 - val_loss: 0.0000e+00 - val_accuracy: 0.0000e+00\n",
      "Epoch 9/200\n",
      "68/68 [==============================] - 1s 12ms/step - loss: 0.6387 - accuracy: 0.6670 - val_loss: 0.0000e+00 - val_accuracy: 0.0000e+00\n",
      "Epoch 10/200\n",
      "68/68 [==============================] - 1s 11ms/step - loss: 0.6384 - accuracy: 0.6670 - val_loss: 0.0000e+00 - val_accuracy: 0.0000e+00\n",
      "Epoch 11/200\n",
      "68/68 [==============================] - 1s 11ms/step - loss: 0.6367 - accuracy: 0.6670 - val_loss: 0.0000e+00 - val_accuracy: 0.0000e+00\n",
      "Epoch 12/200\n",
      "68/68 [==============================] - 1s 11ms/step - loss: 0.6380 - accuracy: 0.6670 - val_loss: 0.0000e+00 - val_accuracy: 0.0000e+00\n",
      "Epoch 13/200\n",
      "68/68 [==============================] - 1s 11ms/step - loss: 0.6391 - accuracy: 0.6670 - val_loss: 0.0000e+00 - val_accuracy: 0.0000e+00\n",
      "Epoch 14/200\n",
      "68/68 [==============================] - 1s 12ms/step - loss: 0.6378 - accuracy: 0.6670 - val_loss: 0.0000e+00 - val_accuracy: 0.0000e+00\n",
      "Epoch 15/200\n",
      "68/68 [==============================] - 1s 11ms/step - loss: 0.6374 - accuracy: 0.6670 - val_loss: 0.0000e+00 - val_accuracy: 0.0000e+00\n",
      "Epoch 16/200\n",
      "68/68 [==============================] - 1s 13ms/step - loss: 0.6384 - accuracy: 0.6670 - val_loss: 0.0000e+00 - val_accuracy: 0.0000e+00\n",
      "Epoch 17/200\n",
      "68/68 [==============================] - 1s 12ms/step - loss: 0.6362 - accuracy: 0.6670 - val_loss: 0.0000e+00 - val_accuracy: 0.0000e+00\n",
      "Epoch 18/200\n",
      "68/68 [==============================] - 1s 11ms/step - loss: 0.6391 - accuracy: 0.6670 - val_loss: 0.0000e+00 - val_accuracy: 0.0000e+00\n",
      "Epoch 19/200\n",
      "68/68 [==============================] - 1s 12ms/step - loss: 0.6370 - accuracy: 0.6670 - val_loss: 0.0000e+00 - val_accuracy: 0.0000e+00\n",
      "Epoch 20/200\n",
      "68/68 [==============================] - 1s 11ms/step - loss: 0.6370 - accuracy: 0.6670 - val_loss: 0.0000e+00 - val_accuracy: 0.0000e+00\n",
      "Epoch 21/200\n",
      "68/68 [==============================] - 1s 12ms/step - loss: 0.6379 - accuracy: 0.6670 - val_loss: 0.0000e+00 - val_accuracy: 0.0000e+00\n",
      "Epoch 22/200\n",
      "68/68 [==============================] - 1s 11ms/step - loss: 0.6377 - accuracy: 0.6670 - val_loss: 0.0000e+00 - val_accuracy: 0.0000e+00\n",
      "Epoch 23/200\n",
      "68/68 [==============================] - 1s 11ms/step - loss: 0.6385 - accuracy: 0.6670 - val_loss: 0.0000e+00 - val_accuracy: 0.0000e+00\n",
      "Epoch 24/200\n",
      "68/68 [==============================] - 1s 12ms/step - loss: 0.6377 - accuracy: 0.6670 - val_loss: 0.0000e+00 - val_accuracy: 0.0000e+00\n",
      "Epoch 25/200\n",
      "68/68 [==============================] - 1s 12ms/step - loss: 0.6368 - accuracy: 0.6670 - val_loss: 0.0000e+00 - val_accuracy: 0.0000e+00\n",
      "Epoch 26/200\n",
      "68/68 [==============================] - 1s 12ms/step - loss: 0.6381 - accuracy: 0.6670 - val_loss: 0.0000e+00 - val_accuracy: 0.0000e+00\n",
      "Epoch 27/200\n",
      "68/68 [==============================] - 1s 12ms/step - loss: 0.6378 - accuracy: 0.6670 - val_loss: 0.0000e+00 - val_accuracy: 0.0000e+00\n",
      "Epoch 28/200\n",
      "68/68 [==============================] - 1s 11ms/step - loss: 0.6376 - accuracy: 0.6670 - val_loss: 0.0000e+00 - val_accuracy: 0.0000e+00\n",
      "Epoch 29/200\n",
      "68/68 [==============================] - 1s 11ms/step - loss: 0.6374 - accuracy: 0.6670 - val_loss: 0.0000e+00 - val_accuracy: 0.0000e+00\n",
      "Epoch 30/200\n",
      "68/68 [==============================] - 1s 14ms/step - loss: 0.6378 - accuracy: 0.6670 - val_loss: 0.0000e+00 - val_accuracy: 0.0000e+00\n",
      "Epoch 31/200\n",
      "68/68 [==============================] - 1s 11ms/step - loss: 0.6375 - accuracy: 0.6670 - val_loss: 0.0000e+00 - val_accuracy: 0.0000e+00\n",
      "Epoch 32/200\n",
      "68/68 [==============================] - 1s 12ms/step - loss: 0.6376 - accuracy: 0.6670 - val_loss: 0.0000e+00 - val_accuracy: 0.0000e+00\n",
      "Epoch 33/200\n",
      "68/68 [==============================] - 1s 12ms/step - loss: 0.6373 - accuracy: 0.6670 - val_loss: 0.0000e+00 - val_accuracy: 0.0000e+00\n",
      "Epoch 34/200\n",
      "68/68 [==============================] - 1s 12ms/step - loss: 0.6372 - accuracy: 0.6670 - val_loss: 0.0000e+00 - val_accuracy: 0.0000e+00\n",
      "Epoch 35/200\n",
      "68/68 [==============================] - 1s 11ms/step - loss: 0.6372 - accuracy: 0.6670 - val_loss: 0.0000e+00 - val_accuracy: 0.0000e+00\n",
      "Epoch 36/200\n",
      "68/68 [==============================] - 1s 12ms/step - loss: 0.6375 - accuracy: 0.6670 - val_loss: 0.0000e+00 - val_accuracy: 0.0000e+00\n",
      "Epoch 37/200\n",
      "68/68 [==============================] - 1s 12ms/step - loss: 0.6378 - accuracy: 0.6670 - val_loss: 0.0000e+00 - val_accuracy: 0.0000e+00\n",
      "Epoch 38/200\n",
      "68/68 [==============================] - 1s 11ms/step - loss: 0.6382 - accuracy: 0.6670 - val_loss: 0.0000e+00 - val_accuracy: 0.0000e+00\n",
      "Epoch 39/200\n",
      "68/68 [==============================] - 1s 11ms/step - loss: 0.6368 - accuracy: 0.6670 - val_loss: 0.0000e+00 - val_accuracy: 0.0000e+00\n",
      "Epoch 40/200\n",
      "68/68 [==============================] - 1s 12ms/step - loss: 0.6357 - accuracy: 0.6670 - val_loss: 0.0000e+00 - val_accuracy: 0.0000e+00\n",
      "Epoch 41/200\n",
      "68/68 [==============================] - 1s 11ms/step - loss: 0.6369 - accuracy: 0.6670 - val_loss: 0.0000e+00 - val_accuracy: 0.0000e+00\n",
      "Epoch 42/200\n",
      "68/68 [==============================] - 1s 12ms/step - loss: 0.6374 - accuracy: 0.6670 - val_loss: 0.0000e+00 - val_accuracy: 0.0000e+00\n",
      "Epoch 43/200\n",
      "68/68 [==============================] - 1s 12ms/step - loss: 0.6376 - accuracy: 0.6670 - val_loss: 0.0000e+00 - val_accuracy: 0.0000e+00\n",
      "Epoch 44/200\n",
      "68/68 [==============================] - 1s 15ms/step - loss: 0.6394 - accuracy: 0.6670 - val_loss: 0.0000e+00 - val_accuracy: 0.0000e+00\n",
      "Epoch 45/200\n",
      "68/68 [==============================] - 1s 13ms/step - loss: 0.6356 - accuracy: 0.6670 - val_loss: 0.0000e+00 - val_accuracy: 0.0000e+00\n",
      "Epoch 46/200\n",
      "68/68 [==============================] - 1s 13ms/step - loss: 0.6361 - accuracy: 0.6670 - val_loss: 0.0000e+00 - val_accuracy: 0.0000e+00\n",
      "Epoch 47/200\n",
      "68/68 [==============================] - 1s 15ms/step - loss: 0.6372 - accuracy: 0.6670 - val_loss: 0.0000e+00 - val_accuracy: 0.0000e+00\n",
      "Epoch 48/200\n",
      "68/68 [==============================] - 1s 14ms/step - loss: 0.6372 - accuracy: 0.6670 - val_loss: 0.0000e+00 - val_accuracy: 0.0000e+00\n",
      "Epoch 49/200\n",
      "68/68 [==============================] - 1s 12ms/step - loss: 0.6377 - accuracy: 0.6670 - val_loss: 0.0000e+00 - val_accuracy: 0.0000e+00\n",
      "Epoch 50/200\n",
      "68/68 [==============================] - 1s 11ms/step - loss: 0.6369 - accuracy: 0.6670 - val_loss: 0.0000e+00 - val_accuracy: 0.0000e+00\n",
      "Epoch 51/200\n",
      "68/68 [==============================] - 1s 12ms/step - loss: 0.6389 - accuracy: 0.6670 - val_loss: 0.0000e+00 - val_accuracy: 0.0000e+00\n",
      "Epoch 52/200\n",
      "68/68 [==============================] - 1s 11ms/step - loss: 0.6378 - accuracy: 0.6670 - val_loss: 0.0000e+00 - val_accuracy: 0.0000e+00\n",
      "Epoch 53/200\n",
      "68/68 [==============================] - 1s 12ms/step - loss: 0.6363 - accuracy: 0.6670 - val_loss: 0.0000e+00 - val_accuracy: 0.0000e+00\n",
      "Epoch 54/200\n",
      "68/68 [==============================] - 1s 11ms/step - loss: 0.6371 - accuracy: 0.6670 - val_loss: 0.0000e+00 - val_accuracy: 0.0000e+00\n",
      "Epoch 55/200\n",
      "68/68 [==============================] - 1s 11ms/step - loss: 0.6367 - accuracy: 0.6670 - val_loss: 0.0000e+00 - val_accuracy: 0.0000e+00\n",
      "Epoch 56/200\n",
      "68/68 [==============================] - 1s 11ms/step - loss: 0.6377 - accuracy: 0.6670 - val_loss: 0.0000e+00 - val_accuracy: 0.0000e+00\n",
      "Epoch 57/200\n",
      "68/68 [==============================] - 1s 14ms/step - loss: 0.6373 - accuracy: 0.6670 - val_loss: 0.0000e+00 - val_accuracy: 0.0000e+00\n",
      "Epoch 58/200\n",
      "68/68 [==============================] - 1s 12ms/step - loss: 0.6381 - accuracy: 0.6670 - val_loss: 0.0000e+00 - val_accuracy: 0.0000e+00\n",
      "Epoch 59/200\n",
      "68/68 [==============================] - 1s 12ms/step - loss: 0.6375 - accuracy: 0.6670 - val_loss: 0.0000e+00 - val_accuracy: 0.0000e+00\n",
      "Epoch 60/200\n",
      "68/68 [==============================] - 1s 12ms/step - loss: 0.6369 - accuracy: 0.6670 - val_loss: 0.0000e+00 - val_accuracy: 0.0000e+00\n",
      "Epoch 61/200\n",
      "68/68 [==============================] - 1s 12ms/step - loss: 0.6372 - accuracy: 0.6670 - val_loss: 0.0000e+00 - val_accuracy: 0.0000e+00\n",
      "Epoch 62/200\n",
      "68/68 [==============================] - 1s 12ms/step - loss: 0.6369 - accuracy: 0.6670 - val_loss: 0.0000e+00 - val_accuracy: 0.0000e+00\n",
      "Epoch 63/200\n",
      "68/68 [==============================] - 1s 11ms/step - loss: 0.6370 - accuracy: 0.6670 - val_loss: 0.0000e+00 - val_accuracy: 0.0000e+00\n",
      "Epoch 64/200\n",
      "68/68 [==============================] - 1s 11ms/step - loss: 0.6370 - accuracy: 0.6670 - val_loss: 0.0000e+00 - val_accuracy: 0.0000e+00\n",
      "Epoch 65/200\n",
      "68/68 [==============================] - 1s 11ms/step - loss: 0.6375 - accuracy: 0.6670 - val_loss: 0.0000e+00 - val_accuracy: 0.0000e+00\n",
      "Epoch 66/200\n",
      "68/68 [==============================] - 1s 11ms/step - loss: 0.6384 - accuracy: 0.6670 - val_loss: 0.0000e+00 - val_accuracy: 0.0000e+00\n",
      "Epoch 67/200\n",
      "68/68 [==============================] - 1s 11ms/step - loss: 0.6366 - accuracy: 0.6670 - val_loss: 0.0000e+00 - val_accuracy: 0.0000e+00\n",
      "Epoch 68/200\n",
      "68/68 [==============================] - 1s 11ms/step - loss: 0.6368 - accuracy: 0.6670 - val_loss: 0.0000e+00 - val_accuracy: 0.0000e+00\n",
      "Epoch 69/200\n",
      "68/68 [==============================] - 1s 13ms/step - loss: 0.6370 - accuracy: 0.6670 - val_loss: 0.0000e+00 - val_accuracy: 0.0000e+00\n",
      "Epoch 70/200\n",
      "68/68 [==============================] - 1s 14ms/step - loss: 0.6362 - accuracy: 0.6670 - val_loss: 0.0000e+00 - val_accuracy: 0.0000e+00\n",
      "Epoch 71/200\n",
      "68/68 [==============================] - 1s 13ms/step - loss: 0.6367 - accuracy: 0.6670 - val_loss: 0.0000e+00 - val_accuracy: 0.0000e+00\n",
      "Epoch 72/200\n",
      "68/68 [==============================] - 1s 12ms/step - loss: 0.6378 - accuracy: 0.6670 - val_loss: 0.0000e+00 - val_accuracy: 0.0000e+00\n",
      "Epoch 73/200\n",
      "68/68 [==============================] - 1s 12ms/step - loss: 0.6373 - accuracy: 0.6670 - val_loss: 0.0000e+00 - val_accuracy: 0.0000e+00\n",
      "Epoch 74/200\n",
      "68/68 [==============================] - 1s 12ms/step - loss: 0.6362 - accuracy: 0.6670 - val_loss: 0.0000e+00 - val_accuracy: 0.0000e+00\n",
      "Epoch 75/200\n",
      "68/68 [==============================] - 1s 11ms/step - loss: 0.6382 - accuracy: 0.6670 - val_loss: 0.0000e+00 - val_accuracy: 0.0000e+00\n",
      "Epoch 76/200\n",
      "68/68 [==============================] - 1s 12ms/step - loss: 0.6362 - accuracy: 0.6670 - val_loss: 0.0000e+00 - val_accuracy: 0.0000e+00\n",
      "Epoch 77/200\n",
      "68/68 [==============================] - 1s 12ms/step - loss: 0.6376 - accuracy: 0.6670 - val_loss: 0.0000e+00 - val_accuracy: 0.0000e+00\n",
      "Epoch 78/200\n",
      "68/68 [==============================] - 1s 11ms/step - loss: 0.6364 - accuracy: 0.6670 - val_loss: 0.0000e+00 - val_accuracy: 0.0000e+00\n",
      "Epoch 79/200\n",
      "68/68 [==============================] - 1s 12ms/step - loss: 0.6368 - accuracy: 0.6670 - val_loss: 0.0000e+00 - val_accuracy: 0.0000e+00\n",
      "Epoch 80/200\n",
      "68/68 [==============================] - 1s 11ms/step - loss: 0.6363 - accuracy: 0.6670 - val_loss: 0.0000e+00 - val_accuracy: 0.0000e+00\n",
      "Epoch 81/200\n",
      "68/68 [==============================] - 1s 12ms/step - loss: 0.6371 - accuracy: 0.6670 - val_loss: 0.0000e+00 - val_accuracy: 0.0000e+00\n",
      "Epoch 82/200\n",
      "68/68 [==============================] - 1s 11ms/step - loss: 0.6360 - accuracy: 0.6670 - val_loss: 0.0000e+00 - val_accuracy: 0.0000e+00\n",
      "Epoch 83/200\n",
      "68/68 [==============================] - 1s 12ms/step - loss: 0.6371 - accuracy: 0.6670 - val_loss: 0.0000e+00 - val_accuracy: 0.0000e+00\n",
      "Epoch 84/200\n",
      "68/68 [==============================] - 1s 14ms/step - loss: 0.6367 - accuracy: 0.6670 - val_loss: 0.0000e+00 - val_accuracy: 0.0000e+00\n",
      "Epoch 85/200\n",
      "68/68 [==============================] - 1s 12ms/step - loss: 0.6370 - accuracy: 0.6670 - val_loss: 0.0000e+00 - val_accuracy: 0.0000e+00\n",
      "Epoch 86/200\n",
      "68/68 [==============================] - 1s 11ms/step - loss: 0.6371 - accuracy: 0.6670 - val_loss: 0.0000e+00 - val_accuracy: 0.0000e+00\n",
      "Epoch 87/200\n",
      "68/68 [==============================] - 1s 13ms/step - loss: 0.6378 - accuracy: 0.6670 - val_loss: 0.0000e+00 - val_accuracy: 0.0000e+00\n",
      "Epoch 88/200\n",
      "68/68 [==============================] - 1s 14ms/step - loss: 0.6367 - accuracy: 0.6670 - val_loss: 0.0000e+00 - val_accuracy: 0.0000e+00\n",
      "Epoch 89/200\n",
      "68/68 [==============================] - 1s 12ms/step - loss: 0.6365 - accuracy: 0.6670 - val_loss: 0.0000e+00 - val_accuracy: 0.0000e+00\n",
      "Epoch 90/200\n",
      "68/68 [==============================] - 1s 11ms/step - loss: 0.6366 - accuracy: 0.6670 - val_loss: 0.0000e+00 - val_accuracy: 0.0000e+00\n",
      "Epoch 91/200\n",
      "68/68 [==============================] - 1s 12ms/step - loss: 0.6359 - accuracy: 0.6670 - val_loss: 0.0000e+00 - val_accuracy: 0.0000e+00\n",
      "Epoch 92/200\n",
      "68/68 [==============================] - 1s 12ms/step - loss: 0.6381 - accuracy: 0.6670 - val_loss: 0.0000e+00 - val_accuracy: 0.0000e+00\n",
      "Epoch 93/200\n",
      "68/68 [==============================] - 1s 12ms/step - loss: 0.6367 - accuracy: 0.6670 - val_loss: 0.0000e+00 - val_accuracy: 0.0000e+00\n",
      "Epoch 94/200\n",
      "68/68 [==============================] - 1s 11ms/step - loss: 0.6372 - accuracy: 0.6670 - val_loss: 0.0000e+00 - val_accuracy: 0.0000e+00\n",
      "Epoch 95/200\n",
      "68/68 [==============================] - 1s 12ms/step - loss: 0.6365 - accuracy: 0.6670 - val_loss: 0.0000e+00 - val_accuracy: 0.0000e+00\n",
      "Epoch 96/200\n",
      "68/68 [==============================] - 1s 11ms/step - loss: 0.6370 - accuracy: 0.6670 - val_loss: 0.0000e+00 - val_accuracy: 0.0000e+00\n",
      "Epoch 97/200\n",
      "68/68 [==============================] - 1s 14ms/step - loss: 0.6378 - accuracy: 0.6670 - val_loss: 0.0000e+00 - val_accuracy: 0.0000e+00\n",
      "Epoch 98/200\n",
      "68/68 [==============================] - 1s 12ms/step - loss: 0.6371 - accuracy: 0.6670 - val_loss: 0.0000e+00 - val_accuracy: 0.0000e+00\n",
      "Epoch 99/200\n",
      "68/68 [==============================] - 1s 12ms/step - loss: 0.6363 - accuracy: 0.6670 - val_loss: 0.0000e+00 - val_accuracy: 0.0000e+00\n",
      "Epoch 100/200\n",
      "68/68 [==============================] - 1s 12ms/step - loss: 0.6367 - accuracy: 0.6670 - val_loss: 0.0000e+00 - val_accuracy: 0.0000e+00\n",
      "Epoch 101/200\n",
      "68/68 [==============================] - 1s 11ms/step - loss: 0.6369 - accuracy: 0.6670 - val_loss: 0.0000e+00 - val_accuracy: 0.0000e+00\n",
      "Epoch 102/200\n",
      "68/68 [==============================] - 1s 11ms/step - loss: 0.6376 - accuracy: 0.6670 - val_loss: 0.0000e+00 - val_accuracy: 0.0000e+00\n",
      "Epoch 103/200\n",
      "68/68 [==============================] - 1s 12ms/step - loss: 0.6368 - accuracy: 0.6670 - val_loss: 0.0000e+00 - val_accuracy: 0.0000e+00\n",
      "Epoch 104/200\n",
      "68/68 [==============================] - 1s 12ms/step - loss: 0.6367 - accuracy: 0.6670 - val_loss: 0.0000e+00 - val_accuracy: 0.0000e+00\n",
      "Epoch 105/200\n",
      "68/68 [==============================] - 1s 12ms/step - loss: 0.6378 - accuracy: 0.6670 - val_loss: 0.0000e+00 - val_accuracy: 0.0000e+00\n",
      "Epoch 106/200\n",
      "68/68 [==============================] - 1s 11ms/step - loss: 0.6366 - accuracy: 0.6670 - val_loss: 0.0000e+00 - val_accuracy: 0.0000e+00\n",
      "Epoch 107/200\n",
      "68/68 [==============================] - 1s 14ms/step - loss: 0.6357 - accuracy: 0.6670 - val_loss: 0.0000e+00 - val_accuracy: 0.0000e+00\n",
      "Epoch 108/200\n",
      "68/68 [==============================] - 1s 11ms/step - loss: 0.6371 - accuracy: 0.6670 - val_loss: 0.0000e+00 - val_accuracy: 0.0000e+00\n",
      "Epoch 109/200\n",
      "68/68 [==============================] - 1s 11ms/step - loss: 0.6364 - accuracy: 0.6670 - val_loss: 0.0000e+00 - val_accuracy: 0.0000e+00\n",
      "Epoch 110/200\n",
      "68/68 [==============================] - 1s 11ms/step - loss: 0.6374 - accuracy: 0.6670 - val_loss: 0.0000e+00 - val_accuracy: 0.0000e+00\n",
      "Epoch 111/200\n",
      "68/68 [==============================] - 1s 14ms/step - loss: 0.6361 - accuracy: 0.6670 - val_loss: 0.0000e+00 - val_accuracy: 0.0000e+00\n",
      "Epoch 112/200\n",
      "68/68 [==============================] - 1s 11ms/step - loss: 0.6376 - accuracy: 0.6670 - val_loss: 0.0000e+00 - val_accuracy: 0.0000e+00\n",
      "Epoch 113/200\n",
      "68/68 [==============================] - 1s 11ms/step - loss: 0.6363 - accuracy: 0.6670 - val_loss: 0.0000e+00 - val_accuracy: 0.0000e+00\n",
      "Epoch 114/200\n",
      "68/68 [==============================] - 1s 11ms/step - loss: 0.6373 - accuracy: 0.6670 - val_loss: 0.0000e+00 - val_accuracy: 0.0000e+00\n",
      "Epoch 115/200\n",
      "68/68 [==============================] - 1s 11ms/step - loss: 0.6378 - accuracy: 0.6670 - val_loss: 0.0000e+00 - val_accuracy: 0.0000e+00\n",
      "Epoch 116/200\n",
      "68/68 [==============================] - 1s 12ms/step - loss: 0.6369 - accuracy: 0.6670 - val_loss: 0.0000e+00 - val_accuracy: 0.0000e+00\n",
      "Epoch 117/200\n",
      "68/68 [==============================] - 1s 12ms/step - loss: 0.6367 - accuracy: 0.6670 - val_loss: 0.0000e+00 - val_accuracy: 0.0000e+00\n",
      "Epoch 118/200\n",
      "68/68 [==============================] - 1s 11ms/step - loss: 0.6375 - accuracy: 0.6670 - val_loss: 0.0000e+00 - val_accuracy: 0.0000e+00\n",
      "Epoch 119/200\n",
      "68/68 [==============================] - 1s 11ms/step - loss: 0.6368 - accuracy: 0.6670 - val_loss: 0.0000e+00 - val_accuracy: 0.0000e+00\n",
      "Epoch 120/200\n",
      "68/68 [==============================] - 1s 11ms/step - loss: 0.6366 - accuracy: 0.6670 - val_loss: 0.0000e+00 - val_accuracy: 0.0000e+00\n",
      "Epoch 121/200\n",
      "68/68 [==============================] - 1s 12ms/step - loss: 0.6376 - accuracy: 0.6670 - val_loss: 0.0000e+00 - val_accuracy: 0.0000e+00\n",
      "Epoch 122/200\n",
      "68/68 [==============================] - 1s 11ms/step - loss: 0.6368 - accuracy: 0.6670 - val_loss: 0.0000e+00 - val_accuracy: 0.0000e+00\n",
      "Epoch 123/200\n",
      "68/68 [==============================] - 1s 12ms/step - loss: 0.6370 - accuracy: 0.6670 - val_loss: 0.0000e+00 - val_accuracy: 0.0000e+00\n",
      "Epoch 124/200\n",
      "68/68 [==============================] - 1s 13ms/step - loss: 0.6368 - accuracy: 0.6670 - val_loss: 0.0000e+00 - val_accuracy: 0.0000e+00\n",
      "Epoch 125/200\n",
      "68/68 [==============================] - 1s 13ms/step - loss: 0.6362 - accuracy: 0.6670 - val_loss: 0.0000e+00 - val_accuracy: 0.0000e+00\n",
      "Epoch 126/200\n",
      "68/68 [==============================] - 1s 15ms/step - loss: 0.6368 - accuracy: 0.6670 - val_loss: 0.0000e+00 - val_accuracy: 0.0000e+00\n",
      "Epoch 127/200\n",
      "68/68 [==============================] - 1s 14ms/step - loss: 0.6370 - accuracy: 0.6670 - val_loss: 0.0000e+00 - val_accuracy: 0.0000e+00\n",
      "Epoch 128/200\n",
      "68/68 [==============================] - 1s 11ms/step - loss: 0.6372 - accuracy: 0.6670 - val_loss: 0.0000e+00 - val_accuracy: 0.0000e+00\n",
      "Epoch 129/200\n",
      "68/68 [==============================] - 1s 12ms/step - loss: 0.6366 - accuracy: 0.6670 - val_loss: 0.0000e+00 - val_accuracy: 0.0000e+00\n",
      "Epoch 130/200\n",
      "68/68 [==============================] - 1s 12ms/step - loss: 0.6361 - accuracy: 0.6670 - val_loss: 0.0000e+00 - val_accuracy: 0.0000e+00\n",
      "Epoch 131/200\n",
      "68/68 [==============================] - 1s 12ms/step - loss: 0.6370 - accuracy: 0.6670 - val_loss: 0.0000e+00 - val_accuracy: 0.0000e+00\n",
      "Epoch 132/200\n",
      "68/68 [==============================] - 1s 11ms/step - loss: 0.6365 - accuracy: 0.6670 - val_loss: 0.0000e+00 - val_accuracy: 0.0000e+00\n",
      "Epoch 133/200\n",
      "68/68 [==============================] - 1s 11ms/step - loss: 0.6368 - accuracy: 0.6670 - val_loss: 0.0000e+00 - val_accuracy: 0.0000e+00\n",
      "Epoch 134/200\n",
      "68/68 [==============================] - 1s 12ms/step - loss: 0.6362 - accuracy: 0.6670 - val_loss: 0.0000e+00 - val_accuracy: 0.0000e+00\n",
      "Epoch 135/200\n",
      "68/68 [==============================] - 1s 12ms/step - loss: 0.6366 - accuracy: 0.6670 - val_loss: 0.0000e+00 - val_accuracy: 0.0000e+00\n",
      "Epoch 136/200\n",
      "68/68 [==============================] - 1s 11ms/step - loss: 0.6368 - accuracy: 0.6670 - val_loss: 0.0000e+00 - val_accuracy: 0.0000e+00\n",
      "Epoch 137/200\n",
      "68/68 [==============================] - 1s 12ms/step - loss: 0.6369 - accuracy: 0.6670 - val_loss: 0.0000e+00 - val_accuracy: 0.0000e+00\n",
      "Epoch 138/200\n",
      "68/68 [==============================] - 1s 14ms/step - loss: 0.6371 - accuracy: 0.6670 - val_loss: 0.0000e+00 - val_accuracy: 0.0000e+00\n",
      "Epoch 139/200\n",
      "68/68 [==============================] - 1s 12ms/step - loss: 0.6366 - accuracy: 0.6670 - val_loss: 0.0000e+00 - val_accuracy: 0.0000e+00\n",
      "Epoch 140/200\n",
      "68/68 [==============================] - 1s 12ms/step - loss: 0.6374 - accuracy: 0.6670 - val_loss: 0.0000e+00 - val_accuracy: 0.0000e+00\n",
      "Epoch 141/200\n",
      "68/68 [==============================] - 1s 12ms/step - loss: 0.6371 - accuracy: 0.6670 - val_loss: 0.0000e+00 - val_accuracy: 0.0000e+00\n",
      "Epoch 142/200\n",
      "68/68 [==============================] - 1s 12ms/step - loss: 0.6375 - accuracy: 0.6670 - val_loss: 0.0000e+00 - val_accuracy: 0.0000e+00\n",
      "Epoch 143/200\n",
      "68/68 [==============================] - 1s 11ms/step - loss: 0.6370 - accuracy: 0.6670 - val_loss: 0.0000e+00 - val_accuracy: 0.0000e+00\n",
      "Epoch 144/200\n",
      "68/68 [==============================] - 1s 13ms/step - loss: 0.6367 - accuracy: 0.6670 - val_loss: 0.0000e+00 - val_accuracy: 0.0000e+00\n",
      "Epoch 145/200\n",
      "68/68 [==============================] - 1s 14ms/step - loss: 0.6367 - accuracy: 0.6670 - val_loss: 0.0000e+00 - val_accuracy: 0.0000e+00\n",
      "Epoch 146/200\n",
      "68/68 [==============================] - 1s 12ms/step - loss: 0.6366 - accuracy: 0.6670 - val_loss: 0.0000e+00 - val_accuracy: 0.0000e+00\n",
      "Epoch 147/200\n",
      "68/68 [==============================] - 1s 11ms/step - loss: 0.6361 - accuracy: 0.6670 - val_loss: 0.0000e+00 - val_accuracy: 0.0000e+00\n",
      "Epoch 148/200\n",
      "68/68 [==============================] - 1s 12ms/step - loss: 0.6374 - accuracy: 0.6670 - val_loss: 0.0000e+00 - val_accuracy: 0.0000e+00\n",
      "Epoch 149/200\n",
      "68/68 [==============================] - 1s 11ms/step - loss: 0.6362 - accuracy: 0.6670 - val_loss: 0.0000e+00 - val_accuracy: 0.0000e+00\n",
      "Epoch 150/200\n",
      "68/68 [==============================] - 1s 11ms/step - loss: 0.6360 - accuracy: 0.6670 - val_loss: 0.0000e+00 - val_accuracy: 0.0000e+00\n",
      "Epoch 151/200\n",
      "68/68 [==============================] - 1s 14ms/step - loss: 0.6365 - accuracy: 0.6670 - val_loss: 0.0000e+00 - val_accuracy: 0.0000e+00\n",
      "Epoch 152/200\n",
      "68/68 [==============================] - 1s 11ms/step - loss: 0.6372 - accuracy: 0.6670 - val_loss: 0.0000e+00 - val_accuracy: 0.0000e+00\n",
      "Epoch 153/200\n",
      "68/68 [==============================] - 1s 11ms/step - loss: 0.6364 - accuracy: 0.6670 - val_loss: 0.0000e+00 - val_accuracy: 0.0000e+00\n",
      "Epoch 154/200\n",
      "68/68 [==============================] - 1s 11ms/step - loss: 0.6365 - accuracy: 0.6670 - val_loss: 0.0000e+00 - val_accuracy: 0.0000e+00\n",
      "Epoch 155/200\n",
      "68/68 [==============================] - 1s 12ms/step - loss: 0.6373 - accuracy: 0.6670 - val_loss: 0.0000e+00 - val_accuracy: 0.0000e+00\n",
      "Epoch 156/200\n",
      "68/68 [==============================] - 1s 12ms/step - loss: 0.6372 - accuracy: 0.6670 - val_loss: 0.0000e+00 - val_accuracy: 0.0000e+00\n",
      "Epoch 157/200\n",
      "68/68 [==============================] - 1s 11ms/step - loss: 0.6370 - accuracy: 0.6670 - val_loss: 0.0000e+00 - val_accuracy: 0.0000e+00\n",
      "Epoch 158/200\n",
      "68/68 [==============================] - 1s 12ms/step - loss: 0.6366 - accuracy: 0.6670 - val_loss: 0.0000e+00 - val_accuracy: 0.0000e+00\n",
      "Epoch 159/200\n",
      "68/68 [==============================] - 1s 11ms/step - loss: 0.6358 - accuracy: 0.6670 - val_loss: 0.0000e+00 - val_accuracy: 0.0000e+00\n",
      "Epoch 160/200\n",
      "68/68 [==============================] - 1s 12ms/step - loss: 0.6366 - accuracy: 0.6670 - val_loss: 0.0000e+00 - val_accuracy: 0.0000e+00\n",
      "Epoch 161/200\n",
      "68/68 [==============================] - 1s 12ms/step - loss: 0.6360 - accuracy: 0.6670 - val_loss: 0.0000e+00 - val_accuracy: 0.0000e+00\n",
      "Epoch 162/200\n",
      "68/68 [==============================] - 1s 11ms/step - loss: 0.6374 - accuracy: 0.6670 - val_loss: 0.0000e+00 - val_accuracy: 0.0000e+00\n",
      "Epoch 163/200\n",
      "68/68 [==============================] - 1s 12ms/step - loss: 0.6368 - accuracy: 0.6670 - val_loss: 0.0000e+00 - val_accuracy: 0.0000e+00\n",
      "Epoch 164/200\n",
      "68/68 [==============================] - 1s 13ms/step - loss: 0.6364 - accuracy: 0.6670 - val_loss: 0.0000e+00 - val_accuracy: 0.0000e+00\n",
      "Epoch 165/200\n",
      "68/68 [==============================] - 1s 18ms/step - loss: 0.6363 - accuracy: 0.6670 - val_loss: 0.0000e+00 - val_accuracy: 0.0000e+00\n",
      "Epoch 166/200\n",
      "68/68 [==============================] - 1s 12ms/step - loss: 0.6362 - accuracy: 0.6670 - val_loss: 0.0000e+00 - val_accuracy: 0.0000e+00\n",
      "Epoch 167/200\n",
      "68/68 [==============================] - 1s 12ms/step - loss: 0.6366 - accuracy: 0.6670 - val_loss: 0.0000e+00 - val_accuracy: 0.0000e+00\n",
      "Epoch 168/200\n",
      "68/68 [==============================] - 1s 11ms/step - loss: 0.6369 - accuracy: 0.6670 - val_loss: 0.0000e+00 - val_accuracy: 0.0000e+00\n",
      "Epoch 169/200\n",
      "68/68 [==============================] - 1s 11ms/step - loss: 0.6368 - accuracy: 0.6670 - val_loss: 0.0000e+00 - val_accuracy: 0.0000e+00\n",
      "Epoch 170/200\n",
      "68/68 [==============================] - 1s 12ms/step - loss: 0.6375 - accuracy: 0.6670 - val_loss: 0.0000e+00 - val_accuracy: 0.0000e+00\n",
      "Epoch 171/200\n",
      "68/68 [==============================] - 1s 11ms/step - loss: 0.6366 - accuracy: 0.6670 - val_loss: 0.0000e+00 - val_accuracy: 0.0000e+00\n",
      "Epoch 172/200\n",
      "68/68 [==============================] - 1s 12ms/step - loss: 0.6371 - accuracy: 0.6670 - val_loss: 0.0000e+00 - val_accuracy: 0.0000e+00\n",
      "Epoch 173/200\n",
      "68/68 [==============================] - 1s 12ms/step - loss: 0.6366 - accuracy: 0.6670 - val_loss: 0.0000e+00 - val_accuracy: 0.0000e+00\n",
      "Epoch 174/200\n",
      "68/68 [==============================] - 1s 11ms/step - loss: 0.6370 - accuracy: 0.6670 - val_loss: 0.0000e+00 - val_accuracy: 0.0000e+00\n",
      "Epoch 175/200\n",
      "68/68 [==============================] - 1s 12ms/step - loss: 0.6373 - accuracy: 0.6670 - val_loss: 0.0000e+00 - val_accuracy: 0.0000e+00\n",
      "Epoch 176/200\n",
      "68/68 [==============================] - 1s 11ms/step - loss: 0.6366 - accuracy: 0.6670 - val_loss: 0.0000e+00 - val_accuracy: 0.0000e+00\n",
      "Epoch 177/200\n",
      "68/68 [==============================] - 1s 12ms/step - loss: 0.6368 - accuracy: 0.6670 - val_loss: 0.0000e+00 - val_accuracy: 0.0000e+00\n",
      "Epoch 178/200\n",
      "68/68 [==============================] - 1s 14ms/step - loss: 0.6368 - accuracy: 0.6670 - val_loss: 0.0000e+00 - val_accuracy: 0.0000e+00\n",
      "Epoch 179/200\n",
      "68/68 [==============================] - 1s 11ms/step - loss: 0.6363 - accuracy: 0.6670 - val_loss: 0.0000e+00 - val_accuracy: 0.0000e+00\n",
      "Epoch 180/200\n",
      "68/68 [==============================] - 1s 12ms/step - loss: 0.6369 - accuracy: 0.6670 - val_loss: 0.0000e+00 - val_accuracy: 0.0000e+00\n",
      "Epoch 181/200\n",
      "68/68 [==============================] - 1s 11ms/step - loss: 0.6373 - accuracy: 0.6670 - val_loss: 0.0000e+00 - val_accuracy: 0.0000e+00\n",
      "Epoch 182/200\n",
      "68/68 [==============================] - 1s 13ms/step - loss: 0.6367 - accuracy: 0.6670 - val_loss: 0.0000e+00 - val_accuracy: 0.0000e+00\n",
      "Epoch 183/200\n",
      "68/68 [==============================] - 1s 15ms/step - loss: 0.6361 - accuracy: 0.6670 - val_loss: 0.0000e+00 - val_accuracy: 0.0000e+00\n",
      "Epoch 184/200\n",
      "68/68 [==============================] - 1s 12ms/step - loss: 0.6367 - accuracy: 0.6670 - val_loss: 0.0000e+00 - val_accuracy: 0.0000e+00\n",
      "Epoch 185/200\n",
      "68/68 [==============================] - 1s 11ms/step - loss: 0.6365 - accuracy: 0.6670 - val_loss: 0.0000e+00 - val_accuracy: 0.0000e+00\n",
      "Epoch 186/200\n",
      "68/68 [==============================] - 1s 11ms/step - loss: 0.6366 - accuracy: 0.6670 - val_loss: 0.0000e+00 - val_accuracy: 0.0000e+00\n",
      "Epoch 187/200\n",
      "68/68 [==============================] - 1s 12ms/step - loss: 0.6369 - accuracy: 0.6670 - val_loss: 0.0000e+00 - val_accuracy: 0.0000e+00\n",
      "Epoch 188/200\n",
      "68/68 [==============================] - 1s 11ms/step - loss: 0.6376 - accuracy: 0.6670 - val_loss: 0.0000e+00 - val_accuracy: 0.0000e+00\n",
      "Epoch 189/200\n",
      "68/68 [==============================] - 1s 12ms/step - loss: 0.6369 - accuracy: 0.6670 - val_loss: 0.0000e+00 - val_accuracy: 0.0000e+00\n",
      "Epoch 190/200\n",
      "68/68 [==============================] - 1s 11ms/step - loss: 0.6361 - accuracy: 0.6670 - val_loss: 0.0000e+00 - val_accuracy: 0.0000e+00\n",
      "Epoch 191/200\n",
      "68/68 [==============================] - 1s 14ms/step - loss: 0.6374 - accuracy: 0.6670 - val_loss: 0.0000e+00 - val_accuracy: 0.0000e+00\n",
      "Epoch 192/200\n",
      "68/68 [==============================] - 1s 11ms/step - loss: 0.6375 - accuracy: 0.6670 - val_loss: 0.0000e+00 - val_accuracy: 0.0000e+00\n",
      "Epoch 193/200\n",
      "68/68 [==============================] - 1s 12ms/step - loss: 0.6366 - accuracy: 0.6670 - val_loss: 0.0000e+00 - val_accuracy: 0.0000e+00\n",
      "Epoch 194/200\n",
      "68/68 [==============================] - 1s 11ms/step - loss: 0.6373 - accuracy: 0.6670 - val_loss: 0.0000e+00 - val_accuracy: 0.0000e+00\n",
      "Epoch 195/200\n",
      "68/68 [==============================] - 1s 11ms/step - loss: 0.6377 - accuracy: 0.6670 - val_loss: 0.0000e+00 - val_accuracy: 0.0000e+00\n",
      "Epoch 196/200\n",
      "68/68 [==============================] - 1s 11ms/step - loss: 0.6364 - accuracy: 0.6670 - val_loss: 0.0000e+00 - val_accuracy: 0.0000e+00\n",
      "Epoch 197/200\n",
      "68/68 [==============================] - 1s 11ms/step - loss: 0.6367 - accuracy: 0.6670 - val_loss: 0.0000e+00 - val_accuracy: 0.0000e+00\n",
      "Epoch 198/200\n",
      "68/68 [==============================] - 1s 11ms/step - loss: 0.6371 - accuracy: 0.6670 - val_loss: 0.0000e+00 - val_accuracy: 0.0000e+00\n",
      "Epoch 199/200\n",
      "68/68 [==============================] - 1s 12ms/step - loss: 0.6369 - accuracy: 0.6670 - val_loss: 0.0000e+00 - val_accuracy: 0.0000e+00\n",
      "Epoch 200/200\n",
      "68/68 [==============================] - 1s 11ms/step - loss: 0.6373 - accuracy: 0.6670 - val_loss: 0.0000e+00 - val_accuracy: 0.0000e+00\n"
     ]
    }
   ],
   "source": [
    "history=model.fit(lda_data_train, y_train,\n",
    "           batch_size=batch_size,\n",
    "           epochs=200,\n",
    "           validation_data=[lda_data_test, y_test])"
   ]
  },
  {
   "cell_type": "markdown",
   "id": "f1a37171",
   "metadata": {
    "papermill": {
     "duration": 1.06122,
     "end_time": "2022-02-09T06:22:06.120991",
     "exception": false,
     "start_time": "2022-02-09T06:22:05.059771",
     "status": "completed"
    },
    "tags": []
   },
   "source": [
    "# **Thank you for taking the time to go through our submission. Any feedback is always welcome.**"
   ]
  }
 ],
 "metadata": {
  "kernelspec": {
   "display_name": "Python 3",
   "language": "python",
   "name": "python3"
  },
  "language_info": {
   "codemirror_mode": {
    "name": "ipython",
    "version": 3
   },
   "file_extension": ".py",
   "mimetype": "text/x-python",
   "name": "python",
   "nbconvert_exporter": "python",
   "pygments_lexer": "ipython3",
   "version": "3.7.12"
  },
  "papermill": {
   "default_parameters": {},
   "duration": 3633.09373,
   "end_time": "2022-02-09T06:22:10.316159",
   "environment_variables": {},
   "exception": null,
   "input_path": "__notebook__.ipynb",
   "output_path": "__notebook__.ipynb",
   "parameters": {},
   "start_time": "2022-02-09T05:21:37.222429",
   "version": "2.3.3"
  }
 },
 "nbformat": 4,
 "nbformat_minor": 5
}
